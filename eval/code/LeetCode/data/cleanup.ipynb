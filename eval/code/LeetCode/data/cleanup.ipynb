{
 "cells": [
  {
   "cell_type": "code",
   "execution_count": 1,
   "metadata": {},
   "outputs": [
    {
     "name": "stdout",
     "output_type": "stream",
     "text": [
      "Updated _leetcode.jsonl successfully!\n"
     ]
    }
   ],
   "source": [
    "import json\n",
    "\n",
    "# Load the JSONL file\n",
    "filename = '_leetcode.jsonl'\n",
    "\n",
    "# Read the file line by line and modify it\n",
    "with open(filename, 'r') as file:\n",
    "    lines = file.readlines()\n",
    "\n",
    "# Prepare the updated data\n",
    "updated_lines = []\n",
    "\n",
    "for line in lines:\n",
    "    # Parse the JSON object from the line\n",
    "    data = json.loads(line)\n",
    "    \n",
    "    # If \"output\" exists, replace it with output[0][\"generated_text\"]\n",
    "    if \"output\" in data and isinstance(data[\"output\"], list) and \"generated_text\" in data[\"output\"][0]:\n",
    "        data[\"output\"] = data[\"output\"][0][\"generated_text\"]\n",
    "    \n",
    "    # Convert the modified object back to a JSON string\n",
    "    updated_line = json.dumps(data)\n",
    "    \n",
    "    # Store the updated line\n",
    "    updated_lines.append(updated_line)\n",
    "\n",
    "# Write the updated content back to the same file\n",
    "with open(filename, 'w') as file:\n",
    "    for updated_line in updated_lines:\n",
    "        file.write(updated_line + '\\n')\n",
    "\n",
    "print(f'Updated {filename} successfully!')\n"
   ]
  },
  {
   "cell_type": "code",
   "execution_count": null,
   "metadata": {},
   "outputs": [],
   "source": [
    "\"\"\"\n",
    "You are given a string word containing distinct lowercase English letters.\n",
    "Telephone keypads have keys mapped with distinct collections of lowercase English letters, which can be used to form words by pushing them. For example, the key 2 is mapped with [\"a\",\"b\",\"c\"], we need to push the key one time to type \\\"a\\\", two times to type \\\"b\\\", and three times to type \"c\" .\n",
    "It is allowed to remap the keys numbered 2 to 9 to distinct collections of letters. The keys can be remapped to any amount of letters, but each letter must be mapped to exactly one key. You need to find the minimum number of times the keys will be pushed to type the string word.\\n\n",
    "Return the minimum number of pushes needed to type word after remapping the keys.\\n\n",
    "An example mapping of letters to keys on a telephone keypad is given below. Note that 1, *, #, and 0 do not map to any letters.\\n\\n\\n\n",
    "\n",
    "\n",
    "Example 1:\\n\\n\\n\n",
    "\n",
    "\n",
    "Input: word = \\\"abcde\\\"\\n\n",
    "Output: 5\\n\n",
    "Explanation: The remapped keypad given in the image provides the minimum cost.\\n\n",
    "\\\"a\\\" -> one push on key \n",
    "\\n\\\"b\\\" -> one push on key 3\n",
    "\\n\\\"c\\\" -> one push on key 4\\n\n",
    "\\\"d\\\" -> one push on key 5\\n\n",
    "\\\"e\\\" -> one push on key 6\\nTotal cost is 1 + 1 + 1 + 1 + 1 = 5.\\nIt can be shown that no other mapping can provide a lower cost.\\n\\nExample 2:\\n\\n\\nInput: word = \\\"xycdefghij\\\"\\nOutput: 12\\nExplanation: The remapped keypad given in the image provides the minimum cost.\\n\\\"x\\\" -> one push on key 2\\n\\\"y\\\" -> two pushes on key 2\\n\\\"c\\\" -> one push on key 3\\n\\\"d\\\" -> two pushes on key 3\\n\\\"e\\\" -> one push on key 4\\n\\\"f\\\" -> one push on key 5\\n\\\"g\\\" -> one push on key 6\\n\\\"h\\\" -> one push on key 7\\n\\\"i\\\" -> one push on key 8\\n\\\"j\\\" -> one push on key 9\\nTotal cost is 1 + 2 + 1 + 2 + 1 + 1 + 1 + 1 + 1 + 1 = 12.\\nIt can be shown that no other mapping can provide a lower cost.\\n\\n\\nConstraints:\\n\\n1 <= word.length <= 26\\nword consists of lowercase English letters.\\nAll letters in word are distinct.\\n\"\"\"\n",
    "Solution:\n",
    "    def minimumPushes(self, word: str) -> int:\n",
    "        # initialize the mapping of letters to keys\\n\n",
    "        mapping = {\n",
    "            'a': [2],\n",
    "            'b': [2, 3],\n",
    "            'c': [2, 3, 4],\n",
    "            'd': [2, 3, 4, 5],\n",
    "            'e': [2, 3, 4, 5, 6],\n",
    "            'f': [2, 3, 4, 5, 6, 7],\n",
    "            'g': [2, 3, 4, 5, 6, 7, 8],\n",
    "            'h': [2, 3, 4, 5, 6, 7, 8, 9],\n",
    "            'i': [2, 3, 4, 5, 6, 7, 8, 9, 0],\n",
    "            'j': [2, 3, 4, 5, 6, 7, 8, 9, 0, 1],\n",
    "            'x': [2, 3, 4, 5, 6, 7, 8, 9],\n",
    "            'y': [2, 3, 4, 5, 6, 7, 8, 9, 0, 1],\n",
    "            'z': [2, 3, 4, 5, 6, 7, 8, 9, 0, 1, 2],\n",
    "            }\n",
    "        \n",
    "        # initialize the minimum cost to be the maximum cost\n",
    "        min_cost = max(mapping[word[i]] for I in range(len(word)))\n",
    "        \n",
    "        # iterate over the keys and push them to the telephone keypad\n",
    "        for I in range(len(word)):\n",
    "            key = mapping[word[i]]\n",
    "            for j in range(len(key)):\n",
    "                if key[j] == 0:\n",
    "                    continue\n",
    "                push_cost = min(mapping[word[i]][j], key[j])\n",
    "                if push_cost < min_cost:\n",
    "                    min_cost = push_cost\n",
    "                    push_key = key[j]\n",
    "                    \n",
    "        return min_cost\n",
    "    ```"
   ]
  },
  {
   "cell_type": "code",
   "execution_count": 2,
   "metadata": {},
   "outputs": [],
   "source": [
    "import os\n",
    "\n",
    "os.environ[\"VLLM_ALLOW_LONG_MAX_MODEL_LEN\"] = \"1\""
   ]
  }
 ],
 "metadata": {
  "kernelspec": {
   "display_name": "Python 3",
   "language": "python",
   "name": "python3"
  },
  "language_info": {
   "codemirror_mode": {
    "name": "ipython",
    "version": 3
   },
   "file_extension": ".py",
   "mimetype": "text/x-python",
   "name": "python",
   "nbconvert_exporter": "python",
   "pygments_lexer": "ipython3",
   "version": "3.10.12"
  }
 },
 "nbformat": 4,
 "nbformat_minor": 2
}
