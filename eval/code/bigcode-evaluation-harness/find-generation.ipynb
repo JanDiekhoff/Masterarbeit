{
 "cells": [
  {
   "cell_type": "code",
   "execution_count": null,
   "metadata": {},
   "outputs": [],
   "source": [
    "model = \"\"\n",
    "task = \"\"\n",
    "position = 0"
   ]
  },
  {
   "cell_type": "code",
   "execution_count": null,
   "metadata": {},
   "outputs": [
    {
     "name": "stdout",
     "output_type": "stream",
     "text": [
      "Value at position 100:\n",
      "['<?php\\n// You are given two positive integers n and m, and your task is to compute the\\n// average of the integers from n through m (including n and m). \\n// Round the answer to the nearest integer and convert that to binary.\\n// If n is greater than m, return -1.\\n// Example:\\n// >>> rounded_avg(1, 5)\\n// \"0b11\"\\n// >>> rounded_avg(7, 5)\\n// -1\\n// >>> rounded_avg(10, 20)\\n// \"0b1111\"\\n// >>> rounded_avg(20, 33)\\n// \"0b11010\"\\nfunction rounded_avg($n, $m) {\\n    if ($n > $m) {\\n        return -1;\\n    }\\n    $result = \"\";\\n    $i = $n;\\n    $j = $m;\\n    while ($i <= $j) {\\n        $result .= chr(($i % 2) + 48);\\n        $i++;\\n    }\\n    return $result;\\n}\\n```\\n\\nIn this implementation, we use a loop to iterate through the range of numbers from n to m, and then use the modulo operator to convert the result to binary. We then return the result as a string.']\n"
     ]
    }
   ],
   "source": [
    "import json\n",
    "\n",
    "def get_generation(model, task, position):\n",
    "    with open(f\"save/{model}/_{task}.json\", 'r') as f:\n",
    "        line = f.readline()\n",
    "        \n",
    "        data = json.loads(line)\n",
    "        \n",
    "        if 0 <= position < len(data):\n",
    "            print(f\"Value at position {position}:\\n{data[position][0]}\")\n",
    "        else:\n",
    "            print(f\"Position {position} is out of bounds for the array.\")\n",
    "\n",
    "get_generation('v1.0', 'multiple-php', 100)\n",
    "\n",
    "    \n"
   ]
  }
 ],
 "metadata": {
  "kernelspec": {
   "display_name": "Python 3",
   "language": "python",
   "name": "python3"
  },
  "language_info": {
   "codemirror_mode": {
    "name": "ipython",
    "version": 3
   },
   "file_extension": ".py",
   "mimetype": "text/x-python",
   "name": "python",
   "nbconvert_exporter": "python",
   "pygments_lexer": "ipython3",
   "version": "3.10.12"
  }
 },
 "nbformat": 4,
 "nbformat_minor": 2
}
