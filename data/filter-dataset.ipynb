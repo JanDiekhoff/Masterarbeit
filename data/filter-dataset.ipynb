{
 "cells": [
  {
   "cell_type": "code",
   "execution_count": null,
   "metadata": {},
   "outputs": [],
   "source": [
    "from datasets import load_dataset\n",
    "\n",
    "data = load_dataset(\"JanDkff/TinyFuncData-docstring\", split=\"train\")\n",
    "data"
   ]
  },
  {
   "cell_type": "code",
   "execution_count": null,
   "metadata": {},
   "outputs": [],
   "source": [
    "format = \"\"\"{comment} {language}\n",
    "{docstring}\n",
    "{name}{params}\n",
    "\"\"\"\n",
    "\n",
    "def reconstruct_python_func(example):\n",
    "    \n",
    "    docstring = \"\"\n",
    "    lines = example['docstring'].split(\"\\n\")\n",
    "    for line in lines:\n",
    "        docstring += f\"# {line}\\n\"\n",
    "    \n",
    "    name = example['name']\n",
    "    \n",
    "    params = \"\"\n",
    "    args = example['params']\n",
    "    if args[0] == '[':\n",
    "        params += \"(\"\n",
    "        args = [arg.strip()[1:-1] for arg in args[1:-1].split(\",\")]\n",
    "        for arg in args:\n",
    "            params += arg + \", \"\n",
    "        params = params[:-2] + \"):\"\n",
    "    else:\n",
    "        params += args + \":\"\n",
    "    \n",
    "    body = \"\\n\".join(example['body'].split(\"\\n\")[1:])\n",
    "    \n",
    "    return format.format(\n",
    "        comment=\"#\",\n",
    "        language=\"Python\",\n",
    "        docstring=docstring,\n",
    "        name=name,\n",
    "        params=params,\n",
    "    ), body, example[\"file_id\"]\n",
    "\n",
    "\n",
    "def reconstruct_func(example):\n",
    "    if example[\"language\"] == \"Python\":\n",
    "        return reconstruct_python_func(example)\n",
    "    else:\n",
    "        if example[\"language\"] in [\"Shell\",\"Ruby\"]:\n",
    "            comment = \"#\"\n",
    "        else:\n",
    "            comment = \"//\"\n",
    "            \n",
    "        docstring = example[\"docstring\"]\n",
    "        new_doc = \"\"\n",
    "        for line in docstring.split(\"\\n\"):\n",
    "            new_doc += f\"{line}\\n\"\n",
    "        \n",
    "        \n",
    "        func = format.format(\n",
    "            comment=comment,\n",
    "            language=example['language'],\n",
    "            docstring=new_doc,\n",
    "            name=example['name'],\n",
    "            params=example['params'],\n",
    "        ), example['body'], example[\"file_id\"]\n",
    "        \n",
    "        return func"
   ]
  },
  {
   "cell_type": "code",
   "execution_count": null,
   "metadata": {},
   "outputs": [],
   "source": [
    "import pandas as pd\n",
    "\n",
    "df = pd.DataFrame(data)"
   ]
  },
  {
   "cell_type": "code",
   "execution_count": null,
   "metadata": {},
   "outputs": [],
   "source": [
    "one_example_per_language = df.groupby('language').apply(lambda x: x.sample(1)).reset_index(drop=True)"
   ]
  },
  {
   "cell_type": "code",
   "execution_count": null,
   "metadata": {},
   "outputs": [],
   "source": [
    "array = [reconstruct_func(example) for example in one_example_per_language.to_dict(orient=\"records\")]\n",
    "\n",
    "for a in array:\n",
    "    print(a)\n",
    "    print(\"##########################################################\")"
   ]
  },
  {
   "cell_type": "code",
   "execution_count": null,
   "metadata": {},
   "outputs": [],
   "source": [
    "funcs = []\n",
    "\n",
    "for example in data:\n",
    "    if len(example['body']) > 1000: continue\n",
    "    if not example['body'].replace('{','').replace('}','').replace(':','').replace('\\n','').strip(): continue\n",
    "    \n",
    "    head, body, id = reconstruct_func(example)\n",
    "    funcs.append({\"language\":example['language'],\"head\":head,\"body\":body,\"file_id\":id})"
   ]
  },
  {
   "cell_type": "code",
   "execution_count": null,
   "metadata": {},
   "outputs": [],
   "source": [
    "import pandas as pd\n",
    "\n",
    "df = pd.DataFrame(funcs)\n",
    "df.head()"
   ]
  },
  {
   "cell_type": "code",
   "execution_count": null,
   "metadata": {},
   "outputs": [],
   "source": [
    "df.to_parquet(\"filtered_funcs.parquet\")"
   ]
  },
  {
   "cell_type": "code",
   "execution_count": null,
   "metadata": {},
   "outputs": [],
   "source": [
    "print(df.sample(1).to_dict(orient=\"records\")[0][\"body\"])"
   ]
  },
  {
   "cell_type": "code",
   "execution_count": null,
   "metadata": {},
   "outputs": [],
   "source": [
    "def stratified_sample(df, frac, random_state=None):\n",
    "    grouped = df.groupby('language')\n",
    "    sampled_df = grouped.apply(lambda x: x.sample(frac=frac, random_state=random_state)).reset_index(drop=True)\n",
    "    return sampled_df\n",
    "\n",
    "seed = 42\n",
    "stratified_dfs = []\n",
    "#for i in range(5):\n",
    "#    index = seed+i\n",
    "stratified_df = stratified_sample(df, frac=0.05, random_state=seed)"
   ]
  },
  {
   "cell_type": "code",
   "execution_count": null,
   "metadata": {},
   "outputs": [],
   "source": [
    "#print(stratified_dfs)\n",
    "\n",
    "print(\n",
    "len(df['language'].value_counts()))\n",
    "\n",
    "for x in stratified_dfs:\n",
    "    print(len(\n",
    "    x['language'].value_counts()))"
   ]
  },
  {
   "cell_type": "code",
   "execution_count": null,
   "metadata": {},
   "outputs": [],
   "source": [
    "stratified_df.to_parquet(f\"5percent_stratified_{seed}.parquet\")"
   ]
  },
  {
   "cell_type": "code",
   "execution_count": null,
   "metadata": {},
   "outputs": [],
   "source": [
    "print(stratified_dfs[0]['body'][60000])"
   ]
  },
  {
   "cell_type": "code",
   "execution_count": null,
   "metadata": {},
   "outputs": [],
   "source": [
    "samples_per_group = round(len(df)/200)\n",
    "\n",
    "def sample_fixed_per_group(df, n_samples, random_state=None):\n",
    "    return df.groupby(\"language\").apply(lambda x: x.sample(n=n_samples, random_state=random_state)).reset_index(drop=True)\n",
    "\n",
    "fixed_dfs = []\n",
    "#for i in range(5):\n",
    "#    index = seed+i\n",
    "fixed_df = sample_fixed_per_group(df, n_samples=samples_per_group,random_state=seed)"
   ]
  },
  {
   "cell_type": "code",
   "execution_count": null,
   "metadata": {},
   "outputs": [],
   "source": [
    "\n",
    "fixed_df.to_parquet(f\"5percent_fixed_{seed}.parquet\")"
   ]
  }
 ],
 "metadata": {
  "kernelspec": {
   "display_name": "Python 3",
   "language": "python",
   "name": "python3"
  },
  "language_info": {
   "codemirror_mode": {
    "name": "ipython",
    "version": 3
   },
   "file_extension": ".py",
   "mimetype": "text/x-python",
   "name": "python",
   "nbconvert_exporter": "python",
   "pygments_lexer": "ipython3",
   "version": "3.10.12"
  }
 },
 "nbformat": 4,
 "nbformat_minor": 2
}
