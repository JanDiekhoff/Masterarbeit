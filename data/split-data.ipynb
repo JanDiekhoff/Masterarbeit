{
 "cells": [
  {
   "cell_type": "code",
   "execution_count": null,
   "metadata": {},
   "outputs": [],
   "source": [
    "import pandas as pd\n",
    "\n",
    "df = pd.read_parquet('filtered_funcs.parquet')\n",
    "\n",
    "df"
   ]
  },
  {
   "cell_type": "code",
   "execution_count": null,
   "metadata": {},
   "outputs": [],
   "source": [
    "sample = df.sample(1).to_dict(orient=\"records\")[0]\n",
    "print(sample[\"head\"],sample[\"body\"])"
   ]
  },
  {
   "cell_type": "code",
   "execution_count": null,
   "metadata": {},
   "outputs": [],
   "source": [
    "from sklearn.model_selection import StratifiedKFold\n",
    "\n",
    "n_splits = 100\n",
    "\n",
    "skf = StratifiedKFold(n_splits=n_splits, shuffle=True, random_state=42)\n",
    "\n",
    "df['split'] = -1\n",
    "for i, (_, test_index) in enumerate(skf.split(df, df['language'])):\n",
    "    df.loc[test_index, 'split'] = i\n",
    "\n",
    "split_distribution = df.groupby('split')['language'].value_counts(normalize=True)\n",
    "\n",
    "for i in range(n_splits):\n",
    "    print(i)\n",
    "    chunk = df[df['split'] == i]\n",
    "    chunk.to_parquet(f'chunks/chunk_{i+1}.parquet')\n"
   ]
  }
 ],
 "metadata": {
  "kernelspec": {
   "display_name": "Python 3",
   "language": "python",
   "name": "python3"
  },
  "language_info": {
   "codemirror_mode": {
    "name": "ipython",
    "version": 3
   },
   "file_extension": ".py",
   "mimetype": "text/x-python",
   "name": "python",
   "nbconvert_exporter": "python",
   "pygments_lexer": "ipython3",
   "version": "3.10.12"
  }
 },
 "nbformat": 4,
 "nbformat_minor": 2
}
