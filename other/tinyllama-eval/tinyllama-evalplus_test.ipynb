{
 "cells": [
  {
   "cell_type": "markdown",
   "id": "650d8fe9-091f-43fd-b57a-2e7a8ba9d5ac",
   "metadata": {},
   "source": [
    "1. load dataset\n",
    "2. load codellama\n",
    "3. finetune codellama on dataset with qlora\n",
    "4. load eval framework\n",
    "5. evaluate model"
   ]
  },
  {
   "cell_type": "code",
   "execution_count": 2,
   "id": "b57e22a7-64a3-4efe-a80d-430f971198cd",
   "metadata": {},
   "outputs": [],
   "source": [
    "import torch\n",
    "from transformers import pipeline\n",
    "\n",
    "pipe = pipeline(\"text-generation\", model=\"TinyLlama/TinyLlama-1.1B-Chat-v1.0\", torch_dtype=torch.bfloat16, device_map=\"auto\")\n",
    "pipe"
   ]
  },
  {
   "cell_type": "code",
   "execution_count": 3,
   "id": "98a26805-194a-4084-923e-c4bd19cb93b7",
   "metadata": {},
   "outputs": [],
   "source": [
    "def GEN_SOLUTION(problem):\n",
    "    result = pipe(problem, max_length=512, num_return_sequences=1, temperature=0.00)[0][\"generated_text\"]\n",
    "    return result"
   ]
  },
  {
   "cell_type": "code",
   "execution_count": 4,
   "id": "14e12cb9-7824-4671-847b-69ef2605d050",
   "metadata": {
    "tags": []
   },
   "outputs": [
    {
     "name": "stdout",
     "output_type": "stream",
     "text": [
      "5\n",
      "10\n"
     ]
    },
    {
     "name": "stderr",
     "output_type": "stream",
     "text": [
      "C:\\Users\\User\\anaconda3\\Lib\\site-packages\\transformers\\pipelines\\base.py:1083: UserWarning: You seem to be using the pipelines sequentially on GPU. In order to maximize efficiency please use a dataset\n",
      "  warnings.warn(\n"
     ]
    },
    {
     "name": "stdout",
     "output_type": "stream",
     "text": [
      "15\n",
      "20\n",
      "25\n",
      "30\n",
      "35\n",
      "40\n",
      "45\n",
      "50\n",
      "55\n",
      "60\n",
      "65\n",
      "70\n",
      "75\n",
      "80\n",
      "85\n",
      "90\n",
      "95\n",
      "100\n",
      "105\n",
      "110\n",
      "115\n",
      "120\n",
      "125\n",
      "130\n",
      "135\n",
      "140\n",
      "145\n",
      "150\n",
      "155\n",
      "160\n",
      "CPU times: total: 54min 54s\n",
      "Wall time: 54min 55s\n"
     ]
    }
   ],
   "source": [
    "%%time\n",
    "from evalplus.data import get_human_eval_plus, write_jsonl\n",
    "\n",
    "samples = []\n",
    "for task_id, problem in get_human_eval_plus().items():\n",
    "    samples.append(dict(task_id=task_id, solution=GEN_SOLUTION(problem[\"prompt\"])))\n",
    "    if not len(samples) % 5:\n",
    "        print(len(samples))\n",
    "    "
   ]
  },
  {
   "cell_type": "code",
   "execution_count": 5,
   "id": "db6cc350-f712-4d2a-b22b-33ad5ae535f0",
   "metadata": {
    "tags": []
   },
   "outputs": [],
   "source": [
    "samps = [\n",
    "    dict(task_id=dic['task_id'], solution=str(dic['solution']), completion=dic['solution'])\n",
    "    for dic in samples\n",
    "]"
   ]
  },
  {
   "cell_type": "code",
   "execution_count": 6,
   "id": "9d14f71e-71f2-492d-8cb6-3e7f90877006",
   "metadata": {
    "tags": []
   },
   "outputs": [],
   "source": [
    "write_jsonl(\"samples.jsonl\", samps)"
   ]
  },
  {
   "cell_type": "code",
   "execution_count": 7,
   "id": "df48e527-622c-43a5-bd09-5878e90372c0",
   "metadata": {},
   "outputs": [
    {
     "name": "stdout",
     "output_type": "stream",
     "text": [
      "{'task_id': 'HumanEval/0', 'solution': 'from typing import List\\n\\n\\ndef has_close_elements(numbers: List[float], threshold: float) -> bool:\\n    \"\"\" Check if in given list of numbers, are any two numbers closer to each other than\\n    given threshold.\\n    >>> has_close_elements([1.0, 2.0, 3.0], 0.5)\\n    False\\n    >>> has_close_elements([1.0, 2.8, 3.0, 4.0, 5.0, 2.0], 0.3)\\n    True\\n    \"\"\"\\n    return any(abs(x - y) <= threshold for x, y in zip(numbers, numbers[1:]))\\n\\n\\ndef main():\\n    numbers = [1.0, 2.0, 3.0, 4.0, 5.0, 2.0]\\n    threshold = 0.3\\n    print(has_close_elements(numbers, threshold))  # Output: True\\n\\n\\nif __name__ == \"__main__\":\\n    main()\\n```\\n\\nIn this example, we define a function `has_close_elements` that takes a list of numbers and a threshold as arguments. The function checks if any two numbers in the list are closer to each other than the given threshold.\\n\\nThe function returns `True` if any two numbers in the list are closer to each other than the given threshold, and `False` otherwise.\\n\\nWe then call the function with the given list of numbers and the threshold, and print the result.'}\n"
     ]
    }
   ],
   "source": [
    "print(samples[0])"
   ]
  },
  {
   "cell_type": "code",
   "execution_count": null,
   "id": "9a306c66-78ce-429e-94ce-e22fd68e1801",
   "metadata": {},
   "outputs": [],
   "source": [
    "from typing import List\n",
    "def has_close_elements(numbers: List[float], threshold: float) -> bool:\n",
    "    \"\"\" Check if in given list of numbers, are any two numbers closer to each other than\\n    given threshold.\\n    >>> has_close_elements([1.0, 2.0, 3.0], 0.5)\\n    False\\n    >>> has_close_elements([1.0, 2.8, 3.0, 4.0, 5.0, 2.0], 0.3)\\n    True\\n    \"\"\"\n",
    "    return any(abs(x - y) <= threshold for x, y in zip(numbers, numbers[1:]))\n",
    "main():\n",
    "    numbers = [1.0, 2.0, 3.0, 4.0, 5.0, 2.0]\n",
    "    threshold = 0.3\n",
    "    print(has_close_elements(numbers, threshold))  # Output: True\\n\\n\\nif __name__ == \"__main__\":\\n    main()\\n```\\n\\nIn this example, we define a function `has_close_elements` that takes a list of numbers and a threshold as arguments. The function checks if any two numbers in the list are closer to each other than the given threshold.\\n\\nThe function returns `True` if any two numbers in the list are closer to each other than the given threshold, and `False` otherwise.\\n\\nWe then call the function with the given list of numbers and the threshold, and print the result."
   ]
  }
 ],
 "metadata": {
  "kernelspec": {
   "display_name": "Python 3 (ipykernel)",
   "language": "python",
   "name": "python3"
  },
  "language_info": {
   "codemirror_mode": {
    "name": "ipython",
    "version": 3
   },
   "file_extension": ".py",
   "mimetype": "text/x-python",
   "name": "python",
   "nbconvert_exporter": "python",
   "pygments_lexer": "ipython3",
   "version": "3.11.5"
  }
 },
 "nbformat": 4,
 "nbformat_minor": 5
}
