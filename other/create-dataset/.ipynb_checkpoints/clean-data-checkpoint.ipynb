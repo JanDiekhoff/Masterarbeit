{
 "cells": [
  {
   "cell_type": "code",
   "execution_count": 16,
   "id": "a3f6c612-862c-4760-baf5-20e111866f4f",
   "metadata": {},
   "outputs": [
    {
     "data": {
      "text/plain": [
       "16472714"
      ]
     },
     "execution_count": 16,
     "metadata": {},
     "output_type": "execute_result"
    }
   ],
   "source": [
    "import pandas as pd\n",
    "\n",
    "uncleaned_data_parquet = pd.read_parquet(\"new_dataset.parquet\")\n",
    "len(uncleaned_data_parquet)"
   ]
  },
  {
   "cell_type": "code",
   "execution_count": 20,
   "id": "1b2c4468-05e6-47ec-ad44-151323581e42",
   "metadata": {
    "tags": []
   },
   "outputs": [
    {
     "data": {
      "text/plain": [
       "array(['Python'], dtype=object)"
      ]
     },
     "execution_count": 20,
     "metadata": {},
     "output_type": "execute_result"
    }
   ],
   "source": [
    "uncleaned_data_parquet['language'].unique()"
   ]
  },
  {
   "cell_type": "code",
   "execution_count": 22,
   "id": "48045d5d-cf31-4bb0-9593-67c2de972297",
   "metadata": {
    "tags": []
   },
   "outputs": [
    {
     "data": {
      "text/plain": [
       "14649406"
      ]
     },
     "execution_count": 22,
     "metadata": {},
     "output_type": "execute_result"
    }
   ],
   "source": [
    "deduplicated = uncleaned_data_parquet.drop_duplicates(keep='last', subset=['file_id','name'])\n",
    "len(deduplicated)"
   ]
  },
  {
   "cell_type": "code",
   "execution_count": 26,
   "id": "4227fdcf-387f-4c95-9811-c79ff64b65ed",
   "metadata": {
    "tags": []
   },
   "outputs": [],
   "source": [
    "deduplicated.to_parquet(\"data/python_cleaned.parquet\")"
   ]
  },
  {
   "cell_type": "code",
   "execution_count": null,
   "id": "604ac570-c4eb-4588-8a84-392eab445acd",
   "metadata": {
    "tags": []
   },
   "outputs": [],
   "source": [
    "import pandas as pd\n",
    "\n",
    "uncleaned_data_json = pd.read_json(\"new_dataset.json\")\n",
    "len(uncleaned_data_json)"
   ]
  },
  {
   "cell_type": "code",
   "execution_count": null,
   "id": "197d13ec-b739-438d-b5ce-a2674c3faea5",
   "metadata": {
    "tags": []
   },
   "outputs": [],
   "source": [
    "uncleaned_data_json['language'].unique()"
   ]
  },
  {
   "cell_type": "code",
   "execution_count": null,
   "id": "cf7fe316-ac37-4fde-bc1c-09a9447aad78",
   "metadata": {
    "tags": []
   },
   "outputs": [],
   "source": [
    "deduplicated = uncleaned_data_json.drop_duplicates(keep='last', subset=['file_id','name'])\n",
    "len(deduplicated)"
   ]
  },
  {
   "cell_type": "code",
   "execution_count": null,
   "id": "e743ee47-9baa-4c91-bd7a-0ffed03d64e3",
   "metadata": {},
   "outputs": [],
   "source": [
    "deduplicated.to_parquet(\"data/others_cleaned.parquet\")"
   ]
  }
 ],
 "metadata": {
  "kernelspec": {
   "display_name": "Python 3 (ipykernel)",
   "language": "python",
   "name": "python3"
  },
  "language_info": {
   "codemirror_mode": {
    "name": "ipython",
    "version": 3
   },
   "file_extension": ".py",
   "mimetype": "text/x-python",
   "name": "python",
   "nbconvert_exporter": "python",
   "pygments_lexer": "ipython3",
   "version": "3.11.5"
  }
 },
 "nbformat": 4,
 "nbformat_minor": 5
}
