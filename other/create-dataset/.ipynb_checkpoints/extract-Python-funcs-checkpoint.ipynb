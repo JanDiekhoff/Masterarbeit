{
 "cells": [
  {
   "cell_type": "code",
   "execution_count": 18,
   "id": "ad5a5342-2989-4bcc-8b17-e70d42af5e25",
   "metadata": {},
   "outputs": [
    {
     "name": "stdout",
     "output_type": "stream",
     "text": [
      "0   0\n",
      "Syntax error in code: Missing parentheses in call to 'print'. Did you mean print(...)? (<unknown>, line 28)\n"
     ]
    },
    {
     "ename": "IndexError",
     "evalue": "list index out of range",
     "output_type": "error",
     "traceback": [
      "\u001b[1;31m---------------------------------------------------------------------------\u001b[0m",
      "\u001b[1;31mIndexError\u001b[0m                                Traceback (most recent call last)",
      "File \u001b[1;32m<timed exec>:43\u001b[0m\n",
      "File \u001b[1;32m<timed exec>:30\u001b[0m, in \u001b[0;36mextract_functions\u001b[1;34m(code, error_counter)\u001b[0m\n",
      "\u001b[1;31mIndexError\u001b[0m: list index out of range"
     ]
    }
   ],
   "source": [
    "%%time\n",
    "import pandas as pd\n",
    "import ast\n",
    "\n",
    "data = pd.read_parquet(\"data/Python-data.parquet\")\n",
    "df = pd.DataFrame(data)\n",
    "\n",
    "# Create a new DataFrame to store the extracted functions\n",
    "functions_data = []\n",
    "error_counter = 0\n",
    "\n",
    "# Function to extract function definitions from Python code\n",
    "def extract_functions(code, error_counter):\n",
    "    functions = []\n",
    "    try:\n",
    "        # Parse the code into an AST\n",
    "        tree = ast.parse(code)\n",
    "        # Iterate over all nodes in the AST\n",
    "        for node in ast.walk(tree):\n",
    "            # Check if the node is a function definition\n",
    "            if isinstance(node, ast.FunctionDef):\n",
    "                # Extract the function name and its definition\n",
    "                function_name = node.name\n",
    "                params = [arg.arg for arg in node.args.args]\n",
    "                function_code = ast.get_source_segment(code, node)\n",
    "                # Check for a docstring\n",
    "                docstring = ast.get_docstring(node)\n",
    "                functions.append({\n",
    "                    'name': function_name,\n",
    "                    'full_code': function_code,\n",
    "                    'body': function_code.split(r\"):\")[1] if r\"):\" in x else None ,\n",
    "                    'params':params,\n",
    "                    'docstring': docstring\n",
    "                })\n",
    "    except SyntaxError as e:\n",
    "        print(f\"Syntax error in code: {e}\")\n",
    "        error_counter += 1\n",
    "    return functions, error_counter\n",
    "\n",
    "\n",
    "# Iterate through each row in the dataset and extract functions\n",
    "for index, row in df.iterrows():\n",
    "    code_content = row['content']  # Replace with the actual column name containing code\n",
    "    extracted_functions, error_counter = extract_functions(code_content, error_counter)\n",
    "    for func in extracted_functions:\n",
    "        functions_data.append({\n",
    "            'file_id': row['__index_level_0__'],  # Replace with the actual identifier for each code file\n",
    "            'name': func['name'],\n",
    "            'body': func['body'],\n",
    "            'full_code': func['full_code'],\n",
    "            'docstring': func['docstring'],\n",
    "            'params':func['params'],\n",
    "            'language':'Python',\n",
    "        })\n",
    "    if not index % 500:\n",
    "        print(index, \" \", error_counter)\n",
    "\n",
    "# Convert the list of extracted functions to a DataFrame\n",
    "functions_df = pd.DataFrame(functions_data)\n",
    "\n",
    "functions_df.to_csv(\"data/python-extracted.csv\")\n",
    "functions_df"
   ]
  },
  {
   "cell_type": "code",
   "execution_count": null,
   "id": "5fdeb669-49c7-4737-9be7-8db935f6b36b",
   "metadata": {},
   "outputs": [],
   "source": []
  }
 ],
 "metadata": {
  "kernelspec": {
   "display_name": "Python 3 (ipykernel)",
   "language": "python",
   "name": "python3"
  },
  "language_info": {
   "codemirror_mode": {
    "name": "ipython",
    "version": 3
   },
   "file_extension": ".py",
   "mimetype": "text/x-python",
   "name": "python",
   "nbconvert_exporter": "python",
   "pygments_lexer": "ipython3",
   "version": "3.11.5"
  }
 },
 "nbformat": 4,
 "nbformat_minor": 5
}
