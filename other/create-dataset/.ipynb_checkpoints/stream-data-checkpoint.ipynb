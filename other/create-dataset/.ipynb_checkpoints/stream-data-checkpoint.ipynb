{
 "cells": [
  {
   "cell_type": "code",
   "execution_count": null,
   "id": "e34dab0d-6099-4fec-84ae-caadf76d04b0",
   "metadata": {
    "tags": []
   },
   "outputs": [],
   "source": [
    "!where pip"
   ]
  },
  {
   "cell_type": "code",
   "execution_count": null,
   "id": "e4510f08-522f-4cc1-9fff-a28e7430f2de",
   "metadata": {
    "tags": []
   },
   "outputs": [],
   "source": [
    "!pip install --upgrade datasets\n",
    "!pip install --upgrade optimum"
   ]
  },
  {
   "cell_type": "code",
   "execution_count": null,
   "id": "0c7f520f-53b2-4a35-8d62-9541720efdcf",
   "metadata": {
    "tags": []
   },
   "outputs": [],
   "source": [
    "from huggingface_hub import login\n",
    "login()"
   ]
  },
  {
   "cell_type": "code",
   "execution_count": 3,
   "id": "d09c9e0e-3f62-4002-8046-b27232480f14",
   "metadata": {
    "tags": []
   },
   "outputs": [],
   "source": [
    "import pandas as pd\n",
    "import regex as re\n",
    "\n",
    "regex = {\n",
    "    \"Ruby\":       r'(?<doc>\\#.*?)?\\s*(?<name>def\\s+\\w+)\\s*(?<paren>\\((?:[^()]+|(?&paren))*\\))\\s*(?<brace>\\{(?:[^{}]+|(?&brace))*\\})',\n",
    "    \"PHP\":        r'(?<doc>(?:\\/\\*\\*.*?\\*\\/|\\/\\/.*?\\n)?)\\s*(?<name>(public|protected|private)*\\s*function\\s+\\w+)\\s*(?<paren>\\((?:[^()]+|(?&paren))*\\))\\s*(?<brace>\\{(?:[^{}]+|(?&brace))*\\})',\n",
    "    \"JavaScript\": r'(?<doc>(?:\\/\\*\\*.*?\\*\\/|\\/\\/.*?\\n)?)\\s*(?<name>function\\s+\\w+)\\s*(?<paren>\\((?:[^()]+|(?&paren))*\\))\\s*(?<brace>\\{(?:[^{}]+|(?&brace))*\\})',\n",
    "    \"C\":          r\"(?<doc>(?:\\/\\*.*?\\*\\/|\\/\\/.*?\\n)?)\\s*(?<name>(?:public|private|protected)?\\s*(?:static)?\\s*\\w+\\s+\\w+)\\s*(?<paren>\\((?:[^()]+|(?&paren))*\\))\\s*(?<brace>\\{(?:[^{}]+|(?&brace))*\\})\",\n",
    "    \"C++\":        r\"(?<doc>(?:\\/\\*.*?\\*\\/|\\/\\/.*?\\n)?)\\s*(?<name>(?:public|private|protected)?\\s*(?:static)?\\s*\\w+\\s+\\w+)\\s*(?<paren>\\((?:[^()]+|(?&paren))*\\))\\s*(?<brace>\\{(?:[^{}]+|(?&brace))*\\})\",\n",
    "    \"C#\":         r\"(?<doc>(?:\\/\\/\\/.*?\\n)?)\\s*\\s*(?<name>(?:public|private|protected|internal|file|protected internal|private protected)?\\s*(?:static)?\\s*\\w+\\s+\\w+)\\s*(?<paren>\\((?:[^()]+|(?&paren))*\\))\\s*(?<brace>\\{(?:[^{}]+|(?&brace))*\\})\",\n",
    "    \"Java\":       r\"(?<doc>(?:\\/\\*\\*.*?\\*\\/|\\/\\/.*?\\n)?)\\s*(?<name>(?:public|private|protected)?\\s*(?:static)?\\s*\\w+\\s+\\w+)\\s*(?<paren>\\((?:[^()]+|(?&paren))*\\))\\s*(?<brace>\\{(?:[^{}]+|(?&brace))*\\})\",\n",
    "    \"TypeScript\": r'(?<doc>(?:\\/\\*\\*.*?\\*\\/|\\/\\/.*?\\n)?)\\s*(?<name>function\\s+\\w+)\\s*(?<paren>\\((?:[^()]+|(?&paren))*\\))\\s*(?<brace>\\{(?:[^{}]+|(?&brace))*\\})',\n",
    "    \"Shell\":      r\"(?<doc>\\#.*?)?\\s*(?<name>\\w+)\\s*(?<paren>\\((?:[^()]+|(?&paren))*\\))\\s*(?<brace>\\{(?:[^{}]+|(?&brace))*\\})\",\n",
    "    \"Python\":     r\"\"\n",
    "}\n",
    "\n",
    "keywords = [\"if\", \"while\", \"do\", \"else\", \"switch\", \"elseif\", \"elif\", \"match\", \"for\", \"try\", \"catch\"]"
   ]
  },
  {
   "cell_type": "code",
   "execution_count": 5,
   "id": "65431092-5744-48f3-8754-0114449ef63e",
   "metadata": {
    "tags": []
   },
   "outputs": [],
   "source": [
    "import regex as re\n",
    "\n",
    "def add_curly_brace(match):\n",
    "    return match.group(1) + \" {\"\n",
    "\n",
    "def Ruby_hotfix(col):\n",
    "    col = ruby_regex.sub(add_curly_brace, col)\n",
    "    col = ' '.join(word_map.get(word, word) for word in col.split())\n",
    "    return col\n",
    "\n",
    "\n",
    "def reverse_Ruby_hotfix(functions):\n",
    "    if functions:\n",
    "        for func in functions:\n",
    "            func[-1] = ' '.join(reverse_word_map.get(word, word) for word in func[-1].split())\n",
    "            func[2] = ' '.join(reverse_word_map.get(word, word) for word in func[2].split())\n",
    "            \n",
    "            i = func[-1].find('{')\n",
    "            if i != -1:\n",
    "                func[-1] = func[-1][:i] + func[-1][i + 1:]\n",
    "            if func[2][0] == \"{\":\n",
    "                func[2] = func[2][1:]\n",
    "            \n",
    "    return functions\n",
    "\n",
    "\n",
    "word_map = { \n",
    "    \"do\":\"do{\", \n",
    "    \"if\":\"if{\", \n",
    "    \"unless\":\"unless{\", \n",
    "    \"case\":\"case{\", \n",
    "    \"while\":\"while{\", \n",
    "    \"until\":\"until{\",\n",
    "    \"end\":\"end}\",\n",
    "    \"class\":\"class{\",\n",
    "    \"module\":\"module{\"\n",
    "}\n",
    "\n",
    "reverse_word_map = {v: k for k, v in word_map.items()}\n",
    "\n",
    "ruby_regex = re.compile(r'(def\\s+\\w+\\s*(?:\\([^()]*\\)))')"
   ]
  },
  {
   "cell_type": "code",
   "execution_count": 7,
   "id": "20cfe717-409e-4815-8a03-1c3f3f1dfb5c",
   "metadata": {
    "tags": []
   },
   "outputs": [],
   "source": [
    "whitespace = re.compile(r'\\s+')\n",
    "def extract_functions(code):\n",
    "    # Regular expression pattern to match functions\n",
    "    \n",
    "    functions = []\n",
    "    matches = re.finditer(pattern, code)\n",
    "        \n",
    "    for match in matches:\n",
    "        docstring = match.group(\"doc\")\n",
    "        name = match.group(\"name\")\n",
    "        parameters = match.group(\"paren\")\n",
    "        body = match.group(\"brace\").strip()\n",
    "        full_code = match.group(0)\n",
    "        functions.append([name, parameters, body, docstring, full_code])\n",
    "        \n",
    "    return functions"
   ]
  },
  {
   "cell_type": "code",
   "execution_count": 9,
   "id": "a7278d72-e3da-409c-bfd1-4fac47ade063",
   "metadata": {},
   "outputs": [],
   "source": [
    "def filter_function(example):\n",
    "    return example['max_stars_count'] and example['max_stars_count'] > 2 and example['lang'] in regex.keys() and example['size'] < 20000"
   ]
  },
  {
   "cell_type": "code",
   "execution_count": 11,
   "id": "f99e3b1a-d8c5-4f8a-b336-9756ee78de91",
   "metadata": {
    "tags": []
   },
   "outputs": [],
   "source": [
    "def handle_data(example, df):\n",
    "    functions_data = []\n",
    "    if filter_function(example):\n",
    "        lang = example['lang']\n",
    "        \n",
    "        if lang == \"Ruby\":\n",
    "            example['content'] = Ruby_hotfix(example['content'])\n",
    "        \n",
    "        functions = extract_functions(example['content'])\n",
    "        \n",
    "        if language == \"Ruby\":\n",
    "            functions = reverse_Ruby_hotfix(functions)\n",
    "        \n",
    "        if functions:\n",
    "            for function in functions:\n",
    "                if function:\n",
    "                    if not re.sub(whitespace, '', function[0]) in keywords:\n",
    "                        functions_data.append({\n",
    "                            'name':function[0],\n",
    "                            'params':function[1],\n",
    "                            'body':function[2],\n",
    "                            'docstring':function[3],\n",
    "                            #'full_code':function[4],\n",
    "                            'file_id':example['hexsha'],\n",
    "                            'language':lang,\n",
    "                        })\n",
    "    return functions_data        "
   ]
  },
  {
   "cell_type": "code",
   "execution_count": 13,
   "id": "5e4365da-a252-4668-ac39-62912d8ab3af",
   "metadata": {
    "tags": []
   },
   "outputs": [
    {
     "name": "stdout",
     "output_type": "stream",
     "text": [
      "CPU times: total: 0 ns\n",
      "Wall time: 0 ns\n"
     ]
    }
   ],
   "source": [
    "%%time\n",
    "import pandas as pd\n",
    "import ast\n",
    "\n",
    "# Function to extract function definitions from Python code\n",
    "def extract_python_functions(code, error_counter, hexsha):\n",
    "    functions = []\n",
    "    try:\n",
    "        code = code.encode('utf-8', 'ignore').decode('utf-8', 'ignore')\n",
    "        # Parse the code into an AST\n",
    "        tree = ast.parse(code)\n",
    "        # Iterate over all nodes in the AST\n",
    "        for node in ast.walk(tree):\n",
    "            # Check if the node is a function definition\n",
    "            if isinstance(node, ast.FunctionDef):\n",
    "                # Extract the function name and its definition\n",
    "                function_name = node.name.encode('utf-8', 'ignore').decode('utf-8', 'ignore')\n",
    "                params = str([arg.arg.encode('utf-8', 'ignore').decode('utf-8', 'ignore') for arg in node.args.args])\n",
    "                function_code = ast.get_source_segment(code, node).encode('utf-8', 'ignore').decode('utf-8', 'ignore')\n",
    "                docstring = ast.get_docstring(node)\n",
    "                if docstring: docstring = docstring.encode('utf-8', 'ignore').decode('utf-8', 'ignore')\n",
    "                body = \"\\n\".join([ast.unparse(stmt) for stmt in node.body]).encode('utf-8', 'ignore').decode('utf-8', 'ignore')\n",
    "                if hexsha: hexsha = hexsha.encode('utf-8', 'ignore').decode('utf-8', 'ignore')\n",
    "                \n",
    "                functions.append([\n",
    "                    function_name,\n",
    "                    params,\n",
    "                    body,\n",
    "                    docstring,\n",
    "                    function_code,\n",
    "                    hexsha\n",
    "                    ])\n",
    "    except (SyntaxError, ValueError, UnicodeEncodeError, UnicodeDecodeError):\n",
    "        error_counter += 1\n",
    "    return functions, error_counter\n",
    "\n",
    "        \n",
    "def handle_py_data(example, df, py_error_count):\n",
    "    functions_data = []\n",
    "    if filter_function(example):\n",
    "        #print(example, flush=True)\n",
    "        hexsha = example['hexsha']\n",
    "        functions, py_error_count = extract_python_functions(example['content'], py_error_count, hexsha)\n",
    "\n",
    "        if functions:\n",
    "            for function in functions:\n",
    "                if function:\n",
    "                    functions_data.append({\n",
    "                        'name':function[0],\n",
    "                        'params':function[1],\n",
    "                        'body':function[2],\n",
    "                        'docstring':function[3],\n",
    "                        #'full_code':function[4],\n",
    "                        'file_id': function[5],\n",
    "                        'language':'Python',\n",
    "                    })\n",
    "    return functions_data, py_error_count"
   ]
  },
  {
   "cell_type": "code",
   "execution_count": null,
   "id": "f3640291-b683-4f82-9d06-9f0180ae623c",
   "metadata": {
    "tags": []
   },
   "outputs": [
    {
     "name": "stdout",
     "output_type": "stream",
     "text": [
      "The token has not been saved to the git credentials helper. Pass `add_to_git_credential=True` in this function directly or `--add-to-git-credential` if using via `huggingface-cli` if you want to set the git credential as well.\n",
      "Token is valid (permission: write).\n",
      "Your token has been saved to C:\\Users\\User\\.cache\\huggingface\\token\n",
      "Login successful\n"
     ]
    }
   ],
   "source": [
    "from huggingface_hub import login\n",
    "login(token=\"XXXXXXXXXXXXXXXXXXXXXXXXXXXXXXXXXXXX\")"
   ]
  },
  {
   "cell_type": "code",
   "execution_count": 17,
   "id": "1029713b-0310-41f7-a950-01b3f60a21a3",
   "metadata": {
    "tags": []
   },
   "outputs": [],
   "source": [
    "def list_of_dicts_to_dict_of_lists(data_list):\n",
    "    dict_of_lists = {}\n",
    "    for d in data_list:\n",
    "        for key, value in d.items():\n",
    "            if key not in dict_of_lists:\n",
    "                dict_of_lists[key] = []\n",
    "            dict_of_lists[key].append(value)\n",
    "    return dict_of_lists"
   ]
  },
  {
   "cell_type": "code",
   "execution_count": 71,
   "id": "dd0f7460-a138-49e9-b67b-2bfcccf93be7",
   "metadata": {
    "tags": []
   },
   "outputs": [
    {
     "data": {
      "application/vnd.jupyter.widget-view+json": {
       "model_id": "47c34ff12761457d9ed9680904e3ef2e",
       "version_major": 2,
       "version_minor": 0
      },
      "text/plain": [
       "Resolving data files:   0%|          | 0/208 [00:00<?, ?it/s]"
      ]
     },
     "metadata": {},
     "output_type": "display_data"
    },
    {
     "name": "stdout",
     "output_type": "stream",
     "text": [
      "0 Java 12.22\n",
      "50000 Java 36.29\n",
      "100000 Java 32.67\n",
      "150000 Java 37.5\n",
      "200000 Java 32.88\n",
      "250000 Java 40.04\n",
      "300000 Java 35.28\n",
      "350000 Java 34.51\n",
      "400000 Java 36.41\n",
      "450000 Java 36.2\n",
      "500000 Java 35.41\n",
      "550000 Java 35.88\n",
      "600000 Java 38.52\n",
      "650000 Java 36.63\n",
      "700000 Java 35.75\n",
      "750000 Java 36.47\n",
      "800000 Java 36.12\n",
      "850000 Java 37.08\n",
      "900000 Java 35.9\n",
      "950000 Java 35.86\n",
      "1000000 Java 35.59\n",
      "1050000 Java 36.59\n",
      "1100000 Java 35.75\n",
      "1150000 Java 39.84\n",
      "1200000 Java 35.44\n",
      "1250000 Java 36.49\n",
      "1300000 Java 37.29\n",
      "1350000 Java 36.39\n",
      "1400000 Java 37.45\n",
      "1450000 Java 37.02\n",
      "1500000 Java 35.88\n",
      "1550000 Java 35.84\n",
      "1600000 Java 36.13\n",
      "1650000 Java 36.73\n",
      "1700000 Java 36.12\n",
      "1750000 Java 35.59\n",
      "1800000 Java 34.61\n",
      "1850000 Java 34.73\n",
      "1900000 Java 35.31\n",
      "1950000 Java 37.14\n",
      "2000000 Java 34.22\n",
      "2050000 Java 36.26\n",
      "2100000 Java 35.73\n",
      "2150000 Java 36.43\n",
      "2200000 Java 34.79\n",
      "2250000 Java 36.25\n",
      "2300000 Java 36.16\n",
      "2350000 Java 36.8\n",
      "2400000 Java 35.48\n",
      "2450000 Java 35.92\n",
      "2500000 Java 35.58\n",
      "2550000 Java 35.95\n",
      "2600000 Java 35.41\n",
      "2650000 Java 36.5\n",
      "2700000 Java 35.89\n",
      "2750000 Java 36.38\n",
      "2800000 Java 34.63\n",
      "2850000 Java 35.6\n",
      "2900000 Java 35.29\n",
      "2950000 Java 37.91\n",
      "3000000 Java 34.7\n",
      "3050000 Java 38.76\n",
      "3100000 Java 36.02\n",
      "3150000 Java 37.47\n",
      "3200000 Java 36.21\n",
      "3250000 Java 36.83\n",
      "3300000 Java 36.48\n",
      "3350000 Java 34.53\n",
      "3400000 Java 37.68\n",
      "3450000 Java 34.62\n",
      "3500000 Java 37.15\n",
      "3550000 Java 36.42\n",
      "3600000 Java 36.01\n",
      "3650000 Java 37.06\n",
      "3700000 Java 39.2\n",
      "3750000 Java 38.14\n",
      "3800000 Java 38.31\n",
      "3850000 Java 35.53\n",
      "3900000 Java 35.99\n",
      "3950000 Java 38.38\n",
      "4000000 Java 35.79\n",
      "4050000 Java 37.07\n",
      "4100000 Java 36.11\n",
      "4150000 Java 35.69\n",
      "4200000 Java 36.87\n",
      "4250000 Java 37.44\n",
      "4300000 Java 35.26\n",
      "4350000 Java 35.81\n",
      "4400000 Java 35.73\n",
      "4450000 Java 36.14\n",
      "4500000 Java 44.44\n",
      "4550000 Java 36.82\n",
      "4600000 Java 39.86\n",
      "4650000 Java 36.24\n",
      "4700000 Java 38.91\n",
      "4750000 Java 36.34\n",
      "4800000 Java 37.58\n",
      "4850000 Java 38.98\n",
      "4900000 Java 37.44\n",
      "4950000 Java 38.14\n",
      "5000000 Java 36.76\n",
      "5050000 Java 37.29\n",
      "5100000 Java 39.53\n",
      "5150000 Java 37.1\n",
      "5200000 Java 38.9\n",
      "5250000 Java 36.15\n",
      "5300000 Java 37.5\n",
      "5350000 Java 35.83\n",
      "5400000 Java 35.44\n",
      "5450000 Java 36.01\n",
      "5500000 Java 34.45\n",
      "5550000 Java 37.1\n",
      "5600000 Java 40.18\n",
      "5650000 Java 37.34\n",
      "5700000 Java 35.05\n",
      "5750000 Java 37.16\n",
      "5800000 Java 35.11\n",
      "5850000 Java 36.37\n",
      "5900000 Java 48.33\n",
      "5950000 Java 38.11\n",
      "6000000 Java 38.04\n",
      "6050000 Java 41.34\n",
      "6100000 Java 38.11\n",
      "6150000 Java 42.45\n",
      "6200000 Java 42.28\n",
      "6250000 Java 37.86\n",
      "6300000 Java 41.16\n",
      "6350000 Java 42.34\n",
      "6400000 Java 40.65\n",
      "6450000 Java 38.85\n",
      "6500000 Java 39.91\n",
      "6550000 Java 36.37\n",
      "6600000 Java 42.55\n",
      "6650000 Java 41.31\n",
      "6700000 Java 40.16\n",
      "6750000 Java 38.37\n",
      "6800000 Java 39.38\n",
      "6850000 Java 37.17\n",
      "6900000 Java 37.81\n",
      "6950000 Java 38.91\n",
      "7000000 Java 42.32\n",
      "7050000 Java 37.86\n",
      "7100000 Java 41.7\n",
      "7150000 Java 39.65\n",
      "7200000 Java 42.04\n",
      "7250000 Java 40.01\n",
      "7300000 Java 40.97\n",
      "7350000 Java 39.34\n",
      "7400000 Java 41.15\n",
      "7450000 Java 38.96\n",
      "7500000 Java 39.91\n",
      "7550000 Java 38.23\n",
      "7600000 Java 39.44\n",
      "7650000 Java 40.61\n",
      "7700000 Java 37.71\n",
      "7750000 Java 40.2\n",
      "7800000 Java 112.4\n",
      "7850000 Java 82.27\n",
      "7900000 Java 113.28\n",
      "7950000 Java 93.38\n",
      "8000000 Java 104.11\n",
      "8050000 Java 91.59\n",
      "8100000 Java 100.58\n",
      "8150000 Java 91.22\n",
      "8200000 Java 97.95\n",
      "8250000 Java 82.61\n",
      "8300000 Java 95.51\n",
      "8350000 Java 89.08\n",
      "8400000 Java 100.7\n",
      "8450000 Java 91.17\n",
      "8500000 Java 105.3\n",
      "8550000 Java 83.46\n",
      "8600000 Java 100.06\n",
      "8650000 Java 95.92\n",
      "8700000 Java 95.13\n",
      "8750000 Java 105.55\n",
      "8800000 Java 93.28\n",
      "8850000 Java 93.59\n",
      "8900000 Java 88.76\n",
      "8950000 Java 88.55\n",
      "9000000 Java 84.4\n",
      "9050000 Java 101.41\n",
      "9100000 Java 75.68\n",
      "9150000 Java 92.26\n",
      "9200000 Java 75.82\n",
      "9250000 Java 79.16\n",
      "9300000 Java 81.13\n",
      "9350000 Java 93.36\n",
      "9400000 Java 74.5\n",
      "9450000 Java 93.52\n",
      "9500000 Java 72.85\n",
      "9550000 Java 93.0\n",
      "9600000 Java 75.21\n",
      "9650000 Java 92.31\n"
     ]
    },
    {
     "data": {
      "application/vnd.jupyter.widget-view+json": {
       "model_id": "0b1208a655c144b1a786f781a33f3dae",
       "version_major": 2,
       "version_minor": 0
      },
      "text/plain": [
       "Uploading the dataset shards:   0%|          | 0/2 [00:00<?, ?it/s]"
      ]
     },
     "metadata": {},
     "output_type": "display_data"
    },
    {
     "data": {
      "application/vnd.jupyter.widget-view+json": {
       "model_id": "afa336bff96a4e84aee90fe30506cf6e",
       "version_major": 2,
       "version_minor": 0
      },
      "text/plain": [
       "Creating parquet from Arrow format:   0%|          | 0/1251 [00:00<?, ?ba/s]"
      ]
     },
     "metadata": {},
     "output_type": "display_data"
    },
    {
     "data": {
      "application/vnd.jupyter.widget-view+json": {
       "model_id": "fbe4913d720b488996c0760ac6b319f9",
       "version_major": 2,
       "version_minor": 0
      },
      "text/plain": [
       "Creating parquet from Arrow format:   0%|          | 0/1250 [00:00<?, ?ba/s]"
      ]
     },
     "metadata": {},
     "output_type": "display_data"
    },
    {
     "data": {
      "application/vnd.jupyter.widget-view+json": {
       "model_id": "eaba75b17b454037adf7af40b9820b2e",
       "version_major": 2,
       "version_minor": 0
      },
      "text/plain": [
       "README.md:   0%|          | 0.00/5.55k [00:00<?, ?B/s]"
      ]
     },
     "metadata": {},
     "output_type": "display_data"
    },
    {
     "name": "stdout",
     "output_type": "stream",
     "text": [
      "31\n",
      "9700000 Java 157.46\n",
      "9750000 Java 86.58\n",
      "9800000 Java 74.29\n",
      "9850000 Java 90.86\n",
      "9900000 Java 76.8\n",
      "9950000 Java 87.02\n",
      "10000000 Java 83.95\n",
      "10050000 Java 83.14\n",
      "10100000 Java 85.43\n",
      "10150000 Java 83.33\n",
      "10200000 Java 80.85\n",
      "10250000 Java 82.68\n",
      "10300000 Java 83.8\n",
      "10350000 Java 78.73\n",
      "10400000 Java 81.02\n",
      "10450000 Java 78.24\n",
      "10500000 Java 81.2\n",
      "10550000 Java 81.42\n",
      "10600000 Java 80.35\n",
      "10650000 Java 78.58\n",
      "10700000 Java 78.96\n",
      "10750000 Java 84.47\n",
      "10800000 Java 82.45\n",
      "10850000 Java 79.62\n",
      "10900000 Java 76.78\n",
      "10950000 Java 92.78\n",
      "11000000 Java 88.21\n",
      "11050000 Java 70.42\n",
      "11100000 Java 81.74\n",
      "11150000 Java 80.13\n",
      "11200000 Java 86.13\n",
      "11250000 Java 76.91\n",
      "11300000 Java 87.38\n",
      "11350000 Java 79.33\n",
      "11400000 Java 88.32\n",
      "11450000 Java 73.89\n",
      "11500000 Java 82.66\n",
      "11550000 Java 77.06\n"
     ]
    },
    {
     "data": {
      "application/vnd.jupyter.widget-view+json": {
       "model_id": "122566e34d424990b4bfbaa2655abf0e",
       "version_major": 2,
       "version_minor": 0
      },
      "text/plain": [
       "Uploading the dataset shards:   0%|          | 0/2 [00:00<?, ?it/s]"
      ]
     },
     "metadata": {},
     "output_type": "display_data"
    },
    {
     "data": {
      "application/vnd.jupyter.widget-view+json": {
       "model_id": "3628a96e3d6748298cb0b2b33a86ce31",
       "version_major": 2,
       "version_minor": 0
      },
      "text/plain": [
       "Creating parquet from Arrow format:   0%|          | 0/1251 [00:00<?, ?ba/s]"
      ]
     },
     "metadata": {},
     "output_type": "display_data"
    },
    {
     "data": {
      "application/vnd.jupyter.widget-view+json": {
       "model_id": "6c33dcda0df044cea528f6ab84aa4a0a",
       "version_major": 2,
       "version_minor": 0
      },
      "text/plain": [
       "Creating parquet from Arrow format:   0%|          | 0/1251 [00:00<?, ?ba/s]"
      ]
     },
     "metadata": {},
     "output_type": "display_data"
    },
    {
     "data": {
      "application/vnd.jupyter.widget-view+json": {
       "model_id": "488e443c12fe4ab3bc3056aa61efbc4b",
       "version_major": 2,
       "version_minor": 0
      },
      "text/plain": [
       "README.md:   0%|          | 0.00/5.67k [00:00<?, ?B/s]"
      ]
     },
     "metadata": {},
     "output_type": "display_data"
    },
    {
     "name": "stdout",
     "output_type": "stream",
     "text": [
      "32\n",
      "11600000 Java 159.08\n",
      "11650000 Java 82.38\n",
      "11700000 Java 77.77\n",
      "11750000 Java 75.97\n",
      "11800000 Java 80.53\n",
      "11850000 Java 85.79\n",
      "11900000 Java 79.38\n",
      "11950000 Java 85.29\n",
      "12000000 Java 84.39\n",
      "12050000 Java 85.6\n",
      "12100000 Java 78.99\n",
      "12150000 Java 84.24\n",
      "12200000 Java 93.89\n",
      "12250000 Java 89.75\n",
      "12300000 Java 73.32\n",
      "12350000 Java 79.4\n",
      "12400000 Java 106.97\n",
      "12450000 Java 88.34\n",
      "12500000 Java 80.39\n",
      "12550000 Java 91.25\n",
      "12600000 Java 74.93\n",
      "12650000 Java 97.0\n",
      "12700000 Java 80.6\n",
      "12750000 Java 87.21\n",
      "12800000 Java 72.12\n",
      "12850000 Java 89.49\n",
      "12900000 Java 82.44\n",
      "12950000 Java 91.5\n",
      "13000000 Java 84.44\n",
      "13050000 Java 91.65\n",
      "13100000 Java 70.37\n",
      "13150000 Java 97.26\n",
      "13200000 Java 77.68\n",
      "13250000 Java 93.53\n",
      "13300000 Java 76.5\n",
      "13350000 Java 92.87\n",
      "13400000 Java 82.77\n",
      "13450000 Java 91.3\n",
      "13500000 Java 88.16\n"
     ]
    },
    {
     "data": {
      "application/vnd.jupyter.widget-view+json": {
       "model_id": "12e4c93a1df74fe98ce5ba3c4738da4a",
       "version_major": 2,
       "version_minor": 0
      },
      "text/plain": [
       "Uploading the dataset shards:   0%|          | 0/2 [00:00<?, ?it/s]"
      ]
     },
     "metadata": {},
     "output_type": "display_data"
    },
    {
     "data": {
      "application/vnd.jupyter.widget-view+json": {
       "model_id": "01b91f681ad7470c870352fb944afc41",
       "version_major": 2,
       "version_minor": 0
      },
      "text/plain": [
       "Creating parquet from Arrow format:   0%|          | 0/1251 [00:00<?, ?ba/s]"
      ]
     },
     "metadata": {},
     "output_type": "display_data"
    },
    {
     "data": {
      "application/vnd.jupyter.widget-view+json": {
       "model_id": "e12cb26fee334d0abe4f70036d1c4b7c",
       "version_major": 2,
       "version_minor": 0
      },
      "text/plain": [
       "Creating parquet from Arrow format:   0%|          | 0/1251 [00:00<?, ?ba/s]"
      ]
     },
     "metadata": {},
     "output_type": "display_data"
    },
    {
     "data": {
      "application/vnd.jupyter.widget-view+json": {
       "model_id": "bf4b6ace85794c56b84c66b99afd291f",
       "version_major": 2,
       "version_minor": 0
      },
      "text/plain": [
       "README.md:   0%|          | 0.00/5.78k [00:00<?, ?B/s]"
      ]
     },
     "metadata": {},
     "output_type": "display_data"
    },
    {
     "name": "stdout",
     "output_type": "stream",
     "text": [
      "33\n",
      "13550000 Java 175.31\n",
      "13600000 Java 85.6\n",
      "13650000 Java 80.48\n",
      "13700000 Java 81.29\n",
      "13750000 Java 85.25\n",
      "13800000 Java 80.36\n",
      "13850000 Java 83.95\n",
      "13900000 Java 96.44\n",
      "13950000 Java 84.17\n",
      "14000000 Java 91.31\n",
      "14050000 Java 81.54\n",
      "14100000 Java 91.59\n",
      "14150000 Java 85.45\n",
      "14200000 Java 107.02\n",
      "14250000 Java 88.2\n",
      "14300000 Java 90.9\n",
      "14350000 Java 87.53\n",
      "14400000 Java 87.12\n",
      "14450000 Java 96.01\n",
      "14500000 Java 95.51\n",
      "14550000 Java 87.03\n",
      "14600000 Java 85.13\n",
      "14650000 Java 90.75\n",
      "14700000 Java 84.13\n",
      "14750000 Java 89.63\n",
      "14800000 Java 90.42\n",
      "14850000 Java 101.48\n",
      "14900000 Java 81.48\n",
      "14950000 Java 91.52\n",
      "15000000 Java 93.87\n",
      "15050000 Java 99.04\n",
      "15100000 Java 74.61\n",
      "15150000 Java 104.07\n",
      "15200000 Java 75.79\n",
      "15250000 Java 98.8\n",
      "15300000 Java 74.43\n",
      "15350000 Java 103.1\n",
      "15400000 Java 74.07\n"
     ]
    },
    {
     "data": {
      "application/vnd.jupyter.widget-view+json": {
       "model_id": "5190019c144947dfbdca90fac9c4fd0c",
       "version_major": 2,
       "version_minor": 0
      },
      "text/plain": [
       "Uploading the dataset shards:   0%|          | 0/2 [00:00<?, ?it/s]"
      ]
     },
     "metadata": {},
     "output_type": "display_data"
    },
    {
     "data": {
      "application/vnd.jupyter.widget-view+json": {
       "model_id": "f5eb848a4d92437bba6ab6aed61cba47",
       "version_major": 2,
       "version_minor": 0
      },
      "text/plain": [
       "Creating parquet from Arrow format:   0%|          | 0/1251 [00:00<?, ?ba/s]"
      ]
     },
     "metadata": {},
     "output_type": "display_data"
    },
    {
     "data": {
      "application/vnd.jupyter.widget-view+json": {
       "model_id": "63862a7e3885407da6f329732269dd19",
       "version_major": 2,
       "version_minor": 0
      },
      "text/plain": [
       "Creating parquet from Arrow format:   0%|          | 0/1251 [00:00<?, ?ba/s]"
      ]
     },
     "metadata": {},
     "output_type": "display_data"
    },
    {
     "data": {
      "application/vnd.jupyter.widget-view+json": {
       "model_id": "07a4a0aade0d438d91f21dbfe3624e2c",
       "version_major": 2,
       "version_minor": 0
      },
      "text/plain": [
       "README.md:   0%|          | 0.00/5.89k [00:00<?, ?B/s]"
      ]
     },
     "metadata": {},
     "output_type": "display_data"
    },
    {
     "name": "stdout",
     "output_type": "stream",
     "text": [
      "34\n",
      "15450000 Java 245.6\n",
      "15500000 Java 78.61\n",
      "15550000 Java 101.22\n",
      "15600000 Java 89.09\n",
      "15650000 Java 91.7\n",
      "15700000 Java 73.88\n",
      "15750000 Java 106.3\n",
      "15800000 Java 74.96\n",
      "15850000 Java 89.72\n",
      "15900000 Java 75.58\n",
      "15950000 Java 99.54\n",
      "16000000 Java 73.31\n",
      "16050000 Java 85.27\n",
      "16100000 Java 75.47\n",
      "16150000 Java 102.88\n",
      "16200000 Java 78.49\n",
      "16250000 Java 86.73\n",
      "16300000 Java 79.9\n",
      "16350000 Java 82.94\n",
      "16400000 Java 90.63\n",
      "16450000 Java 75.28\n",
      "16500000 Java 81.37\n",
      "16550000 Java 82.46\n",
      "16600000 Java 89.28\n",
      "16650000 Java 70.38\n",
      "16700000 Java 89.56\n",
      "16750000 Java 74.81\n",
      "16800000 Java 81.64\n",
      "16850000 Java 76.28\n",
      "16900000 Java 97.09\n",
      "16950000 Java 71.4\n",
      "17000000 Java 88.18\n",
      "17050000 Java 72.82\n",
      "17100000 Java 106.4\n",
      "17150000 Java 70.68\n",
      "17200000 Java 91.49\n",
      "17250000 Java 76.3\n",
      "17300000 Java 85.05\n",
      "17350000 Java 76.41\n"
     ]
    },
    {
     "data": {
      "application/vnd.jupyter.widget-view+json": {
       "model_id": "11055eaaf9da4633adda27a243c88f04",
       "version_major": 2,
       "version_minor": 0
      },
      "text/plain": [
       "Uploading the dataset shards:   0%|          | 0/2 [00:00<?, ?it/s]"
      ]
     },
     "metadata": {},
     "output_type": "display_data"
    },
    {
     "data": {
      "application/vnd.jupyter.widget-view+json": {
       "model_id": "31c66803df6646e79b37cecd01d229dc",
       "version_major": 2,
       "version_minor": 0
      },
      "text/plain": [
       "Creating parquet from Arrow format:   0%|          | 0/1251 [00:00<?, ?ba/s]"
      ]
     },
     "metadata": {},
     "output_type": "display_data"
    },
    {
     "data": {
      "application/vnd.jupyter.widget-view+json": {
       "model_id": "34f956b716294cdc8d22fbc616a062a5",
       "version_major": 2,
       "version_minor": 0
      },
      "text/plain": [
       "Creating parquet from Arrow format:   0%|          | 0/1251 [00:00<?, ?ba/s]"
      ]
     },
     "metadata": {},
     "output_type": "display_data"
    },
    {
     "data": {
      "application/vnd.jupyter.widget-view+json": {
       "model_id": "c1752cd07b2640858a601661ee066e88",
       "version_major": 2,
       "version_minor": 0
      },
      "text/plain": [
       "README.md:   0%|          | 0.00/6.01k [00:00<?, ?B/s]"
      ]
     },
     "metadata": {},
     "output_type": "display_data"
    },
    {
     "name": "stdout",
     "output_type": "stream",
     "text": [
      "35\n",
      "17400000 Java 156.13\n",
      "17450000 Java 74.14\n",
      "17500000 Java 79.84\n",
      "17550000 Java 86.64\n",
      "17600000 Java 90.61\n",
      "17650000 Java 79.72\n",
      "17700000 Java 88.56\n",
      "17750000 Java 85.3\n",
      "17800000 Java 86.1\n",
      "17850000 Java 85.41\n",
      "17900000 Java 86.95\n",
      "17950000 Java 95.69\n",
      "18000000 Java 80.89\n",
      "18050000 Java 86.19\n",
      "18100000 Java 80.49\n",
      "18150000 Java 83.76\n",
      "18200000 Java 83.73\n",
      "18250000 Java 81.68\n",
      "18300000 Java 88.5\n",
      "18350000 Java 81.11\n",
      "18400000 Java 87.67\n",
      "18450000 Java 89.3\n",
      "18500000 Java 80.46\n",
      "18550000 Java 97.53\n",
      "18600000 Java 80.9\n",
      "18650000 Java 94.93\n",
      "18700000 Java 84.4\n",
      "18750000 Java 83.18\n",
      "18800000 Java 85.22\n",
      "18850000 Java 90.15\n",
      "18900000 Java 73.19\n",
      "18950000 Java 104.7\n",
      "19000000 Java 80.23\n"
     ]
    },
    {
     "name": "stderr",
     "output_type": "stream",
     "text": [
      "HTTP Error 502 thrown while requesting GET https://huggingface.co/datasets/bigcode/the-stack-dedup/resolve/17cad72c886a2858e08d4c349a00d6466f54df63/data/java/data-00196-of-00208.parquet\n",
      "Retrying in 1s [Retry 1/5].\n"
     ]
    },
    {
     "name": "stdout",
     "output_type": "stream",
     "text": [
      "19050000 Java 87.62\n",
      "19100000 Java 82.18\n",
      "19150000 Java 81.21\n",
      "19200000 Java 83.47\n",
      "19250000 Java 87.2\n"
     ]
    },
    {
     "data": {
      "application/vnd.jupyter.widget-view+json": {
       "model_id": "2da6cfde02a94b8a853ad2f4597c1e97",
       "version_major": 2,
       "version_minor": 0
      },
      "text/plain": [
       "Uploading the dataset shards:   0%|          | 0/2 [00:00<?, ?it/s]"
      ]
     },
     "metadata": {},
     "output_type": "display_data"
    },
    {
     "data": {
      "application/vnd.jupyter.widget-view+json": {
       "model_id": "b020f2069115482e8564f052229c6a28",
       "version_major": 2,
       "version_minor": 0
      },
      "text/plain": [
       "Creating parquet from Arrow format:   0%|          | 0/1251 [00:00<?, ?ba/s]"
      ]
     },
     "metadata": {},
     "output_type": "display_data"
    },
    {
     "data": {
      "application/vnd.jupyter.widget-view+json": {
       "model_id": "101117ec1c644d77898d07dc996defe6",
       "version_major": 2,
       "version_minor": 0
      },
      "text/plain": [
       "Creating parquet from Arrow format:   0%|          | 0/1251 [00:00<?, ?ba/s]"
      ]
     },
     "metadata": {},
     "output_type": "display_data"
    },
    {
     "data": {
      "application/vnd.jupyter.widget-view+json": {
       "model_id": "ad0716722da24e6d8382cbc3240b22aa",
       "version_major": 2,
       "version_minor": 0
      },
      "text/plain": [
       "README.md:   0%|          | 0.00/6.12k [00:00<?, ?B/s]"
      ]
     },
     "metadata": {},
     "output_type": "display_data"
    },
    {
     "name": "stdout",
     "output_type": "stream",
     "text": [
      "36\n",
      "19300000 Java 163.5\n",
      "19350000 Java 75.66\n",
      "19400000 Java 83.49\n",
      "19450000 Java 83.44\n",
      "19500000 Java 92.55\n",
      "19550000 Java 83.59\n",
      "19600000 Java 106.74\n",
      "19650000 Java 69.9\n",
      "19700000 Java 89.25\n",
      "19750000 Java 71.38\n",
      "19800000 Java 91.51\n",
      "19850000 Java 77.44\n",
      "19900000 Java 98.17\n",
      "19950000 Java 75.19\n",
      "20000000 Java 98.64\n",
      "20050000 Java 68.95\n",
      "20100000 Java 101.56\n",
      "20150000 Java 70.6\n"
     ]
    },
    {
     "data": {
      "application/vnd.jupyter.widget-view+json": {
       "model_id": "4573e4afce1e4cb4bce36f88b7587988",
       "version_major": 2,
       "version_minor": 0
      },
      "text/plain": [
       "Resolving data files:   0%|          | 0/71 [00:00<?, ?it/s]"
      ]
     },
     "metadata": {},
     "output_type": "display_data"
    },
    {
     "name": "stdout",
     "output_type": "stream",
     "text": [
      "20200000 TypeScript 66.03\n",
      "20250000 TypeScript 46.13\n",
      "20300000 TypeScript 37.3\n",
      "20350000 TypeScript 52.98\n",
      "20400000 TypeScript 52.57\n",
      "20450000 TypeScript 35.76\n",
      "20500000 TypeScript 44.44\n",
      "20550000 TypeScript 47.21\n",
      "20600000 TypeScript 34.22\n",
      "20650000 TypeScript 47.8\n",
      "20700000 TypeScript 47.66\n",
      "20750000 TypeScript 40.6\n",
      "20800000 TypeScript 48.67\n",
      "20850000 TypeScript 53.24\n",
      "20900000 TypeScript 33.73\n",
      "20950000 TypeScript 51.59\n",
      "21000000 TypeScript 44.68\n",
      "21050000 TypeScript 46.18\n",
      "21100000 TypeScript 42.53\n",
      "21150000 TypeScript 59.13\n",
      "21200000 TypeScript 32.98\n",
      "21250000 TypeScript 56.15\n",
      "21300000 TypeScript 56.31\n",
      "21350000 TypeScript 31.42\n",
      "21400000 TypeScript 62.1\n",
      "21450000 TypeScript 42.44\n",
      "21500000 TypeScript 41.11\n",
      "21550000 TypeScript 50.09\n",
      "21600000 TypeScript 49.62\n",
      "21650000 TypeScript 43.64\n",
      "21700000 TypeScript 45.82\n",
      "21750000 TypeScript 47.12\n",
      "21800000 TypeScript 43.03\n",
      "21850000 TypeScript 54.18\n",
      "21900000 TypeScript 52.76\n",
      "21950000 TypeScript 38.01\n",
      "22000000 TypeScript 50.96\n",
      "22050000 TypeScript 51.27\n",
      "22100000 TypeScript 34.28\n",
      "22150000 TypeScript 40.53\n",
      "22200000 TypeScript 55.52\n",
      "22250000 TypeScript 35.99\n",
      "22300000 TypeScript 42.94\n",
      "22350000 TypeScript 50.12\n",
      "22400000 TypeScript 36.63\n",
      "22450000 TypeScript 44.28\n",
      "22500000 TypeScript 49.51\n",
      "22550000 TypeScript 42.35\n",
      "22600000 TypeScript 46.88\n",
      "22650000 TypeScript 49.25\n",
      "22700000 TypeScript 38.78\n",
      "22750000 TypeScript 52.44\n",
      "22800000 TypeScript 49.74\n",
      "22850000 TypeScript 46.45\n",
      "22900000 TypeScript 47.5\n",
      "22950000 TypeScript 46.25\n",
      "23000000 TypeScript 34.04\n",
      "23050000 TypeScript 61.0\n",
      "23100000 TypeScript 45.03\n",
      "23150000 TypeScript 35.59\n",
      "23200000 TypeScript 46.81\n",
      "23250000 TypeScript 53.39\n",
      "23300000 TypeScript 33.76\n",
      "23350000 TypeScript 52.85\n",
      "23400000 TypeScript 47.84\n",
      "23450000 TypeScript 41.15\n",
      "23500000 TypeScript 63.79\n",
      "23550000 TypeScript 55.17\n",
      "23600000 TypeScript 33.12\n",
      "23650000 TypeScript 59.07\n",
      "23700000 TypeScript 47.61\n",
      "23750000 TypeScript 35.46\n",
      "23800000 TypeScript 50.17\n",
      "23850000 TypeScript 57.63\n",
      "23900000 TypeScript 35.27\n",
      "23950000 TypeScript 51.65\n",
      "24000000 TypeScript 45.7\n",
      "24050000 TypeScript 33.71\n",
      "24100000 TypeScript 56.25\n",
      "24150000 TypeScript 47.47\n",
      "24200000 TypeScript 44.21\n",
      "24250000 TypeScript 47.4\n",
      "24300000 TypeScript 50.74\n",
      "24350000 TypeScript 41.93\n",
      "24400000 TypeScript 54.78\n",
      "24450000 TypeScript 41.96\n",
      "24500000 TypeScript 37.62\n",
      "24550000 TypeScript 50.42\n",
      "24600000 TypeScript 45.91\n",
      "24650000 TypeScript 33.02\n",
      "24700000 TypeScript 56.88\n",
      "24750000 TypeScript 41.93\n",
      "24800000 TypeScript 36.47\n",
      "24850000 TypeScript 44.7\n",
      "24900000 TypeScript 46.45\n",
      "24950000 TypeScript 39.58\n",
      "25000000 TypeScript 52.12\n",
      "25050000 TypeScript 51.42\n",
      "25100000 TypeScript 34.99\n",
      "25150000 TypeScript 51.4\n",
      "25200000 TypeScript 49.55\n",
      "25250000 TypeScript 36.11\n",
      "25300000 TypeScript 51.66\n",
      "25350000 TypeScript 53.8\n",
      "25400000 TypeScript 33.98\n",
      "25450000 TypeScript 50.6\n",
      "25500000 TypeScript 45.72\n",
      "25550000 TypeScript 36.37\n",
      "25600000 TypeScript 47.46\n",
      "25650000 TypeScript 47.27\n",
      "25700000 TypeScript 45.44\n",
      "25750000 TypeScript 47.99\n",
      "25800000 TypeScript 44.57\n",
      "25850000 TypeScript 35.02\n",
      "25900000 TypeScript 48.92\n",
      "25950000 TypeScript 54.53\n",
      "26000000 TypeScript 35.61\n",
      "26050000 TypeScript 54.84\n",
      "26100000 TypeScript 44.1\n",
      "26150000 TypeScript 37.8\n",
      "26200000 TypeScript 46.39\n",
      "26250000 TypeScript 50.84\n",
      "26300000 TypeScript 36.7\n",
      "26350000 TypeScript 51.77\n",
      "26400000 TypeScript 48.7\n",
      "26450000 TypeScript 37.32\n",
      "26500000 TypeScript 66.09\n",
      "26550000 TypeScript 55.9\n",
      "26600000 TypeScript 43.79\n",
      "26650000 TypeScript 58.5\n",
      "26700000 TypeScript 41.53\n",
      "26750000 TypeScript 36.64\n",
      "26800000 TypeScript 49.21\n",
      "26850000 TypeScript 49.11\n",
      "26900000 TypeScript 48.39\n",
      "26950000 TypeScript 59.37\n",
      "27000000 TypeScript 36.37\n",
      "27050000 TypeScript 35.44\n",
      "27100000 TypeScript 48.04\n",
      "27150000 TypeScript 50.87\n",
      "27200000 TypeScript 37.5\n",
      "27250000 TypeScript 44.38\n",
      "27300000 TypeScript 50.6\n",
      "27350000 TypeScript 39.21\n",
      "27400000 TypeScript 51.16\n",
      "27450000 TypeScript 54.24\n",
      "27500000 TypeScript 46.06\n",
      "27550000 TypeScript 50.37\n",
      "27600000 TypeScript 50.19\n",
      "27650000 TypeScript 33.21\n",
      "27700000 TypeScript 45.4\n",
      "27750000 TypeScript 46.67\n",
      "27800000 TypeScript 42.64\n",
      "27850000 TypeScript 48.05\n",
      "27900000 TypeScript 46.43\n",
      "27950000 TypeScript 33.4\n",
      "28000000 TypeScript 45.24\n",
      "28050000 TypeScript 43.29\n",
      "28100000 TypeScript 49.13\n",
      "28150000 TypeScript 51.99\n",
      "28200000 TypeScript 47.56\n",
      "28250000 TypeScript 40.1\n",
      "28300000 TypeScript 55.56\n",
      "28350000 TypeScript 42.78\n",
      "28400000 TypeScript 35.31\n",
      "28450000 TypeScript 49.13\n",
      "28500000 TypeScript 50.93\n",
      "28550000 TypeScript 39.51\n",
      "28600000 TypeScript 59.19\n",
      "28650000 TypeScript 34.7\n",
      "28700000 TypeScript 38.41\n",
      "28750000 TypeScript 52.36\n",
      "28800000 TypeScript 51.8\n",
      "28850000 TypeScript 37.74\n",
      "28900000 TypeScript 61.53\n",
      "28950000 TypeScript 42.61\n",
      "29000000 TypeScript 35.81\n",
      "29050000 TypeScript 48.61\n",
      "29100000 TypeScript 52.64\n",
      "29150000 TypeScript 38.47\n",
      "29200000 TypeScript 47.8\n",
      "29250000 TypeScript 47.25\n",
      "29300000 TypeScript 36.68\n",
      "29350000 TypeScript 46.98\n",
      "29400000 TypeScript 56.31\n",
      "29450000 TypeScript 37.9\n",
      "29500000 TypeScript 58.3\n",
      "29550000 TypeScript 39.76\n",
      "29600000 TypeScript 34.62\n",
      "29650000 TypeScript 49.64\n",
      "29700000 TypeScript 51.72\n",
      "29750000 TypeScript 41.32\n",
      "29800000 TypeScript 56.87\n",
      "29850000 TypeScript 42.32\n",
      "29900000 TypeScript 39.49\n",
      "29950000 TypeScript 51.12\n",
      "30000000 TypeScript 51.88\n",
      "30050000 TypeScript 35.62\n",
      "30100000 TypeScript 50.64\n",
      "30150000 TypeScript 46.34\n",
      "30200000 TypeScript 45.02\n",
      "30250000 TypeScript 48.91\n",
      "30300000 TypeScript 45.43\n",
      "30350000 TypeScript 35.07\n",
      "30400000 TypeScript 46.06\n",
      "30450000 TypeScript 46.56\n",
      "30500000 TypeScript 46.24\n",
      "30550000 TypeScript 47.02\n",
      "30600000 TypeScript 48.34\n",
      "30650000 TypeScript 39.84\n",
      "30700000 TypeScript 51.39\n",
      "30750000 TypeScript 47.77\n",
      "30800000 Shell 51.52\n",
      "30850000 Shell 54.72\n",
      "30900000 Shell 49.35\n",
      "30950000 Shell 58.7\n",
      "31000000 Shell 46.72\n",
      "31050000 Shell 51.59\n",
      "31100000 Shell 67.34\n",
      "31150000 Shell 50.77\n",
      "31200000 Shell 44.78\n",
      "31250000 Shell 50.31\n",
      "31300000 Shell 48.99\n",
      "31350000 Shell 45.72\n",
      "31400000 Shell 45.28\n",
      "31450000 Shell 51.63\n",
      "31500000 Shell 52.26\n",
      "31550000 Shell 46.51\n",
      "31600000 Shell 48.88\n",
      "31650000 Shell 51.17\n",
      "31700000 Shell 51.14\n",
      "31750000 Shell 52.27\n",
      "31800000 Shell 50.33\n",
      "31850000 Shell 42.07\n",
      "31900000 Shell 45.87\n",
      "31950000 Shell 53.94\n",
      "32000000 Shell 54.24\n",
      "32050000 Shell 47.89\n",
      "32100000 Shell 42.94\n",
      "32150000 Shell 47.67\n",
      "32200000 Shell 53.38\n",
      "32250000 Shell 58.75\n",
      "32300000 Shell 41.62\n",
      "32350000 Shell 49.59\n",
      "32400000 Shell 95.88\n",
      "32450000 Shell 55.27\n",
      "32500000 Shell 56.39\n",
      "32550000 Shell 46.33\n",
      "32600000 Shell 56.99\n",
      "32650000 Shell 52.25\n",
      "32700000 Shell 51.27\n",
      "32750000 Shell 48.89\n",
      "32800000 Shell 46.64\n",
      "32850000 Shell 61.66\n",
      "32900000 Shell 56.16\n",
      "32950000 Shell 62.2\n",
      "33000000 Shell 43.53\n"
     ]
    },
    {
     "data": {
      "application/vnd.jupyter.widget-view+json": {
       "model_id": "58bbcf55fd7443d886f02e69d5570021",
       "version_major": 2,
       "version_minor": 0
      },
      "text/plain": [
       "Uploading the dataset shards:   0%|          | 0/3 [00:00<?, ?it/s]"
      ]
     },
     "metadata": {},
     "output_type": "display_data"
    },
    {
     "data": {
      "application/vnd.jupyter.widget-view+json": {
       "model_id": "036d96957e6741a18e5c7b463236f677",
       "version_major": 2,
       "version_minor": 0
      },
      "text/plain": [
       "Creating parquet from Arrow format:   0%|          | 0/706 [00:00<?, ?ba/s]"
      ]
     },
     "metadata": {},
     "output_type": "display_data"
    },
    {
     "data": {
      "application/vnd.jupyter.widget-view+json": {
       "model_id": "8556496cd9c14169be569a01b3da938b",
       "version_major": 2,
       "version_minor": 0
      },
      "text/plain": [
       "Creating parquet from Arrow format:   0%|          | 0/706 [00:00<?, ?ba/s]"
      ]
     },
     "metadata": {},
     "output_type": "display_data"
    },
    {
     "data": {
      "application/vnd.jupyter.widget-view+json": {
       "model_id": "c9e29a8a83664a64b5df7d697f606b8d",
       "version_major": 2,
       "version_minor": 0
      },
      "text/plain": [
       "Creating parquet from Arrow format:   0%|          | 0/706 [00:00<?, ?ba/s]"
      ]
     },
     "metadata": {},
     "output_type": "display_data"
    },
    {
     "data": {
      "application/vnd.jupyter.widget-view+json": {
       "model_id": "88d1b8cc7869464789f106419cbd5a98",
       "version_major": 2,
       "version_minor": 0
      },
      "text/plain": [
       "README.md:   0%|          | 0.00/6.23k [00:00<?, ?B/s]"
      ]
     },
     "metadata": {},
     "output_type": "display_data"
    },
    {
     "name": "stdout",
     "output_type": "stream",
     "text": [
      "CPU times: total: 8h 16min 43s\n",
      "Wall time: 11h 8min 27s\n"
     ]
    }
   ],
   "source": [
    "%%time\n",
    "import json\n",
    "import time\n",
    "import pandas as pd\n",
    "import pyarrow as pa\n",
    "import pyarrow.parquet as pq\n",
    "from datasets import load_dataset, Dataset\n",
    "from huggingface_hub import HfApi, HfFolder\n",
    "\n",
    "chunk_size = 2500000\n",
    "hf_repo_id = \"JanDkff/TinyFuncCoder\"\n",
    "api = HfApi()\n",
    "token = HfFolder.get_token()\n",
    "\n",
    "# Process the dataset in chunks\n",
    "i = 0\n",
    "j = 0\n",
    "start_time = time.time()\n",
    "#processed_data = []\n",
    "\n",
    "for language in ['Python']:\n",
    "    dataset = load_dataset('bigcode/the-stack-dedup', data_dir=f'data/{language.lower().replace(\"#\",\"-sharp\")}', streaming=True, split=\"train\")\n",
    "    pattern = regex[language]\n",
    "    for example in dataset:\n",
    "        if not i % 50000:\n",
    "            current_time = time.time()\n",
    "            print(i, language, round(current_time - start_time, 2), flush=True)\n",
    "            start_time = current_time\n",
    "        i += 1\n",
    "\n",
    "        processed_data += handle_data(example, dataset)\n",
    "        if len(processed_data) >= chunk_size:\n",
    "            temp_dataset = Dataset.from_dict(list_of_dicts_to_dict_of_lists(processed_data))\n",
    "            temp_dataset.push_to_hub(hf_repo_id, token=token, split=f\"part_{j}\")\n",
    "            print(j)\n",
    "            j += 1\n",
    "            processed_data = []  # Reset the data chunks\n",
    "            temp_dataset = None\n",
    "\n",
    "# Write any remaining data\n",
    "if processed_data:\n",
    "    temp_dataset = Dataset.from_dict(list_of_dicts_to_dict_of_lists(processed_data))\n",
    "    temp_dataset.push_to_hub(hf_repo_id, token=token, split=f\"part_{j}\")\n",
    "    processed_data = []\n",
    "    temp_dataset = None\n"
   ]
  },
  {
   "cell_type": "code",
   "execution_count": null,
   "id": "87445579-842a-4a06-b75a-0638764810b8",
   "metadata": {},
   "outputs": [],
   "source": [
    "%%%%%%%%%%%%%%%%%%%%%%%%"
   ]
  },
  {
   "cell_type": "code",
   "execution_count": 66,
   "id": "6428b851-4ae2-4dbe-aa0b-be862f7a168f",
   "metadata": {
    "collapsed": true,
    "jupyter": {
     "outputs_hidden": true
    },
    "tags": []
   },
   "outputs": [
    {
     "name": "stderr",
     "output_type": "stream",
     "text": [
      "<unknown>:1: SyntaxWarning: invalid decimal literal\n",
      "<unknown>:1: SyntaxWarning: invalid decimal literal\n",
      "<unknown>:1: SyntaxWarning: invalid decimal literal\n",
      "<unknown>:1: SyntaxWarning: invalid decimal literal\n",
      "<unknown>:1: SyntaxWarning: invalid decimal literal\n"
     ]
    },
    {
     "name": "stdout",
     "output_type": "stream",
     "text": [
      "50000 Python 112.42\n"
     ]
    },
    {
     "name": "stderr",
     "output_type": "stream",
     "text": [
      "<unknown>:24: SyntaxWarning: invalid decimal literal\n"
     ]
    },
    {
     "name": "stdout",
     "output_type": "stream",
     "text": [
      "100000 Python 113.46\n",
      "150000 Python 111.03\n",
      "200000 Python 107.22\n"
     ]
    },
    {
     "name": "stderr",
     "output_type": "stream",
     "text": [
      "<unknown>:1: SyntaxWarning: invalid decimal literal\n",
      "<unknown>:1: SyntaxWarning: invalid decimal literal\n",
      "<unknown>:343: SyntaxWarning: invalid decimal literal\n"
     ]
    },
    {
     "name": "stdout",
     "output_type": "stream",
     "text": [
      "250000 Python 109.57\n",
      "300000 Python 110.75\n",
      "350000 Python 110.36\n"
     ]
    },
    {
     "name": "stderr",
     "output_type": "stream",
     "text": [
      "<unknown>:1: SyntaxWarning: invalid decimal literal\n"
     ]
    },
    {
     "name": "stdout",
     "output_type": "stream",
     "text": [
      "400000 Python 106.73\n",
      "450000 Python 107.39\n",
      "500000 Python 108.61\n",
      "550000 Python 111.51\n",
      "600000 Python 112.34\n"
     ]
    },
    {
     "name": "stderr",
     "output_type": "stream",
     "text": [
      "<unknown>:134: SyntaxWarning: invalid decimal literal\n"
     ]
    },
    {
     "name": "stdout",
     "output_type": "stream",
     "text": [
      "650000 Python 108.33\n",
      "700000 Python 113.74\n",
      "750000 Python 113.31\n",
      "800000 Python 112.84\n",
      "850000 Python 108.3\n"
     ]
    },
    {
     "name": "stderr",
     "output_type": "stream",
     "text": [
      "<unknown>:5: SyntaxWarning: invalid decimal literal\n",
      "<unknown>:5: SyntaxWarning: invalid decimal literal\n"
     ]
    },
    {
     "name": "stdout",
     "output_type": "stream",
     "text": [
      "900000 Python 110.07\n",
      "950000 Python 110.46\n",
      "1000000 Python 107.96\n"
     ]
    },
    {
     "name": "stderr",
     "output_type": "stream",
     "text": [
      "<unknown>:11: SyntaxWarning: invalid decimal literal\n",
      "<unknown>:11: SyntaxWarning: invalid decimal literal\n",
      "<unknown>:462: SyntaxWarning: invalid decimal literal\n"
     ]
    },
    {
     "name": "stdout",
     "output_type": "stream",
     "text": [
      "1050000 Python 109.81\n",
      "1100000 Python 105.67\n"
     ]
    },
    {
     "name": "stderr",
     "output_type": "stream",
     "text": [
      "<unknown>:54: SyntaxWarning: invalid decimal literal\n"
     ]
    },
    {
     "name": "stdout",
     "output_type": "stream",
     "text": [
      "1150000 Python 112.18\n",
      "1200000 Python 112.89\n",
      "1250000 Python 108.07\n"
     ]
    },
    {
     "name": "stderr",
     "output_type": "stream",
     "text": [
      "<unknown>:313: SyntaxWarning: invalid decimal literal\n"
     ]
    },
    {
     "name": "stdout",
     "output_type": "stream",
     "text": [
      "1300000 Python 106.99\n",
      "1350000 Python 109.13\n"
     ]
    },
    {
     "name": "stderr",
     "output_type": "stream",
     "text": [
      "<unknown>:89: SyntaxWarning: invalid decimal literal\n"
     ]
    },
    {
     "name": "stdout",
     "output_type": "stream",
     "text": [
      "1400000 Python 110.27\n",
      "1450000 Python 109.51\n"
     ]
    },
    {
     "name": "stderr",
     "output_type": "stream",
     "text": [
      "<unknown>:45: SyntaxWarning: invalid decimal literal\n"
     ]
    },
    {
     "name": "stdout",
     "output_type": "stream",
     "text": [
      "1500000 Python 110.96\n",
      "1550000 Python 105.02\n",
      "1600000 Python 109.94\n"
     ]
    },
    {
     "name": "stderr",
     "output_type": "stream",
     "text": [
      "<unknown>:34: SyntaxWarning: invalid decimal literal\n",
      "<unknown>:21: SyntaxWarning: invalid decimal literal\n"
     ]
    },
    {
     "name": "stdout",
     "output_type": "stream",
     "text": [
      "1650000 Python 109.06\n",
      "1700000 Python 109.02\n",
      "1750000 Python 111.05\n",
      "1800000 Python 110.45\n",
      "1850000 Python 110.78\n",
      "1900000 Python 112.92\n",
      "1950000 Python 110.49\n",
      "2000000 Python 108.53\n",
      "2050000 Python 109.6\n",
      "2100000 Python 122.0\n",
      "2150000 Python 111.73\n"
     ]
    },
    {
     "name": "stderr",
     "output_type": "stream",
     "text": [
      "<unknown>:2: SyntaxWarning: invalid decimal literal\n"
     ]
    },
    {
     "name": "stdout",
     "output_type": "stream",
     "text": [
      "2200000 Python 104.88\n",
      "2250000 Python 112.82\n",
      "2300000 Python 112.08\n",
      "2350000 Python 110.28\n",
      "2400000 Python 107.88\n",
      "2450000 Python 112.52\n"
     ]
    },
    {
     "name": "stderr",
     "output_type": "stream",
     "text": [
      "<unknown>:37: SyntaxWarning: invalid decimal literal\n"
     ]
    },
    {
     "name": "stdout",
     "output_type": "stream",
     "text": [
      "2500000 Python 110.84\n",
      "2550000 Python 110.52\n"
     ]
    },
    {
     "name": "stderr",
     "output_type": "stream",
     "text": [
      "<unknown>:1: SyntaxWarning: invalid decimal literal\n",
      "<unknown>:1: SyntaxWarning: invalid decimal literal\n"
     ]
    },
    {
     "name": "stdout",
     "output_type": "stream",
     "text": [
      "2600000 Python 109.05\n",
      "2650000 Python 106.38\n"
     ]
    },
    {
     "name": "stderr",
     "output_type": "stream",
     "text": [
      "<unknown>:192: SyntaxWarning: invalid decimal literal\n"
     ]
    },
    {
     "name": "stdout",
     "output_type": "stream",
     "text": [
      "2700000 Python 113.86\n",
      "2750000 Python 158.68\n",
      "2800000 Python 127.1\n",
      "2850000 Python 125.53\n"
     ]
    },
    {
     "name": "stderr",
     "output_type": "stream",
     "text": [
      "<unknown>:1: SyntaxWarning: invalid decimal literal\n"
     ]
    },
    {
     "name": "stdout",
     "output_type": "stream",
     "text": [
      "2900000 Python 128.04\n",
      "2950000 Python 122.62\n",
      "3000000 Python 137.52\n",
      "3050000 Python 119.97\n"
     ]
    },
    {
     "name": "stderr",
     "output_type": "stream",
     "text": [
      "<unknown>:1: SyntaxWarning: invalid decimal literal\n"
     ]
    },
    {
     "name": "stdout",
     "output_type": "stream",
     "text": [
      "3100000 Python 140.13\n",
      "3150000 Python 113.81\n",
      "3200000 Python 135.32\n",
      "3250000 Python 128.42\n",
      "3300000 Python 121.91\n",
      "3350000 Python 125.39\n"
     ]
    },
    {
     "name": "stderr",
     "output_type": "stream",
     "text": [
      "<unknown>:1: SyntaxWarning: invalid decimal literal\n"
     ]
    },
    {
     "name": "stdout",
     "output_type": "stream",
     "text": [
      "3400000 Python 132.49\n",
      "3450000 Python 140.75\n",
      "3500000 Python 107.88\n",
      "3550000 Python 135.39\n",
      "3600000 Python 118.67\n",
      "3650000 Python 135.53\n",
      "3700000 Python 121.39\n",
      "3750000 Python 125.16\n",
      "3800000 Python 140.42\n",
      "3850000 Python 113.3\n",
      "3900000 Python 135.37\n"
     ]
    },
    {
     "name": "stderr",
     "output_type": "stream",
     "text": [
      "<unknown>:298: SyntaxWarning: invalid decimal literal\n"
     ]
    },
    {
     "name": "stdout",
     "output_type": "stream",
     "text": [
      "3950000 Python 115.77\n",
      "4000000 Python 147.93\n",
      "4050000 Python 115.85\n",
      "4100000 Python 149.17\n",
      "4150000 Python 118.62\n",
      "4200000 Python 125.91\n",
      "4250000 Python 130.96\n"
     ]
    },
    {
     "name": "stderr",
     "output_type": "stream",
     "text": [
      "<unknown>:32: SyntaxWarning: invalid decimal literal\n"
     ]
    },
    {
     "name": "stdout",
     "output_type": "stream",
     "text": [
      "4300000 Python 122.35\n"
     ]
    },
    {
     "name": "stderr",
     "output_type": "stream",
     "text": [
      "<unknown>:9: SyntaxWarning: invalid decimal literal\n",
      "<unknown>:13: SyntaxWarning: invalid decimal literal\n"
     ]
    },
    {
     "name": "stdout",
     "output_type": "stream",
     "text": [
      "4350000 Python 139.77\n",
      "4400000 Python 109.23\n",
      "4450000 Python 136.21\n"
     ]
    },
    {
     "name": "stderr",
     "output_type": "stream",
     "text": [
      "<unknown>:1: SyntaxWarning: invalid decimal literal\n"
     ]
    },
    {
     "name": "stdout",
     "output_type": "stream",
     "text": [
      "4500000 Python 123.3\n",
      "4550000 Python 143.13\n",
      "4600000 Python 117.28\n",
      "4650000 Python 136.15\n",
      "4700000 Python 137.12\n",
      "4750000 Python 119.4\n"
     ]
    },
    {
     "name": "stderr",
     "output_type": "stream",
     "text": [
      "<unknown>:329: SyntaxWarning: invalid decimal literal\n"
     ]
    },
    {
     "name": "stdout",
     "output_type": "stream",
     "text": [
      "4800000 Python 145.72\n",
      "4850000 Python 114.03\n",
      "4900000 Python 143.69\n",
      "4950000 Python 107.49\n",
      "5000000 Python 145.56\n",
      "5050000 Python 114.94\n",
      "5100000 Python 127.37\n",
      "5150000 Python 124.36\n",
      "5200000 Python 122.59\n",
      "5250000 Python 136.42\n",
      "5300000 Python 112.12\n"
     ]
    },
    {
     "name": "stderr",
     "output_type": "stream",
     "text": [
      "<unknown>:64: SyntaxWarning: invalid decimal literal\n"
     ]
    },
    {
     "name": "stdout",
     "output_type": "stream",
     "text": [
      "5350000 Python 154.65\n"
     ]
    },
    {
     "name": "stderr",
     "output_type": "stream",
     "text": [
      "<unknown>:41: SyntaxWarning: invalid decimal literal\n",
      "<unknown>:41: SyntaxWarning: invalid decimal literal\n",
      "<unknown>:41: SyntaxWarning: invalid decimal literal\n",
      "<unknown>:78: SyntaxWarning: invalid decimal literal\n",
      "<unknown>:103: SyntaxWarning: invalid decimal literal\n"
     ]
    },
    {
     "name": "stdout",
     "output_type": "stream",
     "text": [
      "5400000 Python 110.18\n",
      "5450000 Python 135.95\n"
     ]
    },
    {
     "name": "stderr",
     "output_type": "stream",
     "text": [
      "<unknown>:2: SyntaxWarning: invalid decimal literal\n"
     ]
    },
    {
     "name": "stdout",
     "output_type": "stream",
     "text": [
      "5500000 Python 117.71\n"
     ]
    },
    {
     "name": "stderr",
     "output_type": "stream",
     "text": [
      "<unknown>:50: SyntaxWarning: invalid decimal literal\n"
     ]
    },
    {
     "name": "stdout",
     "output_type": "stream",
     "text": [
      "5550000 Python 130.35\n",
      "5600000 Python 128.75\n",
      "5650000 Python 133.12\n",
      "5700000 Python 131.42\n",
      "5750000 Python 118.59\n",
      "5800000 Python 138.8\n",
      "5850000 Python 112.78\n",
      "5900000 Python 141.98\n"
     ]
    },
    {
     "name": "stderr",
     "output_type": "stream",
     "text": [
      "<unknown>:3: SyntaxWarning: invalid decimal literal\n",
      "<unknown>:4: SyntaxWarning: invalid decimal literal\n"
     ]
    },
    {
     "name": "stdout",
     "output_type": "stream",
     "text": [
      "5950000 Python 121.17\n",
      "6000000 Python 141.71\n",
      "6050000 Python 132.34\n",
      "6100000 Python 115.58\n"
     ]
    },
    {
     "name": "stderr",
     "output_type": "stream",
     "text": [
      "<unknown>:26: SyntaxWarning: invalid decimal literal\n"
     ]
    },
    {
     "name": "stdout",
     "output_type": "stream",
     "text": [
      "6150000 Python 134.99\n",
      "6200000 Python 121.81\n",
      "6250000 Python 132.51\n",
      "6300000 Python 126.76\n",
      "6350000 Python 137.71\n"
     ]
    },
    {
     "name": "stderr",
     "output_type": "stream",
     "text": [
      "<unknown>:59: SyntaxWarning: invalid decimal literal\n"
     ]
    },
    {
     "name": "stdout",
     "output_type": "stream",
     "text": [
      "6400000 Python 121.74\n",
      "6450000 Python 135.33\n",
      "6500000 Python 128.28\n",
      "6550000 Python 118.74\n",
      "6600000 Python 124.59\n",
      "6650000 Python 121.14\n",
      "6700000 Python 148.52\n",
      "6750000 Python 109.6\n",
      "6800000 Python 130.14\n",
      "6850000 Python 123.9\n",
      "6900000 Python 132.76\n",
      "6950000 Python 137.17\n",
      "7000000 Python 119.07\n",
      "7050000 Python 134.73\n",
      "7100000 Python 117.67\n",
      "7150000 Python 145.52\n",
      "7200000 Python 111.03\n",
      "7250000 Python 137.94\n",
      "7300000 Python 123.76\n",
      "7350000 Python 125.26\n",
      "7400000 Python 131.06\n",
      "7450000 Python 123.05\n"
     ]
    },
    {
     "name": "stderr",
     "output_type": "stream",
     "text": [
      "<unknown>:4: SyntaxWarning: invalid decimal literal\n",
      "<unknown>:4: SyntaxWarning: invalid decimal literal\n",
      "<unknown>:4: SyntaxWarning: invalid decimal literal\n"
     ]
    },
    {
     "name": "stdout",
     "output_type": "stream",
     "text": [
      "7500000 Python 137.31\n",
      "7550000 Python 115.85\n",
      "7600000 Python 143.64\n",
      "7650000 Python 110.36\n",
      "7700000 Python 138.43\n",
      "7750000 Python 126.85\n"
     ]
    },
    {
     "name": "stderr",
     "output_type": "stream",
     "text": [
      "<unknown>:90: SyntaxWarning: invalid imaginary literal\n",
      "<unknown>:78: SyntaxWarning: invalid decimal literal\n"
     ]
    },
    {
     "name": "stdout",
     "output_type": "stream",
     "text": [
      "7800000 Python 120.38\n",
      "7850000 Python 137.7\n"
     ]
    },
    {
     "name": "stderr",
     "output_type": "stream",
     "text": [
      "<unknown>:1: SyntaxWarning: invalid decimal literal\n"
     ]
    },
    {
     "name": "stdout",
     "output_type": "stream",
     "text": [
      "7900000 Python 114.32\n",
      "7950000 Python 142.99\n",
      "8000000 Python 114.05\n"
     ]
    },
    {
     "name": "stderr",
     "output_type": "stream",
     "text": [
      "<unknown>:161: SyntaxWarning: invalid decimal literal\n",
      "<unknown>:172: SyntaxWarning: invalid decimal literal\n",
      "<unknown>:184: SyntaxWarning: invalid decimal literal\n",
      "<unknown>:196: SyntaxWarning: invalid decimal literal\n"
     ]
    },
    {
     "name": "stdout",
     "output_type": "stream",
     "text": [
      "8050000 Python 134.65\n",
      "8100000 Python 107.42\n",
      "8150000 Python 135.13\n"
     ]
    },
    {
     "name": "stderr",
     "output_type": "stream",
     "text": [
      "<unknown>:190: SyntaxWarning: invalid decimal literal\n"
     ]
    },
    {
     "name": "stdout",
     "output_type": "stream",
     "text": [
      "8200000 Python 125.09\n",
      "8250000 Python 133.98\n",
      "8300000 Python 119.12\n",
      "8350000 Python 127.83\n",
      "8400000 Python 137.83\n",
      "8450000 Python 113.79\n",
      "8500000 Python 134.83\n",
      "8550000 Python 111.05\n",
      "8600000 Python 139.48\n",
      "8650000 Python 124.33\n",
      "8700000 Python 137.13\n",
      "8750000 Python 127.04\n",
      "8800000 Python 119.92\n"
     ]
    },
    {
     "name": "stderr",
     "output_type": "stream",
     "text": [
      "<unknown>:44: SyntaxWarning: invalid decimal literal\n",
      "<unknown>:76: SyntaxWarning: invalid decimal literal\n",
      "<unknown>:76: SyntaxWarning: invalid decimal literal\n",
      "<unknown>:76: SyntaxWarning: invalid decimal literal\n"
     ]
    },
    {
     "name": "stdout",
     "output_type": "stream",
     "text": [
      "8850000 Python 141.56\n",
      "8900000 Python 117.42\n"
     ]
    },
    {
     "name": "stderr",
     "output_type": "stream",
     "text": [
      "<unknown>:15: SyntaxWarning: invalid decimal literal\n"
     ]
    },
    {
     "name": "stdout",
     "output_type": "stream",
     "text": [
      "8950000 Python 145.83\n",
      "9000000 Python 110.07\n",
      "9050000 Python 150.45\n",
      "9100000 Python 118.33\n",
      "9150000 Python 133.33\n",
      "9200000 Python 122.32\n",
      "9250000 Python 121.18\n"
     ]
    },
    {
     "name": "stderr",
     "output_type": "stream",
     "text": [
      "<unknown>:37: SyntaxWarning: invalid decimal literal\n",
      "<unknown>:54: SyntaxWarning: invalid decimal literal\n",
      "<unknown>:112: SyntaxWarning: invalid decimal literal\n"
     ]
    },
    {
     "name": "stdout",
     "output_type": "stream",
     "text": [
      "9300000 Python 134.85\n"
     ]
    },
    {
     "name": "stderr",
     "output_type": "stream",
     "text": [
      "<unknown>:88: SyntaxWarning: invalid decimal literal\n"
     ]
    },
    {
     "name": "stdout",
     "output_type": "stream",
     "text": [
      "9350000 Python 112.6\n",
      "9400000 Python 132.98\n",
      "9450000 Python 109.64\n",
      "9500000 Python 152.15\n",
      "9550000 Python 117.24\n",
      "9600000 Python 140.98\n",
      "9650000 Python 125.42\n",
      "9700000 Python 123.59\n",
      "9750000 Python 131.7\n",
      "9800000 Python 110.13\n",
      "9850000 Python 129.8\n",
      "9900000 Python 115.29\n",
      "9950000 Python 144.69\n",
      "10000000 Python 125.78\n",
      "10050000 Python 131.93\n",
      "10100000 Python 133.74\n"
     ]
    },
    {
     "name": "stderr",
     "output_type": "stream",
     "text": [
      "<unknown>:1: SyntaxWarning: invalid decimal literal\n"
     ]
    },
    {
     "name": "stdout",
     "output_type": "stream",
     "text": [
      "10150000 Python 126.97\n",
      "10200000 Python 132.13\n",
      "10250000 Python 121.82\n"
     ]
    },
    {
     "name": "stderr",
     "output_type": "stream",
     "text": [
      "<unknown>:79: SyntaxWarning: invalid decimal literal\n"
     ]
    },
    {
     "name": "stdout",
     "output_type": "stream",
     "text": [
      "10300000 Python 147.71\n",
      "10350000 Python 118.13\n"
     ]
    },
    {
     "name": "stderr",
     "output_type": "stream",
     "text": [
      "<unknown>:49: SyntaxWarning: invalid decimal literal\n"
     ]
    },
    {
     "name": "stdout",
     "output_type": "stream",
     "text": [
      "10400000 Python 144.34\n"
     ]
    },
    {
     "name": "stderr",
     "output_type": "stream",
     "text": [
      "<unknown>:2: SyntaxWarning: invalid decimal literal\n",
      "<unknown>:3: SyntaxWarning: invalid decimal literal\n",
      "<unknown>:3: SyntaxWarning: invalid decimal literal\n",
      "<unknown>:4: SyntaxWarning: invalid decimal literal\n",
      "<unknown>:4: SyntaxWarning: invalid decimal literal\n",
      "<unknown>:5: SyntaxWarning: invalid decimal literal\n",
      "<unknown>:5: SyntaxWarning: invalid decimal literal\n"
     ]
    },
    {
     "name": "stdout",
     "output_type": "stream",
     "text": [
      "10450000 Python 118.65\n"
     ]
    },
    {
     "name": "stderr",
     "output_type": "stream",
     "text": [
      "<unknown>:173: SyntaxWarning: invalid decimal literal\n"
     ]
    },
    {
     "name": "stdout",
     "output_type": "stream",
     "text": [
      "10500000 Python 130.15\n",
      "10550000 Python 136.96\n",
      "10600000 Python 120.42\n",
      "10650000 Python 132.2\n",
      "10700000 Python 113.55\n",
      "10750000 Python 139.06\n"
     ]
    },
    {
     "name": "stderr",
     "output_type": "stream",
     "text": [
      "<unknown>:38: SyntaxWarning: invalid decimal literal\n"
     ]
    },
    {
     "name": "stdout",
     "output_type": "stream",
     "text": [
      "10800000 Python 114.11\n"
     ]
    },
    {
     "name": "stderr",
     "output_type": "stream",
     "text": [
      "<unknown>:319: SyntaxWarning: invalid decimal literal\n"
     ]
    },
    {
     "name": "stdout",
     "output_type": "stream",
     "text": [
      "10850000 Python 141.17\n",
      "10900000 Python 120.65\n",
      "10950000 Python 137.4\n",
      "11000000 Python 143.84\n",
      "11050000 Python 117.94\n",
      "11100000 Python 141.41\n",
      "11150000 Python 108.72\n"
     ]
    },
    {
     "name": "stderr",
     "output_type": "stream",
     "text": [
      "<unknown>:52: SyntaxWarning: invalid decimal literal\n"
     ]
    },
    {
     "name": "stdout",
     "output_type": "stream",
     "text": [
      "11200000 Python 140.29\n",
      "11250000 Python 113.46\n",
      "11300000 Python 140.7\n",
      "11350000 Python 115.85\n",
      "11400000 Python 135.64\n",
      "11450000 Python 123.51\n",
      "11500000 Python 131.2\n",
      "11550000 Python 139.45\n",
      "11600000 Python 111.62\n",
      "11650000 Python 138.88\n",
      "11700000 Python 114.44\n",
      "11750000 Python 137.55\n",
      "11800000 Python 117.16\n",
      "11850000 Python 133.55\n",
      "11900000 Python 125.44\n"
     ]
    },
    {
     "name": "stderr",
     "output_type": "stream",
     "text": [
      "<unknown>:26: SyntaxWarning: invalid decimal literal\n"
     ]
    },
    {
     "name": "stdout",
     "output_type": "stream",
     "text": [
      "11950000 Python 131.14\n",
      "12000000 Python 134.52\n",
      "12050000 Python 118.57\n",
      "12100000 Python 141.5\n",
      "12150000 Python 115.03\n",
      "12200000 Python 145.17\n",
      "12250000 Python 115.84\n",
      "12300000 Python 139.55\n",
      "12350000 Python 122.93\n",
      "12400000 Python 128.25\n",
      "12450000 Python 136.41\n",
      "12500000 Python 111.21\n",
      "12550000 Python 154.91\n",
      "12600000 Python 117.98\n",
      "12650000 Python 141.88\n",
      "12700000 Python 122.62\n"
     ]
    },
    {
     "name": "stderr",
     "output_type": "stream",
     "text": [
      "<unknown>:22: SyntaxWarning: invalid decimal literal\n"
     ]
    },
    {
     "name": "stdout",
     "output_type": "stream",
     "text": [
      "12750000 Python 139.27\n",
      "12800000 Python 134.4\n"
     ]
    },
    {
     "name": "stderr",
     "output_type": "stream",
     "text": [
      "<unknown>:1: SyntaxWarning: invalid decimal literal\n"
     ]
    },
    {
     "name": "stdout",
     "output_type": "stream",
     "text": [
      "12850000 Python 140.92\n",
      "12900000 Python 144.16\n",
      "12950000 Python 143.68\n",
      "CPU times: total: 7h 29min 58s\n",
      "Wall time: 8h 59min 4s\n"
     ]
    }
   ],
   "source": [
    "%%time\n",
    "import json\n",
    "import time\n",
    "import pandas as pd\n",
    "import pyarrow as pa\n",
    "import pyarrow.parquet as pq\n",
    "from datasets import load_dataset\n",
    "\n",
    "# Define the chunk size\n",
    "chunk_size = 1000\n",
    "py_error_count = 0\n",
    "\n",
    "# Process the dataset in chunks\n",
    "i = 0\n",
    "\n",
    "start_time = time.time()\n",
    "processed_data = []\n",
    "\n",
    "# Initialize ParquetWriter\n",
    "parquet_file = 'new_dataset.parquet'\n",
    "schema = None\n",
    "writer = None\n",
    "\n",
    "try:\n",
    "    language = 'Python'\n",
    "    for example in dataset:\n",
    "        i += 1\n",
    "        \n",
    "        if not i % 50000:\n",
    "            current_time = time.time()\n",
    "            print(i, language, round(current_time - start_time, 2), flush=True)\n",
    "            start_time = current_time\n",
    "        \n",
    "        data, py_error_count = handle_py_data(example, dataset, py_error_count)\n",
    "        processed_data += data\n",
    "        if len(processed_data) >= chunk_size:\n",
    "            # Convert the processed data to a DataFrame\n",
    "            df = pd.DataFrame(processed_data)\n",
    "            table = pa.Table.from_pandas(df)\n",
    "\n",
    "            if schema is None:\n",
    "                schema = table.schema\n",
    "                writer = pq.ParquetWriter(parquet_file, schema)\n",
    "\n",
    "            # Write the Table to the Parquet file\n",
    "            writer.write_table(table)\n",
    "\n",
    "            # Clear the list to free memory\n",
    "            processed_data.clear()\n",
    "\n",
    "    # Write any remaining data\n",
    "    if processed_data:\n",
    "        df = pd.DataFrame(processed_data)\n",
    "        table = pa.Table.from_pandas(df)\n",
    "        if writer is None:\n",
    "            writer = pq.ParquetWriter(parquet_file, table.schema)\n",
    "        writer.write_table(table)\n",
    "\n",
    "finally:\n",
    "    # Close the ParquetWriter\n",
    "    if writer:\n",
    "        writer.close()\n"
   ]
  },
  {
   "cell_type": "code",
   "execution_count": 28,
   "id": "2156255b-5ee5-469b-86b7-e2366cf42ba0",
   "metadata": {
    "collapsed": true,
    "jupyter": {
     "outputs_hidden": true
    },
    "tags": []
   },
   "outputs": [
    {
     "ename": "KeyboardInterrupt",
     "evalue": "",
     "output_type": "error",
     "traceback": [
      "\u001b[1;31m---------------------------------------------------------------------------\u001b[0m",
      "\u001b[1;31mKeyboardInterrupt\u001b[0m                         Traceback (most recent call last)",
      "File \u001b[1;32m<timed exec>:17\u001b[0m\n",
      "File \u001b[1;32m~\\anaconda3\\Lib\\site-packages\\datasets\\load.py:2592\u001b[0m, in \u001b[0;36mload_dataset\u001b[1;34m(path, name, data_dir, data_files, split, cache_dir, features, download_config, download_mode, verification_mode, ignore_verifications, keep_in_memory, save_infos, revision, token, use_auth_token, task, streaming, num_proc, storage_options, trust_remote_code, **config_kwargs)\u001b[0m\n\u001b[0;32m   2587\u001b[0m verification_mode \u001b[38;5;241m=\u001b[39m VerificationMode(\n\u001b[0;32m   2588\u001b[0m     (verification_mode \u001b[38;5;129;01mor\u001b[39;00m VerificationMode\u001b[38;5;241m.\u001b[39mBASIC_CHECKS) \u001b[38;5;28;01mif\u001b[39;00m \u001b[38;5;129;01mnot\u001b[39;00m save_infos \u001b[38;5;28;01melse\u001b[39;00m VerificationMode\u001b[38;5;241m.\u001b[39mALL_CHECKS\n\u001b[0;32m   2589\u001b[0m )\n\u001b[0;32m   2591\u001b[0m \u001b[38;5;66;03m# Create a dataset builder\u001b[39;00m\n\u001b[1;32m-> 2592\u001b[0m builder_instance \u001b[38;5;241m=\u001b[39m load_dataset_builder(\n\u001b[0;32m   2593\u001b[0m     path\u001b[38;5;241m=\u001b[39mpath,\n\u001b[0;32m   2594\u001b[0m     name\u001b[38;5;241m=\u001b[39mname,\n\u001b[0;32m   2595\u001b[0m     data_dir\u001b[38;5;241m=\u001b[39mdata_dir,\n\u001b[0;32m   2596\u001b[0m     data_files\u001b[38;5;241m=\u001b[39mdata_files,\n\u001b[0;32m   2597\u001b[0m     cache_dir\u001b[38;5;241m=\u001b[39mcache_dir,\n\u001b[0;32m   2598\u001b[0m     features\u001b[38;5;241m=\u001b[39mfeatures,\n\u001b[0;32m   2599\u001b[0m     download_config\u001b[38;5;241m=\u001b[39mdownload_config,\n\u001b[0;32m   2600\u001b[0m     download_mode\u001b[38;5;241m=\u001b[39mdownload_mode,\n\u001b[0;32m   2601\u001b[0m     revision\u001b[38;5;241m=\u001b[39mrevision,\n\u001b[0;32m   2602\u001b[0m     token\u001b[38;5;241m=\u001b[39mtoken,\n\u001b[0;32m   2603\u001b[0m     storage_options\u001b[38;5;241m=\u001b[39mstorage_options,\n\u001b[0;32m   2604\u001b[0m     trust_remote_code\u001b[38;5;241m=\u001b[39mtrust_remote_code,\n\u001b[0;32m   2605\u001b[0m     _require_default_config_name\u001b[38;5;241m=\u001b[39mname \u001b[38;5;129;01mis\u001b[39;00m \u001b[38;5;28;01mNone\u001b[39;00m,\n\u001b[0;32m   2606\u001b[0m     \u001b[38;5;241m*\u001b[39m\u001b[38;5;241m*\u001b[39mconfig_kwargs,\n\u001b[0;32m   2607\u001b[0m )\n\u001b[0;32m   2609\u001b[0m \u001b[38;5;66;03m# Return iterable dataset in case of streaming\u001b[39;00m\n\u001b[0;32m   2610\u001b[0m \u001b[38;5;28;01mif\u001b[39;00m streaming:\n",
      "File \u001b[1;32m~\\anaconda3\\Lib\\site-packages\\datasets\\load.py:2264\u001b[0m, in \u001b[0;36mload_dataset_builder\u001b[1;34m(path, name, data_dir, data_files, cache_dir, features, download_config, download_mode, revision, token, use_auth_token, storage_options, trust_remote_code, _require_default_config_name, **config_kwargs)\u001b[0m\n\u001b[0;32m   2262\u001b[0m     download_config \u001b[38;5;241m=\u001b[39m download_config\u001b[38;5;241m.\u001b[39mcopy() \u001b[38;5;28;01mif\u001b[39;00m download_config \u001b[38;5;28;01melse\u001b[39;00m DownloadConfig()\n\u001b[0;32m   2263\u001b[0m     download_config\u001b[38;5;241m.\u001b[39mstorage_options\u001b[38;5;241m.\u001b[39mupdate(storage_options)\n\u001b[1;32m-> 2264\u001b[0m dataset_module \u001b[38;5;241m=\u001b[39m dataset_module_factory(\n\u001b[0;32m   2265\u001b[0m     path,\n\u001b[0;32m   2266\u001b[0m     revision\u001b[38;5;241m=\u001b[39mrevision,\n\u001b[0;32m   2267\u001b[0m     download_config\u001b[38;5;241m=\u001b[39mdownload_config,\n\u001b[0;32m   2268\u001b[0m     download_mode\u001b[38;5;241m=\u001b[39mdownload_mode,\n\u001b[0;32m   2269\u001b[0m     data_dir\u001b[38;5;241m=\u001b[39mdata_dir,\n\u001b[0;32m   2270\u001b[0m     data_files\u001b[38;5;241m=\u001b[39mdata_files,\n\u001b[0;32m   2271\u001b[0m     cache_dir\u001b[38;5;241m=\u001b[39mcache_dir,\n\u001b[0;32m   2272\u001b[0m     trust_remote_code\u001b[38;5;241m=\u001b[39mtrust_remote_code,\n\u001b[0;32m   2273\u001b[0m     _require_default_config_name\u001b[38;5;241m=\u001b[39m_require_default_config_name,\n\u001b[0;32m   2274\u001b[0m     _require_custom_configs\u001b[38;5;241m=\u001b[39m\u001b[38;5;28mbool\u001b[39m(config_kwargs),\n\u001b[0;32m   2275\u001b[0m )\n\u001b[0;32m   2276\u001b[0m \u001b[38;5;66;03m# Get dataset builder class from the processing script\u001b[39;00m\n\u001b[0;32m   2277\u001b[0m builder_kwargs \u001b[38;5;241m=\u001b[39m dataset_module\u001b[38;5;241m.\u001b[39mbuilder_kwargs\n",
      "File \u001b[1;32m~\\anaconda3\\Lib\\site-packages\\datasets\\load.py:1897\u001b[0m, in \u001b[0;36mdataset_module_factory\u001b[1;34m(path, revision, download_config, download_mode, dynamic_modules_path, data_dir, data_files, cache_dir, trust_remote_code, _require_default_config_name, _require_custom_configs, **download_kwargs)\u001b[0m\n\u001b[0;32m   1881\u001b[0m         \u001b[38;5;28;01mreturn\u001b[39;00m HubDatasetModuleFactoryWithScript(\n\u001b[0;32m   1882\u001b[0m             path,\n\u001b[0;32m   1883\u001b[0m             revision\u001b[38;5;241m=\u001b[39mrevision,\n\u001b[1;32m   (...)\u001b[0m\n\u001b[0;32m   1887\u001b[0m             trust_remote_code\u001b[38;5;241m=\u001b[39mtrust_remote_code,\n\u001b[0;32m   1888\u001b[0m         )\u001b[38;5;241m.\u001b[39mget_module()\n\u001b[0;32m   1889\u001b[0m     \u001b[38;5;28;01melse\u001b[39;00m:\n\u001b[0;32m   1890\u001b[0m         \u001b[38;5;28;01mreturn\u001b[39;00m HubDatasetModuleFactoryWithoutScript(\n\u001b[0;32m   1891\u001b[0m             path,\n\u001b[0;32m   1892\u001b[0m             revision\u001b[38;5;241m=\u001b[39mrevision,\n\u001b[0;32m   1893\u001b[0m             data_dir\u001b[38;5;241m=\u001b[39mdata_dir,\n\u001b[0;32m   1894\u001b[0m             data_files\u001b[38;5;241m=\u001b[39mdata_files,\n\u001b[0;32m   1895\u001b[0m             download_config\u001b[38;5;241m=\u001b[39mdownload_config,\n\u001b[0;32m   1896\u001b[0m             download_mode\u001b[38;5;241m=\u001b[39mdownload_mode,\n\u001b[1;32m-> 1897\u001b[0m         )\u001b[38;5;241m.\u001b[39mget_module()\n\u001b[0;32m   1898\u001b[0m \u001b[38;5;28;01mexcept\u001b[39;00m \u001b[38;5;167;01mException\u001b[39;00m \u001b[38;5;28;01mas\u001b[39;00m e1:\n\u001b[0;32m   1899\u001b[0m     \u001b[38;5;66;03m# All the attempts failed, before raising the error we should check if the module is already cached\u001b[39;00m\n\u001b[0;32m   1900\u001b[0m     \u001b[38;5;28;01mtry\u001b[39;00m:\n",
      "File \u001b[1;32m~\\anaconda3\\Lib\\site-packages\\datasets\\load.py:1268\u001b[0m, in \u001b[0;36mHubDatasetModuleFactoryWithoutScript.get_module\u001b[1;34m(self)\u001b[0m\n\u001b[0;32m   1266\u001b[0m     patterns \u001b[38;5;241m=\u001b[39m sanitize_patterns(\u001b[38;5;28mnext\u001b[39m(\u001b[38;5;28miter\u001b[39m(metadata_configs\u001b[38;5;241m.\u001b[39mvalues()))[\u001b[38;5;124m\"\u001b[39m\u001b[38;5;124mdata_files\u001b[39m\u001b[38;5;124m\"\u001b[39m])\n\u001b[0;32m   1267\u001b[0m \u001b[38;5;28;01melse\u001b[39;00m:\n\u001b[1;32m-> 1268\u001b[0m     patterns \u001b[38;5;241m=\u001b[39m get_data_patterns(base_path, download_config\u001b[38;5;241m=\u001b[39m\u001b[38;5;28mself\u001b[39m\u001b[38;5;241m.\u001b[39mdownload_config)\n\u001b[0;32m   1269\u001b[0m data_files \u001b[38;5;241m=\u001b[39m DataFilesDict\u001b[38;5;241m.\u001b[39mfrom_patterns(\n\u001b[0;32m   1270\u001b[0m     patterns,\n\u001b[0;32m   1271\u001b[0m     base_path\u001b[38;5;241m=\u001b[39mbase_path,\n\u001b[0;32m   1272\u001b[0m     allowed_extensions\u001b[38;5;241m=\u001b[39mALL_ALLOWED_EXTENSIONS,\n\u001b[0;32m   1273\u001b[0m     download_config\u001b[38;5;241m=\u001b[39m\u001b[38;5;28mself\u001b[39m\u001b[38;5;241m.\u001b[39mdownload_config,\n\u001b[0;32m   1274\u001b[0m )\n\u001b[0;32m   1275\u001b[0m module_name, default_builder_kwargs \u001b[38;5;241m=\u001b[39m infer_module_for_data_files(\n\u001b[0;32m   1276\u001b[0m     data_files\u001b[38;5;241m=\u001b[39mdata_files,\n\u001b[0;32m   1277\u001b[0m     path\u001b[38;5;241m=\u001b[39m\u001b[38;5;28mself\u001b[39m\u001b[38;5;241m.\u001b[39mname,\n\u001b[0;32m   1278\u001b[0m     download_config\u001b[38;5;241m=\u001b[39m\u001b[38;5;28mself\u001b[39m\u001b[38;5;241m.\u001b[39mdownload_config,\n\u001b[0;32m   1279\u001b[0m )\n",
      "File \u001b[1;32m~\\anaconda3\\Lib\\site-packages\\datasets\\data_files.py:497\u001b[0m, in \u001b[0;36mget_data_patterns\u001b[1;34m(base_path, download_config)\u001b[0m\n\u001b[0;32m    495\u001b[0m resolver \u001b[38;5;241m=\u001b[39m partial(resolve_pattern, base_path\u001b[38;5;241m=\u001b[39mbase_path, download_config\u001b[38;5;241m=\u001b[39mdownload_config)\n\u001b[0;32m    496\u001b[0m \u001b[38;5;28;01mtry\u001b[39;00m:\n\u001b[1;32m--> 497\u001b[0m     \u001b[38;5;28;01mreturn\u001b[39;00m _get_data_files_patterns(resolver)\n\u001b[0;32m    498\u001b[0m \u001b[38;5;28;01mexcept\u001b[39;00m \u001b[38;5;167;01mFileNotFoundError\u001b[39;00m:\n\u001b[0;32m    499\u001b[0m     \u001b[38;5;28;01mraise\u001b[39;00m EmptyDatasetError(\u001b[38;5;124mf\u001b[39m\u001b[38;5;124m\"\u001b[39m\u001b[38;5;124mThe directory at \u001b[39m\u001b[38;5;132;01m{\u001b[39;00mbase_path\u001b[38;5;132;01m}\u001b[39;00m\u001b[38;5;124m doesn\u001b[39m\u001b[38;5;124m'\u001b[39m\u001b[38;5;124mt contain any data files\u001b[39m\u001b[38;5;124m\"\u001b[39m) \u001b[38;5;28;01mfrom\u001b[39;00m \u001b[38;5;28;01mNone\u001b[39;00m\n",
      "File \u001b[1;32m~\\anaconda3\\Lib\\site-packages\\datasets\\data_files.py:292\u001b[0m, in \u001b[0;36m_get_data_files_patterns\u001b[1;34m(pattern_resolver)\u001b[0m\n\u001b[0;32m    290\u001b[0m \u001b[38;5;28;01mfor\u001b[39;00m pattern \u001b[38;5;129;01min\u001b[39;00m patterns:\n\u001b[0;32m    291\u001b[0m     \u001b[38;5;28;01mtry\u001b[39;00m:\n\u001b[1;32m--> 292\u001b[0m         data_files \u001b[38;5;241m=\u001b[39m pattern_resolver(pattern)\n\u001b[0;32m    293\u001b[0m     \u001b[38;5;28;01mexcept\u001b[39;00m \u001b[38;5;167;01mFileNotFoundError\u001b[39;00m:\n\u001b[0;32m    294\u001b[0m         \u001b[38;5;28;01mcontinue\u001b[39;00m\n",
      "File \u001b[1;32m~\\anaconda3\\Lib\\site-packages\\datasets\\data_files.py:384\u001b[0m, in \u001b[0;36mresolve_pattern\u001b[1;34m(pattern, base_path, allowed_extensions, download_config)\u001b[0m\n\u001b[0;32m    379\u001b[0m \u001b[38;5;28;01mif\u001b[39;00m protocol \u001b[38;5;241m==\u001b[39m \u001b[38;5;124m\"\u001b[39m\u001b[38;5;124mhf\u001b[39m\u001b[38;5;124m\"\u001b[39m \u001b[38;5;129;01mand\u001b[39;00m config\u001b[38;5;241m.\u001b[39mHF_HUB_VERSION \u001b[38;5;241m>\u001b[39m\u001b[38;5;241m=\u001b[39m version\u001b[38;5;241m.\u001b[39mparse(\u001b[38;5;124m\"\u001b[39m\u001b[38;5;124m0.20.0\u001b[39m\u001b[38;5;124m\"\u001b[39m):\n\u001b[0;32m    380\u001b[0m     \u001b[38;5;66;03m# 10 times faster glob with detail=True (ignores costly info like lastCommit)\u001b[39;00m\n\u001b[0;32m    381\u001b[0m     glob_kwargs[\u001b[38;5;124m\"\u001b[39m\u001b[38;5;124mexpand_info\u001b[39m\u001b[38;5;124m\"\u001b[39m] \u001b[38;5;241m=\u001b[39m \u001b[38;5;28;01mFalse\u001b[39;00m\n\u001b[0;32m    382\u001b[0m matched_paths \u001b[38;5;241m=\u001b[39m [\n\u001b[0;32m    383\u001b[0m     filepath \u001b[38;5;28;01mif\u001b[39;00m filepath\u001b[38;5;241m.\u001b[39mstartswith(protocol_prefix) \u001b[38;5;28;01melse\u001b[39;00m protocol_prefix \u001b[38;5;241m+\u001b[39m filepath\n\u001b[1;32m--> 384\u001b[0m     \u001b[38;5;28;01mfor\u001b[39;00m filepath, info \u001b[38;5;129;01min\u001b[39;00m fs\u001b[38;5;241m.\u001b[39mglob(pattern, detail\u001b[38;5;241m=\u001b[39m\u001b[38;5;28;01mTrue\u001b[39;00m, \u001b[38;5;241m*\u001b[39m\u001b[38;5;241m*\u001b[39mglob_kwargs)\u001b[38;5;241m.\u001b[39mitems()\n\u001b[0;32m    385\u001b[0m     \u001b[38;5;28;01mif\u001b[39;00m info[\u001b[38;5;124m\"\u001b[39m\u001b[38;5;124mtype\u001b[39m\u001b[38;5;124m\"\u001b[39m] \u001b[38;5;241m==\u001b[39m \u001b[38;5;124m\"\u001b[39m\u001b[38;5;124mfile\u001b[39m\u001b[38;5;124m\"\u001b[39m\n\u001b[0;32m    386\u001b[0m     \u001b[38;5;129;01mand\u001b[39;00m (xbasename(filepath) \u001b[38;5;129;01mnot\u001b[39;00m \u001b[38;5;129;01min\u001b[39;00m files_to_ignore)\n\u001b[0;32m    387\u001b[0m     \u001b[38;5;129;01mand\u001b[39;00m \u001b[38;5;129;01mnot\u001b[39;00m _is_inside_unrequested_special_dir(filepath, fs_pattern)\n\u001b[0;32m    388\u001b[0m     \u001b[38;5;129;01mand\u001b[39;00m \u001b[38;5;129;01mnot\u001b[39;00m _is_unrequested_hidden_file_or_is_inside_unrequested_hidden_dir(filepath, fs_pattern)\n\u001b[0;32m    389\u001b[0m ]  \u001b[38;5;66;03m# ignore .ipynb and __pycache__, but keep /../\u001b[39;00m\n\u001b[0;32m    390\u001b[0m \u001b[38;5;28;01mif\u001b[39;00m allowed_extensions \u001b[38;5;129;01mis\u001b[39;00m \u001b[38;5;129;01mnot\u001b[39;00m \u001b[38;5;28;01mNone\u001b[39;00m:\n\u001b[0;32m    391\u001b[0m     out \u001b[38;5;241m=\u001b[39m [\n\u001b[0;32m    392\u001b[0m         filepath\n\u001b[0;32m    393\u001b[0m         \u001b[38;5;28;01mfor\u001b[39;00m filepath \u001b[38;5;129;01min\u001b[39;00m matched_paths\n\u001b[0;32m    394\u001b[0m         \u001b[38;5;28;01mif\u001b[39;00m \u001b[38;5;28many\u001b[39m(\u001b[38;5;124m\"\u001b[39m\u001b[38;5;124m.\u001b[39m\u001b[38;5;124m\"\u001b[39m \u001b[38;5;241m+\u001b[39m suffix \u001b[38;5;129;01min\u001b[39;00m allowed_extensions \u001b[38;5;28;01mfor\u001b[39;00m suffix \u001b[38;5;129;01min\u001b[39;00m xbasename(filepath)\u001b[38;5;241m.\u001b[39msplit(\u001b[38;5;124m\"\u001b[39m\u001b[38;5;124m.\u001b[39m\u001b[38;5;124m\"\u001b[39m)[\u001b[38;5;241m1\u001b[39m:])\n\u001b[0;32m    395\u001b[0m     ]\n",
      "File \u001b[1;32m~\\anaconda3\\Lib\\site-packages\\huggingface_hub\\hf_file_system.py:407\u001b[0m, in \u001b[0;36mHfFileSystem.glob\u001b[1;34m(self, path, **kwargs)\u001b[0m\n\u001b[0;32m    405\u001b[0m kwargs \u001b[38;5;241m=\u001b[39m {\u001b[38;5;124m\"\u001b[39m\u001b[38;5;124mexpand_info\u001b[39m\u001b[38;5;124m\"\u001b[39m: kwargs\u001b[38;5;241m.\u001b[39mget(\u001b[38;5;124m\"\u001b[39m\u001b[38;5;124mdetail\u001b[39m\u001b[38;5;124m\"\u001b[39m, \u001b[38;5;28;01mFalse\u001b[39;00m), \u001b[38;5;241m*\u001b[39m\u001b[38;5;241m*\u001b[39mkwargs}\n\u001b[0;32m    406\u001b[0m path \u001b[38;5;241m=\u001b[39m \u001b[38;5;28mself\u001b[39m\u001b[38;5;241m.\u001b[39mresolve_path(path, revision\u001b[38;5;241m=\u001b[39mkwargs\u001b[38;5;241m.\u001b[39mget(\u001b[38;5;124m\"\u001b[39m\u001b[38;5;124mrevision\u001b[39m\u001b[38;5;124m\"\u001b[39m))\u001b[38;5;241m.\u001b[39munresolve()\n\u001b[1;32m--> 407\u001b[0m \u001b[38;5;28;01mreturn\u001b[39;00m \u001b[38;5;28msuper\u001b[39m()\u001b[38;5;241m.\u001b[39mglob(path, \u001b[38;5;241m*\u001b[39m\u001b[38;5;241m*\u001b[39mkwargs)\n",
      "File \u001b[1;32m~\\anaconda3\\Lib\\site-packages\\fsspec\\spec.py:604\u001b[0m, in \u001b[0;36mAbstractFileSystem.glob\u001b[1;34m(self, path, maxdepth, **kwargs)\u001b[0m\n\u001b[0;32m    601\u001b[0m     \u001b[38;5;28;01melse\u001b[39;00m:\n\u001b[0;32m    602\u001b[0m         depth \u001b[38;5;241m=\u001b[39m \u001b[38;5;28;01mNone\u001b[39;00m\n\u001b[1;32m--> 604\u001b[0m allpaths \u001b[38;5;241m=\u001b[39m \u001b[38;5;28mself\u001b[39m\u001b[38;5;241m.\u001b[39mfind(root, maxdepth\u001b[38;5;241m=\u001b[39mdepth, withdirs\u001b[38;5;241m=\u001b[39m\u001b[38;5;28;01mTrue\u001b[39;00m, detail\u001b[38;5;241m=\u001b[39m\u001b[38;5;28;01mTrue\u001b[39;00m, \u001b[38;5;241m*\u001b[39m\u001b[38;5;241m*\u001b[39mkwargs)\n\u001b[0;32m    606\u001b[0m pattern \u001b[38;5;241m=\u001b[39m glob_translate(path \u001b[38;5;241m+\u001b[39m (\u001b[38;5;124m\"\u001b[39m\u001b[38;5;124m/\u001b[39m\u001b[38;5;124m\"\u001b[39m \u001b[38;5;28;01mif\u001b[39;00m ends_with_sep \u001b[38;5;28;01melse\u001b[39;00m \u001b[38;5;124m\"\u001b[39m\u001b[38;5;124m\"\u001b[39m))\n\u001b[0;32m    607\u001b[0m pattern \u001b[38;5;241m=\u001b[39m re\u001b[38;5;241m.\u001b[39mcompile(pattern)\n",
      "File \u001b[1;32m~\\anaconda3\\Lib\\site-packages\\huggingface_hub\\hf_file_system.py:439\u001b[0m, in \u001b[0;36mHfFileSystem.find\u001b[1;34m(self, path, maxdepth, withdirs, detail, refresh, revision, **kwargs)\u001b[0m\n\u001b[0;32m    436\u001b[0m     out \u001b[38;5;241m=\u001b[39m [o \u001b[38;5;28;01mfor\u001b[39;00m o \u001b[38;5;129;01min\u001b[39;00m out \u001b[38;5;28;01mif\u001b[39;00m o[\u001b[38;5;124m\"\u001b[39m\u001b[38;5;124mtype\u001b[39m\u001b[38;5;124m\"\u001b[39m] \u001b[38;5;241m!=\u001b[39m \u001b[38;5;124m\"\u001b[39m\u001b[38;5;124mdirectory\u001b[39m\u001b[38;5;124m\"\u001b[39m]\n\u001b[0;32m    437\u001b[0m \u001b[38;5;28;01melse\u001b[39;00m:\n\u001b[0;32m    438\u001b[0m     \u001b[38;5;66;03m# If `withdirs=True`, include the directory itself to be consistent with the spec\u001b[39;00m\n\u001b[1;32m--> 439\u001b[0m     path_info \u001b[38;5;241m=\u001b[39m \u001b[38;5;28mself\u001b[39m\u001b[38;5;241m.\u001b[39minfo(path, revision\u001b[38;5;241m=\u001b[39mresolved_path\u001b[38;5;241m.\u001b[39mrevision, \u001b[38;5;241m*\u001b[39m\u001b[38;5;241m*\u001b[39mkwargs)\n\u001b[0;32m    440\u001b[0m     out \u001b[38;5;241m=\u001b[39m [path_info] \u001b[38;5;241m+\u001b[39m out \u001b[38;5;28;01mif\u001b[39;00m path_info[\u001b[38;5;124m\"\u001b[39m\u001b[38;5;124mtype\u001b[39m\u001b[38;5;124m\"\u001b[39m] \u001b[38;5;241m==\u001b[39m \u001b[38;5;124m\"\u001b[39m\u001b[38;5;124mdirectory\u001b[39m\u001b[38;5;124m\"\u001b[39m \u001b[38;5;28;01melse\u001b[39;00m out\n\u001b[0;32m    441\u001b[0m out \u001b[38;5;241m=\u001b[39m {o[\u001b[38;5;124m\"\u001b[39m\u001b[38;5;124mname\u001b[39m\u001b[38;5;124m\"\u001b[39m]: o \u001b[38;5;28;01mfor\u001b[39;00m o \u001b[38;5;129;01min\u001b[39;00m out}\n",
      "File \u001b[1;32m~\\anaconda3\\Lib\\site-packages\\huggingface_hub\\hf_file_system.py:527\u001b[0m, in \u001b[0;36mHfFileSystem.info\u001b[1;34m(self, path, refresh, revision, **kwargs)\u001b[0m\n\u001b[0;32m    525\u001b[0m     out \u001b[38;5;241m=\u001b[39m out1[\u001b[38;5;241m0\u001b[39m]\n\u001b[0;32m    526\u001b[0m \u001b[38;5;28;01mif\u001b[39;00m refresh \u001b[38;5;129;01mor\u001b[39;00m out \u001b[38;5;129;01mis\u001b[39;00m \u001b[38;5;28;01mNone\u001b[39;00m \u001b[38;5;129;01mor\u001b[39;00m (expand_info \u001b[38;5;129;01mand\u001b[39;00m out \u001b[38;5;129;01mand\u001b[39;00m out[\u001b[38;5;124m\"\u001b[39m\u001b[38;5;124mlast_commit\u001b[39m\u001b[38;5;124m\"\u001b[39m] \u001b[38;5;129;01mis\u001b[39;00m \u001b[38;5;28;01mNone\u001b[39;00m):\n\u001b[1;32m--> 527\u001b[0m     paths_info \u001b[38;5;241m=\u001b[39m \u001b[38;5;28mself\u001b[39m\u001b[38;5;241m.\u001b[39m_api\u001b[38;5;241m.\u001b[39mget_paths_info(\n\u001b[0;32m    528\u001b[0m         resolved_path\u001b[38;5;241m.\u001b[39mrepo_id,\n\u001b[0;32m    529\u001b[0m         resolved_path\u001b[38;5;241m.\u001b[39mpath_in_repo,\n\u001b[0;32m    530\u001b[0m         expand\u001b[38;5;241m=\u001b[39mexpand_info,\n\u001b[0;32m    531\u001b[0m         revision\u001b[38;5;241m=\u001b[39mresolved_path\u001b[38;5;241m.\u001b[39mrevision,\n\u001b[0;32m    532\u001b[0m         repo_type\u001b[38;5;241m=\u001b[39mresolved_path\u001b[38;5;241m.\u001b[39mrepo_type,\n\u001b[0;32m    533\u001b[0m     )\n\u001b[0;32m    534\u001b[0m     \u001b[38;5;28;01mif\u001b[39;00m \u001b[38;5;129;01mnot\u001b[39;00m paths_info:\n\u001b[0;32m    535\u001b[0m         _raise_file_not_found(path, \u001b[38;5;28;01mNone\u001b[39;00m)\n",
      "File \u001b[1;32m~\\anaconda3\\Lib\\site-packages\\huggingface_hub\\utils\\_validators.py:114\u001b[0m, in \u001b[0;36mvalidate_hf_hub_args.<locals>._inner_fn\u001b[1;34m(*args, **kwargs)\u001b[0m\n\u001b[0;32m    111\u001b[0m \u001b[38;5;28;01mif\u001b[39;00m check_use_auth_token:\n\u001b[0;32m    112\u001b[0m     kwargs \u001b[38;5;241m=\u001b[39m smoothly_deprecate_use_auth_token(fn_name\u001b[38;5;241m=\u001b[39mfn\u001b[38;5;241m.\u001b[39m\u001b[38;5;18m__name__\u001b[39m, has_token\u001b[38;5;241m=\u001b[39mhas_token, kwargs\u001b[38;5;241m=\u001b[39mkwargs)\n\u001b[1;32m--> 114\u001b[0m \u001b[38;5;28;01mreturn\u001b[39;00m fn(\u001b[38;5;241m*\u001b[39margs, \u001b[38;5;241m*\u001b[39m\u001b[38;5;241m*\u001b[39mkwargs)\n",
      "File \u001b[1;32m~\\anaconda3\\Lib\\site-packages\\huggingface_hub\\hf_api.py:3037\u001b[0m, in \u001b[0;36mHfApi.get_paths_info\u001b[1;34m(self, repo_id, paths, expand, revision, repo_type, token)\u001b[0m\n\u001b[0;32m   3034\u001b[0m revision \u001b[38;5;241m=\u001b[39m quote(revision, safe\u001b[38;5;241m=\u001b[39m\u001b[38;5;124m\"\u001b[39m\u001b[38;5;124m\"\u001b[39m) \u001b[38;5;28;01mif\u001b[39;00m revision \u001b[38;5;129;01mis\u001b[39;00m \u001b[38;5;129;01mnot\u001b[39;00m \u001b[38;5;28;01mNone\u001b[39;00m \u001b[38;5;28;01melse\u001b[39;00m DEFAULT_REVISION\n\u001b[0;32m   3035\u001b[0m headers \u001b[38;5;241m=\u001b[39m \u001b[38;5;28mself\u001b[39m\u001b[38;5;241m.\u001b[39m_build_hf_headers(token\u001b[38;5;241m=\u001b[39mtoken)\n\u001b[1;32m-> 3037\u001b[0m response \u001b[38;5;241m=\u001b[39m get_session()\u001b[38;5;241m.\u001b[39mpost(\n\u001b[0;32m   3038\u001b[0m     \u001b[38;5;124mf\u001b[39m\u001b[38;5;124m\"\u001b[39m\u001b[38;5;132;01m{\u001b[39;00m\u001b[38;5;28mself\u001b[39m\u001b[38;5;241m.\u001b[39mendpoint\u001b[38;5;132;01m}\u001b[39;00m\u001b[38;5;124m/api/\u001b[39m\u001b[38;5;132;01m{\u001b[39;00mrepo_type\u001b[38;5;132;01m}\u001b[39;00m\u001b[38;5;124ms/\u001b[39m\u001b[38;5;132;01m{\u001b[39;00mrepo_id\u001b[38;5;132;01m}\u001b[39;00m\u001b[38;5;124m/paths-info/\u001b[39m\u001b[38;5;132;01m{\u001b[39;00mrevision\u001b[38;5;132;01m}\u001b[39;00m\u001b[38;5;124m\"\u001b[39m,\n\u001b[0;32m   3039\u001b[0m     data\u001b[38;5;241m=\u001b[39m{\n\u001b[0;32m   3040\u001b[0m         \u001b[38;5;124m\"\u001b[39m\u001b[38;5;124mpaths\u001b[39m\u001b[38;5;124m\"\u001b[39m: paths \u001b[38;5;28;01mif\u001b[39;00m \u001b[38;5;28misinstance\u001b[39m(paths, \u001b[38;5;28mlist\u001b[39m) \u001b[38;5;28;01melse\u001b[39;00m [paths],\n\u001b[0;32m   3041\u001b[0m         \u001b[38;5;124m\"\u001b[39m\u001b[38;5;124mexpand\u001b[39m\u001b[38;5;124m\"\u001b[39m: expand,\n\u001b[0;32m   3042\u001b[0m     },\n\u001b[0;32m   3043\u001b[0m     headers\u001b[38;5;241m=\u001b[39mheaders,\n\u001b[0;32m   3044\u001b[0m )\n\u001b[0;32m   3045\u001b[0m hf_raise_for_status(response)\n\u001b[0;32m   3046\u001b[0m paths_info \u001b[38;5;241m=\u001b[39m response\u001b[38;5;241m.\u001b[39mjson()\n",
      "File \u001b[1;32m~\\anaconda3\\Lib\\site-packages\\requests\\sessions.py:637\u001b[0m, in \u001b[0;36mSession.post\u001b[1;34m(self, url, data, json, **kwargs)\u001b[0m\n\u001b[0;32m    626\u001b[0m \u001b[38;5;28;01mdef\u001b[39;00m \u001b[38;5;21mpost\u001b[39m(\u001b[38;5;28mself\u001b[39m, url, data\u001b[38;5;241m=\u001b[39m\u001b[38;5;28;01mNone\u001b[39;00m, json\u001b[38;5;241m=\u001b[39m\u001b[38;5;28;01mNone\u001b[39;00m, \u001b[38;5;241m*\u001b[39m\u001b[38;5;241m*\u001b[39mkwargs):\n\u001b[0;32m    627\u001b[0m \u001b[38;5;250m    \u001b[39m\u001b[38;5;124mr\u001b[39m\u001b[38;5;124;03m\"\"\"Sends a POST request. Returns :class:`Response` object.\u001b[39;00m\n\u001b[0;32m    628\u001b[0m \n\u001b[0;32m    629\u001b[0m \u001b[38;5;124;03m    :param url: URL for the new :class:`Request` object.\u001b[39;00m\n\u001b[1;32m   (...)\u001b[0m\n\u001b[0;32m    634\u001b[0m \u001b[38;5;124;03m    :rtype: requests.Response\u001b[39;00m\n\u001b[0;32m    635\u001b[0m \u001b[38;5;124;03m    \"\"\"\u001b[39;00m\n\u001b[1;32m--> 637\u001b[0m     \u001b[38;5;28;01mreturn\u001b[39;00m \u001b[38;5;28mself\u001b[39m\u001b[38;5;241m.\u001b[39mrequest(\u001b[38;5;124m\"\u001b[39m\u001b[38;5;124mPOST\u001b[39m\u001b[38;5;124m\"\u001b[39m, url, data\u001b[38;5;241m=\u001b[39mdata, json\u001b[38;5;241m=\u001b[39mjson, \u001b[38;5;241m*\u001b[39m\u001b[38;5;241m*\u001b[39mkwargs)\n",
      "File \u001b[1;32m~\\anaconda3\\Lib\\site-packages\\requests\\sessions.py:589\u001b[0m, in \u001b[0;36mSession.request\u001b[1;34m(self, method, url, params, data, headers, cookies, files, auth, timeout, allow_redirects, proxies, hooks, stream, verify, cert, json)\u001b[0m\n\u001b[0;32m    584\u001b[0m send_kwargs \u001b[38;5;241m=\u001b[39m {\n\u001b[0;32m    585\u001b[0m     \u001b[38;5;124m\"\u001b[39m\u001b[38;5;124mtimeout\u001b[39m\u001b[38;5;124m\"\u001b[39m: timeout,\n\u001b[0;32m    586\u001b[0m     \u001b[38;5;124m\"\u001b[39m\u001b[38;5;124mallow_redirects\u001b[39m\u001b[38;5;124m\"\u001b[39m: allow_redirects,\n\u001b[0;32m    587\u001b[0m }\n\u001b[0;32m    588\u001b[0m send_kwargs\u001b[38;5;241m.\u001b[39mupdate(settings)\n\u001b[1;32m--> 589\u001b[0m resp \u001b[38;5;241m=\u001b[39m \u001b[38;5;28mself\u001b[39m\u001b[38;5;241m.\u001b[39msend(prep, \u001b[38;5;241m*\u001b[39m\u001b[38;5;241m*\u001b[39msend_kwargs)\n\u001b[0;32m    591\u001b[0m \u001b[38;5;28;01mreturn\u001b[39;00m resp\n",
      "File \u001b[1;32m~\\anaconda3\\Lib\\site-packages\\requests\\sessions.py:703\u001b[0m, in \u001b[0;36mSession.send\u001b[1;34m(self, request, **kwargs)\u001b[0m\n\u001b[0;32m    700\u001b[0m start \u001b[38;5;241m=\u001b[39m preferred_clock()\n\u001b[0;32m    702\u001b[0m \u001b[38;5;66;03m# Send the request\u001b[39;00m\n\u001b[1;32m--> 703\u001b[0m r \u001b[38;5;241m=\u001b[39m adapter\u001b[38;5;241m.\u001b[39msend(request, \u001b[38;5;241m*\u001b[39m\u001b[38;5;241m*\u001b[39mkwargs)\n\u001b[0;32m    705\u001b[0m \u001b[38;5;66;03m# Total elapsed time of the request (approximately)\u001b[39;00m\n\u001b[0;32m    706\u001b[0m elapsed \u001b[38;5;241m=\u001b[39m preferred_clock() \u001b[38;5;241m-\u001b[39m start\n",
      "File \u001b[1;32m~\\anaconda3\\Lib\\site-packages\\huggingface_hub\\utils\\_http.py:66\u001b[0m, in \u001b[0;36mUniqueRequestIdAdapter.send\u001b[1;34m(self, request, *args, **kwargs)\u001b[0m\n\u001b[0;32m     64\u001b[0m \u001b[38;5;250m\u001b[39m\u001b[38;5;124;03m\"\"\"Catch any RequestException to append request id to the error message for debugging.\"\"\"\u001b[39;00m\n\u001b[0;32m     65\u001b[0m \u001b[38;5;28;01mtry\u001b[39;00m:\n\u001b[1;32m---> 66\u001b[0m     \u001b[38;5;28;01mreturn\u001b[39;00m \u001b[38;5;28msuper\u001b[39m()\u001b[38;5;241m.\u001b[39msend(request, \u001b[38;5;241m*\u001b[39margs, \u001b[38;5;241m*\u001b[39m\u001b[38;5;241m*\u001b[39mkwargs)\n\u001b[0;32m     67\u001b[0m \u001b[38;5;28;01mexcept\u001b[39;00m requests\u001b[38;5;241m.\u001b[39mRequestException \u001b[38;5;28;01mas\u001b[39;00m e:\n\u001b[0;32m     68\u001b[0m     request_id \u001b[38;5;241m=\u001b[39m request\u001b[38;5;241m.\u001b[39mheaders\u001b[38;5;241m.\u001b[39mget(X_AMZN_TRACE_ID)\n",
      "File \u001b[1;32m~\\anaconda3\\Lib\\site-packages\\requests\\adapters.py:667\u001b[0m, in \u001b[0;36mHTTPAdapter.send\u001b[1;34m(self, request, stream, timeout, verify, cert, proxies)\u001b[0m\n\u001b[0;32m    664\u001b[0m     timeout \u001b[38;5;241m=\u001b[39m TimeoutSauce(connect\u001b[38;5;241m=\u001b[39mtimeout, read\u001b[38;5;241m=\u001b[39mtimeout)\n\u001b[0;32m    666\u001b[0m \u001b[38;5;28;01mtry\u001b[39;00m:\n\u001b[1;32m--> 667\u001b[0m     resp \u001b[38;5;241m=\u001b[39m conn\u001b[38;5;241m.\u001b[39murlopen(\n\u001b[0;32m    668\u001b[0m         method\u001b[38;5;241m=\u001b[39mrequest\u001b[38;5;241m.\u001b[39mmethod,\n\u001b[0;32m    669\u001b[0m         url\u001b[38;5;241m=\u001b[39murl,\n\u001b[0;32m    670\u001b[0m         body\u001b[38;5;241m=\u001b[39mrequest\u001b[38;5;241m.\u001b[39mbody,\n\u001b[0;32m    671\u001b[0m         headers\u001b[38;5;241m=\u001b[39mrequest\u001b[38;5;241m.\u001b[39mheaders,\n\u001b[0;32m    672\u001b[0m         redirect\u001b[38;5;241m=\u001b[39m\u001b[38;5;28;01mFalse\u001b[39;00m,\n\u001b[0;32m    673\u001b[0m         assert_same_host\u001b[38;5;241m=\u001b[39m\u001b[38;5;28;01mFalse\u001b[39;00m,\n\u001b[0;32m    674\u001b[0m         preload_content\u001b[38;5;241m=\u001b[39m\u001b[38;5;28;01mFalse\u001b[39;00m,\n\u001b[0;32m    675\u001b[0m         decode_content\u001b[38;5;241m=\u001b[39m\u001b[38;5;28;01mFalse\u001b[39;00m,\n\u001b[0;32m    676\u001b[0m         retries\u001b[38;5;241m=\u001b[39m\u001b[38;5;28mself\u001b[39m\u001b[38;5;241m.\u001b[39mmax_retries,\n\u001b[0;32m    677\u001b[0m         timeout\u001b[38;5;241m=\u001b[39mtimeout,\n\u001b[0;32m    678\u001b[0m         chunked\u001b[38;5;241m=\u001b[39mchunked,\n\u001b[0;32m    679\u001b[0m     )\n\u001b[0;32m    681\u001b[0m \u001b[38;5;28;01mexcept\u001b[39;00m (ProtocolError, \u001b[38;5;167;01mOSError\u001b[39;00m) \u001b[38;5;28;01mas\u001b[39;00m err:\n\u001b[0;32m    682\u001b[0m     \u001b[38;5;28;01mraise\u001b[39;00m \u001b[38;5;167;01mConnectionError\u001b[39;00m(err, request\u001b[38;5;241m=\u001b[39mrequest)\n",
      "File \u001b[1;32m~\\anaconda3\\Lib\\site-packages\\urllib3\\connectionpool.py:715\u001b[0m, in \u001b[0;36mHTTPConnectionPool.urlopen\u001b[1;34m(self, method, url, body, headers, retries, redirect, assert_same_host, timeout, pool_timeout, release_conn, chunked, body_pos, **response_kw)\u001b[0m\n\u001b[0;32m    712\u001b[0m     \u001b[38;5;28mself\u001b[39m\u001b[38;5;241m.\u001b[39m_prepare_proxy(conn)\n\u001b[0;32m    714\u001b[0m \u001b[38;5;66;03m# Make the request on the httplib connection object.\u001b[39;00m\n\u001b[1;32m--> 715\u001b[0m httplib_response \u001b[38;5;241m=\u001b[39m \u001b[38;5;28mself\u001b[39m\u001b[38;5;241m.\u001b[39m_make_request(\n\u001b[0;32m    716\u001b[0m     conn,\n\u001b[0;32m    717\u001b[0m     method,\n\u001b[0;32m    718\u001b[0m     url,\n\u001b[0;32m    719\u001b[0m     timeout\u001b[38;5;241m=\u001b[39mtimeout_obj,\n\u001b[0;32m    720\u001b[0m     body\u001b[38;5;241m=\u001b[39mbody,\n\u001b[0;32m    721\u001b[0m     headers\u001b[38;5;241m=\u001b[39mheaders,\n\u001b[0;32m    722\u001b[0m     chunked\u001b[38;5;241m=\u001b[39mchunked,\n\u001b[0;32m    723\u001b[0m )\n\u001b[0;32m    725\u001b[0m \u001b[38;5;66;03m# If we're going to release the connection in ``finally:``, then\u001b[39;00m\n\u001b[0;32m    726\u001b[0m \u001b[38;5;66;03m# the response doesn't need to know about the connection. Otherwise\u001b[39;00m\n\u001b[0;32m    727\u001b[0m \u001b[38;5;66;03m# it will also try to release it and we'll have a double-release\u001b[39;00m\n\u001b[0;32m    728\u001b[0m \u001b[38;5;66;03m# mess.\u001b[39;00m\n\u001b[0;32m    729\u001b[0m response_conn \u001b[38;5;241m=\u001b[39m conn \u001b[38;5;28;01mif\u001b[39;00m \u001b[38;5;129;01mnot\u001b[39;00m release_conn \u001b[38;5;28;01melse\u001b[39;00m \u001b[38;5;28;01mNone\u001b[39;00m\n",
      "File \u001b[1;32m~\\anaconda3\\Lib\\site-packages\\urllib3\\connectionpool.py:467\u001b[0m, in \u001b[0;36mHTTPConnectionPool._make_request\u001b[1;34m(self, conn, method, url, timeout, chunked, **httplib_request_kw)\u001b[0m\n\u001b[0;32m    462\u001b[0m             httplib_response \u001b[38;5;241m=\u001b[39m conn\u001b[38;5;241m.\u001b[39mgetresponse()\n\u001b[0;32m    463\u001b[0m         \u001b[38;5;28;01mexcept\u001b[39;00m \u001b[38;5;167;01mBaseException\u001b[39;00m \u001b[38;5;28;01mas\u001b[39;00m e:\n\u001b[0;32m    464\u001b[0m             \u001b[38;5;66;03m# Remove the TypeError from the exception chain in\u001b[39;00m\n\u001b[0;32m    465\u001b[0m             \u001b[38;5;66;03m# Python 3 (including for exceptions like SystemExit).\u001b[39;00m\n\u001b[0;32m    466\u001b[0m             \u001b[38;5;66;03m# Otherwise it looks like a bug in the code.\u001b[39;00m\n\u001b[1;32m--> 467\u001b[0m             six\u001b[38;5;241m.\u001b[39mraise_from(e, \u001b[38;5;28;01mNone\u001b[39;00m)\n\u001b[0;32m    468\u001b[0m \u001b[38;5;28;01mexcept\u001b[39;00m (SocketTimeout, BaseSSLError, SocketError) \u001b[38;5;28;01mas\u001b[39;00m e:\n\u001b[0;32m    469\u001b[0m     \u001b[38;5;28mself\u001b[39m\u001b[38;5;241m.\u001b[39m_raise_timeout(err\u001b[38;5;241m=\u001b[39me, url\u001b[38;5;241m=\u001b[39murl, timeout_value\u001b[38;5;241m=\u001b[39mread_timeout)\n",
      "File \u001b[1;32m<string>:3\u001b[0m, in \u001b[0;36mraise_from\u001b[1;34m(value, from_value)\u001b[0m\n",
      "File \u001b[1;32m~\\anaconda3\\Lib\\site-packages\\urllib3\\connectionpool.py:462\u001b[0m, in \u001b[0;36mHTTPConnectionPool._make_request\u001b[1;34m(self, conn, method, url, timeout, chunked, **httplib_request_kw)\u001b[0m\n\u001b[0;32m    459\u001b[0m \u001b[38;5;28;01mexcept\u001b[39;00m \u001b[38;5;167;01mTypeError\u001b[39;00m:\n\u001b[0;32m    460\u001b[0m     \u001b[38;5;66;03m# Python 3\u001b[39;00m\n\u001b[0;32m    461\u001b[0m     \u001b[38;5;28;01mtry\u001b[39;00m:\n\u001b[1;32m--> 462\u001b[0m         httplib_response \u001b[38;5;241m=\u001b[39m conn\u001b[38;5;241m.\u001b[39mgetresponse()\n\u001b[0;32m    463\u001b[0m     \u001b[38;5;28;01mexcept\u001b[39;00m \u001b[38;5;167;01mBaseException\u001b[39;00m \u001b[38;5;28;01mas\u001b[39;00m e:\n\u001b[0;32m    464\u001b[0m         \u001b[38;5;66;03m# Remove the TypeError from the exception chain in\u001b[39;00m\n\u001b[0;32m    465\u001b[0m         \u001b[38;5;66;03m# Python 3 (including for exceptions like SystemExit).\u001b[39;00m\n\u001b[0;32m    466\u001b[0m         \u001b[38;5;66;03m# Otherwise it looks like a bug in the code.\u001b[39;00m\n\u001b[0;32m    467\u001b[0m         six\u001b[38;5;241m.\u001b[39mraise_from(e, \u001b[38;5;28;01mNone\u001b[39;00m)\n",
      "File \u001b[1;32m~\\anaconda3\\Lib\\http\\client.py:1378\u001b[0m, in \u001b[0;36mHTTPConnection.getresponse\u001b[1;34m(self)\u001b[0m\n\u001b[0;32m   1376\u001b[0m \u001b[38;5;28;01mtry\u001b[39;00m:\n\u001b[0;32m   1377\u001b[0m     \u001b[38;5;28;01mtry\u001b[39;00m:\n\u001b[1;32m-> 1378\u001b[0m         response\u001b[38;5;241m.\u001b[39mbegin()\n\u001b[0;32m   1379\u001b[0m     \u001b[38;5;28;01mexcept\u001b[39;00m \u001b[38;5;167;01mConnectionError\u001b[39;00m:\n\u001b[0;32m   1380\u001b[0m         \u001b[38;5;28mself\u001b[39m\u001b[38;5;241m.\u001b[39mclose()\n",
      "File \u001b[1;32m~\\anaconda3\\Lib\\http\\client.py:318\u001b[0m, in \u001b[0;36mHTTPResponse.begin\u001b[1;34m(self)\u001b[0m\n\u001b[0;32m    316\u001b[0m \u001b[38;5;66;03m# read until we get a non-100 response\u001b[39;00m\n\u001b[0;32m    317\u001b[0m \u001b[38;5;28;01mwhile\u001b[39;00m \u001b[38;5;28;01mTrue\u001b[39;00m:\n\u001b[1;32m--> 318\u001b[0m     version, status, reason \u001b[38;5;241m=\u001b[39m \u001b[38;5;28mself\u001b[39m\u001b[38;5;241m.\u001b[39m_read_status()\n\u001b[0;32m    319\u001b[0m     \u001b[38;5;28;01mif\u001b[39;00m status \u001b[38;5;241m!=\u001b[39m CONTINUE:\n\u001b[0;32m    320\u001b[0m         \u001b[38;5;28;01mbreak\u001b[39;00m\n",
      "File \u001b[1;32m~\\anaconda3\\Lib\\http\\client.py:279\u001b[0m, in \u001b[0;36mHTTPResponse._read_status\u001b[1;34m(self)\u001b[0m\n\u001b[0;32m    278\u001b[0m \u001b[38;5;28;01mdef\u001b[39;00m \u001b[38;5;21m_read_status\u001b[39m(\u001b[38;5;28mself\u001b[39m):\n\u001b[1;32m--> 279\u001b[0m     line \u001b[38;5;241m=\u001b[39m \u001b[38;5;28mstr\u001b[39m(\u001b[38;5;28mself\u001b[39m\u001b[38;5;241m.\u001b[39mfp\u001b[38;5;241m.\u001b[39mreadline(_MAXLINE \u001b[38;5;241m+\u001b[39m \u001b[38;5;241m1\u001b[39m), \u001b[38;5;124m\"\u001b[39m\u001b[38;5;124miso-8859-1\u001b[39m\u001b[38;5;124m\"\u001b[39m)\n\u001b[0;32m    280\u001b[0m     \u001b[38;5;28;01mif\u001b[39;00m \u001b[38;5;28mlen\u001b[39m(line) \u001b[38;5;241m>\u001b[39m _MAXLINE:\n\u001b[0;32m    281\u001b[0m         \u001b[38;5;28;01mraise\u001b[39;00m LineTooLong(\u001b[38;5;124m\"\u001b[39m\u001b[38;5;124mstatus line\u001b[39m\u001b[38;5;124m\"\u001b[39m)\n",
      "File \u001b[1;32m~\\anaconda3\\Lib\\socket.py:706\u001b[0m, in \u001b[0;36mSocketIO.readinto\u001b[1;34m(self, b)\u001b[0m\n\u001b[0;32m    704\u001b[0m \u001b[38;5;28;01mwhile\u001b[39;00m \u001b[38;5;28;01mTrue\u001b[39;00m:\n\u001b[0;32m    705\u001b[0m     \u001b[38;5;28;01mtry\u001b[39;00m:\n\u001b[1;32m--> 706\u001b[0m         \u001b[38;5;28;01mreturn\u001b[39;00m \u001b[38;5;28mself\u001b[39m\u001b[38;5;241m.\u001b[39m_sock\u001b[38;5;241m.\u001b[39mrecv_into(b)\n\u001b[0;32m    707\u001b[0m     \u001b[38;5;28;01mexcept\u001b[39;00m timeout:\n\u001b[0;32m    708\u001b[0m         \u001b[38;5;28mself\u001b[39m\u001b[38;5;241m.\u001b[39m_timeout_occurred \u001b[38;5;241m=\u001b[39m \u001b[38;5;28;01mTrue\u001b[39;00m\n",
      "File \u001b[1;32m~\\anaconda3\\Lib\\ssl.py:1311\u001b[0m, in \u001b[0;36mSSLSocket.recv_into\u001b[1;34m(self, buffer, nbytes, flags)\u001b[0m\n\u001b[0;32m   1307\u001b[0m     \u001b[38;5;28;01mif\u001b[39;00m flags \u001b[38;5;241m!=\u001b[39m \u001b[38;5;241m0\u001b[39m:\n\u001b[0;32m   1308\u001b[0m         \u001b[38;5;28;01mraise\u001b[39;00m \u001b[38;5;167;01mValueError\u001b[39;00m(\n\u001b[0;32m   1309\u001b[0m           \u001b[38;5;124m\"\u001b[39m\u001b[38;5;124mnon-zero flags not allowed in calls to recv_into() on \u001b[39m\u001b[38;5;132;01m%s\u001b[39;00m\u001b[38;5;124m\"\u001b[39m \u001b[38;5;241m%\u001b[39m\n\u001b[0;32m   1310\u001b[0m           \u001b[38;5;28mself\u001b[39m\u001b[38;5;241m.\u001b[39m\u001b[38;5;18m__class__\u001b[39m)\n\u001b[1;32m-> 1311\u001b[0m     \u001b[38;5;28;01mreturn\u001b[39;00m \u001b[38;5;28mself\u001b[39m\u001b[38;5;241m.\u001b[39mread(nbytes, buffer)\n\u001b[0;32m   1312\u001b[0m \u001b[38;5;28;01melse\u001b[39;00m:\n\u001b[0;32m   1313\u001b[0m     \u001b[38;5;28;01mreturn\u001b[39;00m \u001b[38;5;28msuper\u001b[39m()\u001b[38;5;241m.\u001b[39mrecv_into(buffer, nbytes, flags)\n",
      "File \u001b[1;32m~\\anaconda3\\Lib\\ssl.py:1167\u001b[0m, in \u001b[0;36mSSLSocket.read\u001b[1;34m(self, len, buffer)\u001b[0m\n\u001b[0;32m   1165\u001b[0m \u001b[38;5;28;01mtry\u001b[39;00m:\n\u001b[0;32m   1166\u001b[0m     \u001b[38;5;28;01mif\u001b[39;00m buffer \u001b[38;5;129;01mis\u001b[39;00m \u001b[38;5;129;01mnot\u001b[39;00m \u001b[38;5;28;01mNone\u001b[39;00m:\n\u001b[1;32m-> 1167\u001b[0m         \u001b[38;5;28;01mreturn\u001b[39;00m \u001b[38;5;28mself\u001b[39m\u001b[38;5;241m.\u001b[39m_sslobj\u001b[38;5;241m.\u001b[39mread(\u001b[38;5;28mlen\u001b[39m, buffer)\n\u001b[0;32m   1168\u001b[0m     \u001b[38;5;28;01melse\u001b[39;00m:\n\u001b[0;32m   1169\u001b[0m         \u001b[38;5;28;01mreturn\u001b[39;00m \u001b[38;5;28mself\u001b[39m\u001b[38;5;241m.\u001b[39m_sslobj\u001b[38;5;241m.\u001b[39mread(\u001b[38;5;28mlen\u001b[39m)\n",
      "\u001b[1;31mKeyboardInterrupt\u001b[0m: "
     ]
    }
   ],
   "source": [
    "%%time\n",
    "import json\n",
    "import time\n",
    "from datasets import load_dataset\n",
    "\n",
    "\n",
    "# Define the chunk size\n",
    "chunk_size = 1000\n",
    "py_error_count = 0\n",
    "\n",
    "# Process the dataset in chunks\n",
    "i = 0\n",
    "\n",
    "start_time = time.time()\n",
    "processed_data = []\n",
    "\n",
    "for language in [\"Shell\",\"Python\"]:\n",
    "    dataset = load_dataset('bigcode/the-stack-dedup', data_dir=f'data/{language.lower().replace(\"#\",\"-sharp\").replace(\"++\",\"pp\")}', streaming=True, split=\"train\")\n",
    "    pattern = regex[language]\n",
    "    for example in dataset:\n",
    "        if not i%50000:\n",
    "            current_time = time.time()\n",
    "            print(i, language, round(current_time - start_time, 2), flush=True)\n",
    "            start_time = current_time\n",
    "        i += 1\n",
    "\n",
    "        processed_data += handle_data(example, dataset)\n",
    "        if len(processed_data) >= chunk_size:\n",
    "            # Save the data to a file\n",
    "            with open('new_dataset.json', 'a') as f:\n",
    "                for item in processed_data:\n",
    "                    f.write(json.dumps(item) + '\\n')\n",
    "\n",
    "            # Clear the list to free memory\n",
    "            processed_data.clear()\n",
    "\n",
    "    # Save any remaining data\n",
    "    if processed_data:\n",
    "        with open('new_dataset.json', 'a') as f:\n",
    "            for item in processed_data:\n",
    "                f.write(json.dumps(item) + '\\n')"
   ]
  },
  {
   "cell_type": "code",
   "execution_count": null,
   "id": "375dc6de-435a-4141-bc15-f335e4ea86dc",
   "metadata": {},
   "outputs": [],
   "source": [
    "['Python' 'PHP' 'JavaScript' 'C' 'C++' 'Ruby']\n",
    "55598072"
   ]
  },
  {
   "cell_type": "code",
   "execution_count": 65,
   "id": "e0401b27-75a4-49ed-b17a-35653c733070",
   "metadata": {
    "tags": []
   },
   "outputs": [
    {
     "data": {
      "text/plain": [
       "Dataset({\n",
       "    features: ['name', 'params', 'body', 'docstring', 'file_id', 'language'],\n",
       "    num_rows: 2500003\n",
       "})"
      ]
     },
     "execution_count": 65,
     "metadata": {},
     "output_type": "execute_result"
    }
   ],
   "source": [
    "temp_dataset"
   ]
  },
  {
   "cell_type": "code",
   "execution_count": 67,
   "id": "0fe2d772-14ae-42f5-8e89-ececcf0f7c47",
   "metadata": {
    "tags": []
   },
   "outputs": [
    {
     "data": {
      "application/vnd.jupyter.widget-view+json": {
       "model_id": "6649ae753f8b4e27bd8679f152290444",
       "version_major": 2,
       "version_minor": 0
      },
      "text/plain": [
       "Uploading the dataset shards:   0%|          | 0/2 [00:00<?, ?it/s]"
      ]
     },
     "metadata": {},
     "output_type": "display_data"
    },
    {
     "data": {
      "application/vnd.jupyter.widget-view+json": {
       "model_id": "32a3e89a3f664145bb55f1764bed07b8",
       "version_major": 2,
       "version_minor": 0
      },
      "text/plain": [
       "Creating parquet from Arrow format:   0%|          | 0/1251 [00:00<?, ?ba/s]"
      ]
     },
     "metadata": {},
     "output_type": "display_data"
    },
    {
     "data": {
      "application/vnd.jupyter.widget-view+json": {
       "model_id": "b4075155ae824cdebd7abfcd528f44a5",
       "version_major": 2,
       "version_minor": 0
      },
      "text/plain": [
       "Creating parquet from Arrow format:   0%|          | 0/1251 [00:00<?, ?ba/s]"
      ]
     },
     "metadata": {},
     "output_type": "display_data"
    },
    {
     "data": {
      "application/vnd.jupyter.widget-view+json": {
       "model_id": "044819d70ac743d495f3bbe6eafc13d2",
       "version_major": 2,
       "version_minor": 0
      },
      "text/plain": [
       "README.md:   0%|          | 0.00/5.44k [00:00<?, ?B/s]"
      ]
     },
     "metadata": {},
     "output_type": "display_data"
    },
    {
     "name": "stdout",
     "output_type": "stream",
     "text": [
      "30\n"
     ]
    }
   ],
   "source": [
    "            temp_dataset = Dataset.from_dict(list_of_dicts_to_dict_of_lists(processed_data))\n",
    "            temp_dataset.push_to_hub(hf_repo_id, token=token, split=f\"part_{j}\")\n",
    "            print(j)\n",
    "            j += 1"
   ]
  },
  {
   "cell_type": "code",
   "execution_count": 69,
   "id": "11c029b9-1d15-44c3-bd92-9c8b5077a83a",
   "metadata": {
    "tags": []
   },
   "outputs": [],
   "source": [
    "    processed_data = []\n",
    "    temp_dataset = None"
   ]
  },
  {
   "cell_type": "code",
   "execution_count": 73,
   "id": "253a7e07-c2ea-4936-b855-7cf51367bc72",
   "metadata": {
    "tags": []
   },
   "outputs": [
    {
     "data": {
      "text/plain": [
       "37"
      ]
     },
     "execution_count": 73,
     "metadata": {},
     "output_type": "execute_result"
    }
   ],
   "source": [
    "j"
   ]
  },
  {
   "cell_type": "code",
   "execution_count": null,
   "id": "c17e3af5-f71e-4600-bec5-d871fb218107",
   "metadata": {},
   "outputs": [],
   "source": []
  }
 ],
 "metadata": {
  "kernelspec": {
   "display_name": "Python 3 (ipykernel)",
   "language": "python",
   "name": "python3"
  },
  "language_info": {
   "codemirror_mode": {
    "name": "ipython",
    "version": 3
   },
   "file_extension": ".py",
   "mimetype": "text/x-python",
   "name": "python",
   "nbconvert_exporter": "python",
   "pygments_lexer": "ipython3",
   "version": "3.11.5"
  }
 },
 "nbformat": 4,
 "nbformat_minor": 5
}
