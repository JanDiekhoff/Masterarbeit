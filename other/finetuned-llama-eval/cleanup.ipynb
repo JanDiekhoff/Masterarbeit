{
 "cells": [
  {
   "cell_type": "code",
   "execution_count": 1,
   "id": "d9674504-868d-47c5-bc0d-1673542deaa3",
   "metadata": {
    "tags": []
   },
   "outputs": [],
   "source": [
    "import pandas as pd    \n",
    "jsonObj = pd.read_json(path_or_buf=\"samples.jsonl\", lines=True)"
   ]
  },
  {
   "cell_type": "code",
   "execution_count": 2,
   "id": "31d8d29b-ec53-4925-a265-804f4938bc36",
   "metadata": {
    "tags": []
   },
   "outputs": [
    {
     "name": "stdout",
     "output_type": "stream",
     "text": [
      "           task_id                                           solution  \\\n",
      "0      HumanEval/0  @@ Problem\\nfrom typing import List\\n\\n\\ndef h...   \n",
      "1      HumanEval/1  @@ Problem\\nfrom typing import List\\n\\n\\ndef s...   \n",
      "2      HumanEval/2  @@ Problem\\n\\n\\ndef truncate_number(number: fl...   \n",
      "3      HumanEval/3  @@ Problem\\nfrom typing import List\\n\\n\\ndef b...   \n",
      "4      HumanEval/4  @@ Problem\\nfrom typing import List\\n\\n\\ndef m...   \n",
      "..             ...                                                ...   \n",
      "159  HumanEval/159  @@ Problem\\n\\ndef eat(number, need, remaining)...   \n",
      "160  HumanEval/160  @@ Problem\\n\\ndef do_algebra(operator, operand...   \n",
      "161  HumanEval/161  @@ Problem\\n\\ndef solve(s):\\n    \"\"\"You are gi...   \n",
      "162  HumanEval/162  @@ Problem\\n\\ndef string_to_md5(text):\\n    \"\"...   \n",
      "163  HumanEval/163  @@ Problem\\n\\ndef generate_integers(a, b):\\n  ...   \n",
      "\n",
      "                                            completion  \n",
      "0    @@ Problem\\nfrom typing import List\\n\\n\\ndef h...  \n",
      "1    @@ Problem\\nfrom typing import List\\n\\n\\ndef s...  \n",
      "2    @@ Problem\\n\\n\\ndef truncate_number(number: fl...  \n",
      "3    @@ Problem\\nfrom typing import List\\n\\n\\ndef b...  \n",
      "4    @@ Problem\\nfrom typing import List\\n\\n\\ndef m...  \n",
      "..                                                 ...  \n",
      "159  @@ Problem\\n\\ndef eat(number, need, remaining)...  \n",
      "160  @@ Problem\\n\\ndef do_algebra(operator, operand...  \n",
      "161  @@ Problem\\n\\ndef solve(s):\\n    \"\"\"You are gi...  \n",
      "162  @@ Problem\\n\\ndef string_to_md5(text):\\n    \"\"...  \n",
      "163  @@ Problem\\n\\ndef generate_integers(a, b):\\n  ...  \n",
      "\n",
      "[164 rows x 3 columns]\n"
     ]
    }
   ],
   "source": [
    "print(jsonObj)"
   ]
  },
  {
   "cell_type": "code",
   "execution_count": 3,
   "id": "6836de63-3f9d-4141-8c58-2018572f4c6e",
   "metadata": {
    "tags": []
   },
   "outputs": [],
   "source": [
    "i = 0\n",
    "for text in jsonObj['solution']:\n",
    "    jsonObj['solution'][i] = str(text).split(\"@@ Solution\\n\")[1]\n",
    "    i += 1"
   ]
  },
  {
   "cell_type": "code",
   "execution_count": 4,
   "id": "96b3007f-93d6-4662-a180-fd2747def65b",
   "metadata": {
    "tags": []
   },
   "outputs": [
    {
     "name": "stdout",
     "output_type": "stream",
     "text": [
      "```python\n",
      "from typing import List\n",
      "\n",
      "def separate_paren_groups(paren_string: str) -> List[str]:\n",
      "    \"\"\" Input to this function is a string containing multiple groups of nested parentheses. Your goal is to\n",
      "    separate those group into separate strings and return the list of those.\n",
      "    Separate groups are balanced (each open brace is properly closed) and not nested within each other\n",
      "    Ignore any spaces in the input string.\n",
      "    >>> separate_paren_groups('(\n"
     ]
    }
   ],
   "source": [
    "print(jsonObj['solution'][1])"
   ]
  },
  {
   "cell_type": "code",
   "execution_count": 5,
   "id": "9163a1db-a046-41b6-bb7e-211829edff71",
   "metadata": {
    "tags": []
   },
   "outputs": [],
   "source": [
    "samps = [\n",
    "    dict(task_id=jsonObj['task_id'][i], solution=str(jsonObj['solution'][i]))\n",
    "    for i in range(len(jsonObj['task_id']))\n",
    "]"
   ]
  },
  {
   "cell_type": "code",
   "execution_count": 6,
   "id": "122a2cbf-968d-4a0e-84dc-81cb58c09e6a",
   "metadata": {
    "tags": []
   },
   "outputs": [],
   "source": [
    "from evalplus.data import write_jsonl\n",
    "write_jsonl(\"samples.jsonl\", samps)"
   ]
  },
  {
   "cell_type": "code",
   "execution_count": null,
   "id": "a587170f-bbe9-43ba-b09c-76c8b8aac199",
   "metadata": {},
   "outputs": [],
   "source": []
  }
 ],
 "metadata": {
  "kernelspec": {
   "display_name": "Python 3 (ipykernel)",
   "language": "python",
   "name": "python3"
  },
  "language_info": {
   "codemirror_mode": {
    "name": "ipython",
    "version": 3
   },
   "file_extension": ".py",
   "mimetype": "text/x-python",
   "name": "python",
   "nbconvert_exporter": "python",
   "pygments_lexer": "ipython3",
   "version": "3.11.5"
  }
 },
 "nbformat": 4,
 "nbformat_minor": 5
}
