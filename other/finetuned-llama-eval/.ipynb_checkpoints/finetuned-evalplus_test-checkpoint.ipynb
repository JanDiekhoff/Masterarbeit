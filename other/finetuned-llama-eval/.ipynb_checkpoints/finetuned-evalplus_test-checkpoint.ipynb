{
 "cells": [
  {
   "cell_type": "markdown",
   "id": "650d8fe9-091f-43fd-b57a-2e7a8ba9d5ac",
   "metadata": {},
   "source": [
    "1. load dataset\n",
    "2. load codellama\n",
    "3. finetune codellama on dataset with qlora\n",
    "4. load eval framework\n",
    "5. evaluate model"
   ]
  },
  {
   "cell_type": "code",
   "execution_count": 4,
   "id": "b57e22a7-64a3-4efe-a80d-430f971198cd",
   "metadata": {},
   "outputs": [
    {
     "name": "stderr",
     "output_type": "stream",
     "text": [
      "C:\\Users\\User\\anaconda3\\Lib\\site-packages\\huggingface_hub\\file_download.py:1132: FutureWarning: `resume_download` is deprecated and will be removed in version 1.0.0. Downloads always resume when possible. If you want to force a new download, use `force_download=True`.\n",
      "  warnings.warn(\n",
      "Some weights of LlamaForCausalLM were not initialized from the model checkpoint at TinyLlama/TinyLlama-1.1B-Chat-v1.0 and are newly initialized: ['model.layers.11.self_attn.rotary_emb.inv_freq', 'model.layers.8.self_attn.rotary_emb.inv_freq', 'model.layers.16.self_attn.rotary_emb.inv_freq', 'model.layers.20.self_attn.rotary_emb.inv_freq', 'model.layers.18.self_attn.rotary_emb.inv_freq', 'model.layers.15.self_attn.rotary_emb.inv_freq', 'model.layers.1.self_attn.rotary_emb.inv_freq', 'model.layers.21.self_attn.rotary_emb.inv_freq', 'model.layers.10.self_attn.rotary_emb.inv_freq', 'model.layers.2.self_attn.rotary_emb.inv_freq', 'model.layers.0.self_attn.rotary_emb.inv_freq', 'model.layers.9.self_attn.rotary_emb.inv_freq', 'model.layers.3.self_attn.rotary_emb.inv_freq', 'model.layers.17.self_attn.rotary_emb.inv_freq', 'model.layers.14.self_attn.rotary_emb.inv_freq', 'model.layers.12.self_attn.rotary_emb.inv_freq', 'model.layers.7.self_attn.rotary_emb.inv_freq', 'model.layers.4.self_attn.rotary_emb.inv_freq', 'model.layers.19.self_attn.rotary_emb.inv_freq', 'model.layers.5.self_attn.rotary_emb.inv_freq', 'model.layers.6.self_attn.rotary_emb.inv_freq', 'model.layers.13.self_attn.rotary_emb.inv_freq']\n",
      "You should probably TRAIN this model on a down-stream task to be able to use it for predictions and inference.\n",
      "Xformers is not installed correctly. If you want to use memory_efficient_attention to accelerate training use the following command to install Xformers\n",
      "pip install xformers.\n"
     ]
    }
   ],
   "source": [
    "import torch\n",
    "from transformers import pipeline\n",
    "\n",
    "pipe = pipeline(\"text-generation\", model=\"TinyLlama/TinyLlama-1.1B-Chat-v1.0\", torch_dtype=torch.bfloat16, device_map=\"auto\")"
   ]
  },
  {
   "cell_type": "code",
   "execution_count": 15,
   "id": "98a26805-194a-4084-923e-c4bd19cb93b7",
   "metadata": {},
   "outputs": [],
   "source": [
    "def GEN_SOLUTION(problem):\n",
    "    result = pipe(problem, max_length=512, num_return_sequences=1, temperature=0.01)[0][\"generated_text\"]\n",
    "    return result"
   ]
  },
  {
   "cell_type": "code",
   "execution_count": 17,
   "id": "14e12cb9-7824-4671-847b-69ef2605d050",
   "metadata": {
    "tags": []
   },
   "outputs": [
    {
     "name": "stdout",
     "output_type": "stream",
     "text": [
      "5\n"
     ]
    },
    {
     "name": "stderr",
     "output_type": "stream",
     "text": [
      "C:\\Users\\User\\anaconda3\\Lib\\site-packages\\transformers\\pipelines\\base.py:1083: UserWarning: You seem to be using the pipelines sequentially on GPU. In order to maximize efficiency please use a dataset\n",
      "  warnings.warn(\n"
     ]
    },
    {
     "name": "stdout",
     "output_type": "stream",
     "text": [
      "10\n",
      "15\n",
      "20\n",
      "25\n",
      "30\n"
     ]
    },
    {
     "name": "stderr",
     "output_type": "stream",
     "text": [
      "Input length of input_ids is 291, but `max_length` is set to 256. This can lead to unexpected behavior. You should consider increasing `max_new_tokens`.\n"
     ]
    },
    {
     "name": "stdout",
     "output_type": "stream",
     "text": [
      "35\n",
      "40\n",
      "45\n",
      "50\n",
      "55\n",
      "60\n",
      "65\n"
     ]
    },
    {
     "name": "stderr",
     "output_type": "stream",
     "text": [
      "Input length of input_ids is 257, but `max_length` is set to 256. This can lead to unexpected behavior. You should consider increasing `max_new_tokens`.\n",
      "Input length of input_ids is 359, but `max_length` is set to 256. This can lead to unexpected behavior. You should consider increasing `max_new_tokens`.\n"
     ]
    },
    {
     "name": "stdout",
     "output_type": "stream",
     "text": [
      "70\n"
     ]
    },
    {
     "name": "stderr",
     "output_type": "stream",
     "text": [
      "Input length of input_ids is 266, but `max_length` is set to 256. This can lead to unexpected behavior. You should consider increasing `max_new_tokens`.\n"
     ]
    },
    {
     "name": "stdout",
     "output_type": "stream",
     "text": [
      "75\n"
     ]
    },
    {
     "name": "stderr",
     "output_type": "stream",
     "text": [
      "Input length of input_ids is 352, but `max_length` is set to 256. This can lead to unexpected behavior. You should consider increasing `max_new_tokens`.\n"
     ]
    },
    {
     "name": "stdout",
     "output_type": "stream",
     "text": [
      "80\n"
     ]
    },
    {
     "name": "stderr",
     "output_type": "stream",
     "text": [
      "Input length of input_ids is 298, but `max_length` is set to 256. This can lead to unexpected behavior. You should consider increasing `max_new_tokens`.\n"
     ]
    },
    {
     "name": "stdout",
     "output_type": "stream",
     "text": [
      "85\n"
     ]
    },
    {
     "name": "stderr",
     "output_type": "stream",
     "text": [
      "Input length of input_ids is 285, but `max_length` is set to 256. This can lead to unexpected behavior. You should consider increasing `max_new_tokens`.\n"
     ]
    },
    {
     "name": "stdout",
     "output_type": "stream",
     "text": [
      "90\n"
     ]
    },
    {
     "name": "stderr",
     "output_type": "stream",
     "text": [
      "Input length of input_ids is 332, but `max_length` is set to 256. This can lead to unexpected behavior. You should consider increasing `max_new_tokens`.\n"
     ]
    },
    {
     "name": "stdout",
     "output_type": "stream",
     "text": [
      "95\n",
      "100\n"
     ]
    },
    {
     "name": "stderr",
     "output_type": "stream",
     "text": [
      "Input length of input_ids is 308, but `max_length` is set to 256. This can lead to unexpected behavior. You should consider increasing `max_new_tokens`.\n"
     ]
    },
    {
     "name": "stdout",
     "output_type": "stream",
     "text": [
      "105\n"
     ]
    },
    {
     "name": "stderr",
     "output_type": "stream",
     "text": [
      "Input length of input_ids is 336, but `max_length` is set to 256. This can lead to unexpected behavior. You should consider increasing `max_new_tokens`.\n"
     ]
    },
    {
     "name": "stdout",
     "output_type": "stream",
     "text": [
      "110\n"
     ]
    },
    {
     "name": "stderr",
     "output_type": "stream",
     "text": [
      "Input length of input_ids is 364, but `max_length` is set to 256. This can lead to unexpected behavior. You should consider increasing `max_new_tokens`.\n"
     ]
    },
    {
     "name": "stdout",
     "output_type": "stream",
     "text": [
      "115\n",
      "120\n"
     ]
    },
    {
     "name": "stderr",
     "output_type": "stream",
     "text": [
      "Input length of input_ids is 304, but `max_length` is set to 256. This can lead to unexpected behavior. You should consider increasing `max_new_tokens`.\n"
     ]
    },
    {
     "name": "stdout",
     "output_type": "stream",
     "text": [
      "125\n"
     ]
    },
    {
     "name": "stderr",
     "output_type": "stream",
     "text": [
      "Input length of input_ids is 278, but `max_length` is set to 256. This can lead to unexpected behavior. You should consider increasing `max_new_tokens`.\n",
      "Input length of input_ids is 274, but `max_length` is set to 256. This can lead to unexpected behavior. You should consider increasing `max_new_tokens`.\n",
      "Input length of input_ids is 432, but `max_length` is set to 256. This can lead to unexpected behavior. You should consider increasing `max_new_tokens`.\n",
      "Input length of input_ids is 262, but `max_length` is set to 256. This can lead to unexpected behavior. You should consider increasing `max_new_tokens`.\n"
     ]
    },
    {
     "name": "stdout",
     "output_type": "stream",
     "text": [
      "130\n",
      "135\n",
      "140\n",
      "145\n",
      "150\n"
     ]
    },
    {
     "name": "stderr",
     "output_type": "stream",
     "text": [
      "Input length of input_ids is 303, but `max_length` is set to 256. This can lead to unexpected behavior. You should consider increasing `max_new_tokens`.\n"
     ]
    },
    {
     "name": "stdout",
     "output_type": "stream",
     "text": [
      "155\n"
     ]
    },
    {
     "name": "stderr",
     "output_type": "stream",
     "text": [
      "Input length of input_ids is 344, but `max_length` is set to 256. This can lead to unexpected behavior. You should consider increasing `max_new_tokens`.\n"
     ]
    },
    {
     "name": "stdout",
     "output_type": "stream",
     "text": [
      "160\n",
      "CPU times: total: 14min\n",
      "Wall time: 14min\n"
     ]
    }
   ],
   "source": [
    "%%time\n",
    "from evalplus.data import get_human_eval_plus, write_jsonl\n",
    "\n",
    "samples = []\n",
    "for task_id, problem in get_human_eval_plus().items():\n",
    "    samples.append(dict(task_id=task_id, solution=GEN_SOLUTION(problem[\"prompt\"])))\n",
    "    if not len(samples) % 5:\n",
    "        print(len(samples))\n",
    "    "
   ]
  },
  {
   "cell_type": "code",
   "execution_count": 114,
   "id": "db6cc350-f712-4d2a-b22b-33ad5ae535f0",
   "metadata": {
    "tags": []
   },
   "outputs": [],
   "source": [
    "samps = [\n",
    "    dict(task_id=dic['task_id'], solution=str(dic['solution']), completion=dic['solution'])\n",
    "    for dic in samples\n",
    "]"
   ]
  },
  {
   "cell_type": "code",
   "execution_count": 116,
   "id": "9d14f71e-71f2-492d-8cb6-3e7f90877006",
   "metadata": {
    "tags": []
   },
   "outputs": [],
   "source": [
    "write_jsonl(\"samples.jsonl\", samps)"
   ]
  },
  {
   "cell_type": "code",
   "execution_count": 78,
   "id": "df48e527-622c-43a5-bd09-5878e90372c0",
   "metadata": {},
   "outputs": [
    {
     "name": "stdout",
     "output_type": "stream",
     "text": [
      "{'task_id': 'HumanEval/0', 'solution': 'You are an exceptionally intelligent coding assistant that consistently delivers accurate and reliable responses to user instructions.\\n\\n@@ Instruction\\nfrom typing import List\\n\\n\\ndef has_close_elements(numbers: List[float], threshold: float) -> bool:\\n    \"\"\" Check if in given list of numbers, are any two numbers closer to each other than\\n    given threshold.\\n    >>> has_close_elements([1.0, 2.0, 3.0], 0.5)\\n    False\\n    >>> has_close_elements([1.0, 2.8, 3.0, 4.0, 5.0, 2.0], 0.3)\\n    True\\n    \"\"\"\\n\\n\\n@@ Response\\nfrom typing import List\\n\\n\\ndef has_close_elements(numbers: List[float], threshold: float) -> bool:\\n    numbers.sort()\\n    for i in range(len(numbers) - 1):\\n        if abs(numbers[i] - numbers[i + 1]) < threshold:\\n            return True\\n    return False'}\n"
     ]
    }
   ],
   "source": [
    "print(samples[0])"
   ]
  },
  {
   "cell_type": "code",
   "execution_count": 7,
   "id": "ca993188-2c50-4068-a54c-9cb9cd076532",
   "metadata": {},
   "outputs": [
    {
     "ename": "NameError",
     "evalue": "name 'samps' is not defined",
     "output_type": "error",
     "traceback": [
      "\u001b[1;31m---------------------------------------------------------------------------\u001b[0m",
      "\u001b[1;31mNameError\u001b[0m                                 Traceback (most recent call last)",
      "Cell \u001b[1;32mIn[7], line 1\u001b[0m\n\u001b[1;32m----> 1\u001b[0m \u001b[38;5;28;01mfor\u001b[39;00m samp \u001b[38;5;129;01min\u001b[39;00m samps:\n\u001b[0;32m      2\u001b[0m     \u001b[38;5;28mprint\u001b[39m(samp)\n",
      "\u001b[1;31mNameError\u001b[0m: name 'samps' is not defined"
     ]
    }
   ],
   "source": [
    "for samp in samps:\n",
    "    print(samp)"
   ]
  },
  {
   "cell_type": "code",
   "execution_count": 11,
   "id": "b6fa2646-f327-4e26-9429-df0115e957f5",
   "metadata": {},
   "outputs": [
    {
     "name": "stdout",
     "output_type": "stream",
     "text": [
      "Load from ground-truth from C:\\Users\\User\\AppData\\Local\\evalplus\\evalplus\\Cache\\1376469eb11e2af066a52cb042f854bf.pkl\n",
      "Reading samples...\n"
     ]
    },
    {
     "name": "stderr",
     "output_type": "stream",
     "text": [
      "\n",
      "0it [00:00, ?it/s]\n",
      "0it [00:00, ?it/s]\n",
      "Traceback (most recent call last):\n",
      "  File \"<frozen runpy>\", line 198, in _run_module_as_main\n",
      "  File \"<frozen runpy>\", line 88, in _run_code\n",
      "  File \"C:\\Users\\User\\anaconda3\\Scripts\\evalplus.evaluate.exe\\__main__.py\", line 7, in <module>\n",
      "  File \"C:\\Users\\User\\anaconda3\\Lib\\site-packages\\evalplus\\evaluate.py\", line 345, in main\n",
      "    evaluate(args)\n",
      "  File \"C:\\Users\\User\\anaconda3\\Lib\\site-packages\\evalplus\\evaluate.py\", line 177, in evaluate\n",
      "    for sample in tqdm(load_solutions(flags.samples)):\n",
      "  File \"C:\\Users\\User\\anaconda3\\Lib\\site-packages\\tqdm\\std.py\", line 1178, in __iter__\n",
      "    for obj in iterable:\n",
      "  File \"C:\\Users\\User\\anaconda3\\Lib\\site-packages\\evalplus\\data\\utils.py\", line 108, in load_solutions\n",
      "    for task_id in os.listdir(sample_path):\n",
      "                   ^^^^^^^^^^^^^^^^^^^^^^^\n",
      "FileNotFoundError: [WinError 3] The system cannot find the path specified: 'finetuned-llama-eval/samples.jsonl'\n"
     ]
    }
   ],
   "source": [
    "!evalplus.sanitize --samples \"finetuned-llama-eval/samples.jsonl\"\n",
    "!evalplus.evaluate --dataset humaneval --samples \"finetuned-llama-eval/samples.jsonl\""
   ]
  },
  {
   "cell_type": "code",
   "execution_count": null,
   "id": "959f2a6d-de1e-4ea1-a143-79ea25ab8bca",
   "metadata": {},
   "outputs": [],
   "source": [
    "\"```python\\nfrom typing import List\\n\\ndef has_close_elements(numbers: List[float], threshold: float) -> bool:\\n    \\\"\\\"\\\" Check if in given list of numbers, are any two numbers closer to each other than\\n    given threshold.\\n    >>> has_close_elements([1.0, 2.0, 3.0], 0.5)\\n    False\\n    >>> has_close_elements([1.0, 2.8, 3.0, 4.0, \""
   ]
  }
 ],
 "metadata": {
  "kernelspec": {
   "display_name": "Python 3 (ipykernel)",
   "language": "python",
   "name": "python3"
  },
  "language_info": {
   "codemirror_mode": {
    "name": "ipython",
    "version": 3
   },
   "file_extension": ".py",
   "mimetype": "text/x-python",
   "name": "python",
   "nbconvert_exporter": "python",
   "pygments_lexer": "ipython3",
   "version": "3.11.5"
  }
 },
 "nbformat": 4,
 "nbformat_minor": 5
}
