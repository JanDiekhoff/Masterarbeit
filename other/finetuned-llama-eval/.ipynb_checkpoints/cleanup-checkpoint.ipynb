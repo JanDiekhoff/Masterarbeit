{
 "cells": [
  {
   "cell_type": "code",
   "execution_count": 40,
   "id": "d9674504-868d-47c5-bc0d-1673542deaa3",
   "metadata": {
    "tags": []
   },
   "outputs": [],
   "source": [
    "import pandas as pd    \n",
    "jsonObj = pd.read_json(path_or_buf=\"samples.jsonl\", lines=True)"
   ]
  },
  {
   "cell_type": "code",
   "execution_count": 42,
   "id": "31d8d29b-ec53-4925-a265-804f4938bc36",
   "metadata": {
    "tags": []
   },
   "outputs": [
    {
     "name": "stdout",
     "output_type": "stream",
     "text": [
      "           task_id                                           solution  \\\n",
      "0      HumanEval/0  You are an exceptionally intelligent coding as...   \n",
      "1      HumanEval/1  You are an exceptionally intelligent coding as...   \n",
      "2      HumanEval/2  You are an exceptionally intelligent coding as...   \n",
      "3      HumanEval/3  You are an exceptionally intelligent coding as...   \n",
      "4      HumanEval/4  You are an exceptionally intelligent coding as...   \n",
      "..             ...                                                ...   \n",
      "159  HumanEval/159  You are an exceptionally intelligent coding as...   \n",
      "160  HumanEval/160  You are an exceptionally intelligent coding as...   \n",
      "161  HumanEval/161  You are an exceptionally intelligent coding as...   \n",
      "162  HumanEval/162  You are an exceptionally intelligent coding as...   \n",
      "163  HumanEval/163  You are an exceptionally intelligent coding as...   \n",
      "\n",
      "                                            completion  \n",
      "0    You are an exceptionally intelligent coding as...  \n",
      "1    You are an exceptionally intelligent coding as...  \n",
      "2    You are an exceptionally intelligent coding as...  \n",
      "3    You are an exceptionally intelligent coding as...  \n",
      "4    You are an exceptionally intelligent coding as...  \n",
      "..                                                 ...  \n",
      "159  You are an exceptionally intelligent coding as...  \n",
      "160  You are an exceptionally intelligent coding as...  \n",
      "161  You are an exceptionally intelligent coding as...  \n",
      "162  You are an exceptionally intelligent coding as...  \n",
      "163  You are an exceptionally intelligent coding as...  \n",
      "\n",
      "[164 rows x 3 columns]\n"
     ]
    }
   ],
   "source": [
    "print(jsonObj)"
   ]
  },
  {
   "cell_type": "code",
   "execution_count": 48,
   "id": "6836de63-3f9d-4141-8c58-2018572f4c6e",
   "metadata": {
    "tags": []
   },
   "outputs": [],
   "source": [
    "i = 0\n",
    "for text in jsonObj['solution']:\n",
    "    jsonObj['solution'][i] = str(text).split(\"@@ Response\\n\")[1]\n",
    "    i += 1"
   ]
  },
  {
   "cell_type": "code",
   "execution_count": 50,
   "id": "96b3007f-93d6-4662-a180-fd2747def65b",
   "metadata": {
    "tags": []
   },
   "outputs": [
    {
     "name": "stdout",
     "output_type": "stream",
     "text": [
      "from typing import List\n",
      "\n",
      "\n",
      "def separate_paren_groups(paren_string: str) -> List[str]:\n",
      "    paren_string = paren_string.replace(\" \", \"\")\n",
      "    stack = []\n",
      "    result = []\n",
      "    temp = \"\"\n",
      "    for char in paren_string:\n",
      "        if char == \"(\":\n",
      "            stack.append(char)\n",
      "            temp\n"
     ]
    }
   ],
   "source": [
    "print(jsonObj['solution'][1])"
   ]
  },
  {
   "cell_type": "code",
   "execution_count": 55,
   "id": "9163a1db-a046-41b6-bb7e-211829edff71",
   "metadata": {
    "tags": []
   },
   "outputs": [],
   "source": [
    "samps = [\n",
    "    dict(task_id=jsonObj['task_id'][i], solution=str(jsonObj['solution'][i]))\n",
    "    for i in range(len(jsonObj['task_id']))\n",
    "]"
   ]
  },
  {
   "cell_type": "code",
   "execution_count": 58,
   "id": "122a2cbf-968d-4a0e-84dc-81cb58c09e6a",
   "metadata": {
    "tags": []
   },
   "outputs": [],
   "source": [
    "from evalplus.data import write_jsonl\n",
    "write_jsonl(\"samples.jsonl\", samps)"
   ]
  },
  {
   "cell_type": "code",
   "execution_count": null,
   "id": "a587170f-bbe9-43ba-b09c-76c8b8aac199",
   "metadata": {},
   "outputs": [],
   "source": []
  }
 ],
 "metadata": {
  "kernelspec": {
   "display_name": "Python 3 (ipykernel)",
   "language": "python",
   "name": "python3"
  },
  "language_info": {
   "codemirror_mode": {
    "name": "ipython",
    "version": 3
   },
   "file_extension": ".py",
   "mimetype": "text/x-python",
   "name": "python",
   "nbconvert_exporter": "python",
   "pygments_lexer": "ipython3",
   "version": "3.11.5"
  }
 },
 "nbformat": 4,
 "nbformat_minor": 5
}
