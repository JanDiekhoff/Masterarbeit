{
 "cells": [
  {
   "cell_type": "code",
   "execution_count": 1,
   "id": "32125c58-b985-4083-9431-ce5ae3d35b0d",
   "metadata": {},
   "outputs": [
    {
     "name": "stdout",
     "output_type": "stream",
     "text": [
      "Intel MKL WARNING: Support of Intel(R) Streaming SIMD Extensions 4.2 (Intel(R) SSE4.2) enabled only processors has been deprecated. Intel oneAPI Math Kernel Library 2025.0 will require Intel(R) Advanced Vector Extensions (Intel(R) AVX) instructions.\n",
      "Intel MKL WARNING: Support of Intel(R) Streaming SIMD Extensions 4.2 (Intel(R) SSE4.2) enabled only processors has been deprecated. Intel oneAPI Math Kernel Library 2025.0 will require Intel(R) Advanced Vector Extensions (Intel(R) AVX) instructions.\n"
     ]
    }
   ],
   "source": [
    "import csv\n",
    "import random\n",
    "from datasets import Dataset, DatasetDict"
   ]
  },
  {
   "cell_type": "markdown",
   "id": "f6dbd38c-9f4f-4697-9ea0-e52c2912c45b",
   "metadata": {},
   "source": [
    "### prep training examples"
   ]
  },
  {
   "cell_type": "code",
   "execution_count": 2,
   "id": "bdaaa4fa-7550-40e6-bd4a-83250b6783cd",
   "metadata": {},
   "outputs": [],
   "source": [
    "problem_list = []\n",
    "solution_list = []\n",
    "seed_list = []\n",
    "\n",
    "data = load_dataset(\"ise-uiuc/Magicoder-OSS-Instruct-75K\")"
   ]
  },
  {
   "cell_type": "code",
   "execution_count": null,
   "id": "fd6a8d1c-be84-40c9-ad2b-52ecc2c54b11",
   "metadata": {},
   "outputs": [
    {
     "name": "stdout",
     "output_type": "stream",
     "text": [
      "<s>[INST] ShawGPT, functioning as a virtual data science consultant on YouTube, communicates in clear, accessible language, escalating to technical depth upon request. It reacts to feedback aptly and ends responses with its signature '–ShawGPT'. ShawGPT will tailor the length of its responses to match the viewer's comment, providing concise acknowledgments to brief expressions of gratitude or feedback, thus keeping the interaction natural and engaging.\n",
      "\n",
      "Please respond to the following comment.\n",
      " \n",
      "Very clear, thanks! The examples with the mic and blinks were a great inclusion imo. They made ICA much easier to understand while also displaying the practical application in a fun way :) \n",
      "[/INST]\n",
      "Glad it was helpful! -ShawGPT</s>\n"
     ]
    }
   ],
   "source": [
    "intstructions_string = f\"\"\"\n",
    "\"\"\"\n",
    "\n",
    "example_template = lambda comment, response: f'''<s>[INST] {intstructions_string} \\n{comment} \\n[/INST]\\n''' + response + \"</s>\"\n",
    "\n",
    "example_list = []\n",
    "for i in range(len(comment_list)):\n",
    "    example = example_template(comment_list[i],response_list[i])\n",
    "    example_list.append(example)\n",
    "\n",
    "print(example_list[10])"
   ]
  },
  {
   "cell_type": "code",
   "execution_count": null,
   "id": "c2806b44-2b2d-4a60-bb53-635bbb563f6c",
   "metadata": {},
   "outputs": [],
   "source": [
    "test_index_list = random.sample(range(0, len(example_list)-1), 9)\n",
    "\n",
    "test_list = [example_list[index] for index in test_index_list]\n",
    "\n",
    "for example in test_list:\n",
    "    example_list.remove(example)"
   ]
  },
  {
   "cell_type": "markdown",
   "id": "931860be-fbd2-48cd-9d62-382981476c6e",
   "metadata": {},
   "source": [
    "### create HF dataest"
   ]
  },
  {
   "cell_type": "code",
   "execution_count": 7,
   "id": "9fa95664-1ea8-4296-aea0-1bdb2f9d37e4",
   "metadata": {},
   "outputs": [],
   "source": [
    "data = DatasetDict({'train':Dataset.from_dict({\"example\":example_list}), 'test':Dataset.from_dict({\"example\":test_list})})"
   ]
  },
  {
   "cell_type": "code",
   "execution_count": 8,
   "id": "a586cfe4-7206-4f27-9c55-6e120bfed587",
   "metadata": {},
   "outputs": [
    {
     "data": {
      "text/plain": [
       "DatasetDict({\n",
       "    train: Dataset({\n",
       "        features: ['example'],\n",
       "        num_rows: 50\n",
       "    })\n",
       "    test: Dataset({\n",
       "        features: ['example'],\n",
       "        num_rows: 9\n",
       "    })\n",
       "})"
      ]
     },
     "execution_count": 8,
     "metadata": {},
     "output_type": "execute_result"
    }
   ],
   "source": [
    "data"
   ]
  }
 ],
 "metadata": {
  "kernelspec": {
   "display_name": "Python 3 (ipykernel)",
   "language": "python",
   "name": "python3"
  },
  "language_info": {
   "codemirror_mode": {
    "name": "ipython",
    "version": 3
   },
   "file_extension": ".py",
   "mimetype": "text/x-python",
   "name": "python",
   "nbconvert_exporter": "python",
   "pygments_lexer": "ipython3",
   "version": "3.11.5"
  }
 },
 "nbformat": 4,
 "nbformat_minor": 5
}
